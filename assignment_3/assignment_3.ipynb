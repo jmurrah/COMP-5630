{
  "cells": [
    {
      "cell_type": "markdown",
      "metadata": {
        "id": "lEfEJVmSXS_h"
      },
      "source": [
        "# Assignment-3 COMP-5630 Jacob Murrah\n",
        "## README\n",
        "This notebook implements natural language processing tasks focusing on word embeddings, n-gram classification, and sequence-to-sequence models for text summarization. It explores different embedding techniques, evaluates n-gram features for classification, and implements RNN-based models for summarizing legislative text.\n",
        "\n",
        "## Dependencies\n",
        "- **Python 3.x**\n",
        "- **matplotlib**\n",
        "- **seaborn**\n",
        "- **nltk**\n",
        "- **numpy==1.26.4**\n",
        "- **torch==2.2.2**\n",
        "- **transformers==4.50.3**\n",
        "- **datasets==2.18.0**\n",
        "- **scipy==1.12.0**\n",
        "- **pandas==2.1.4**\n",
        "- **scikit-learn==1.4.0**\n",
        "- **gensim==4.3.2**\n",
        "- **evaluate==0.4.1**\n",
        "\n",
        "## Instructions\n",
        "1) Run the cell with the skip cell magic function defined. Marked with the # SKIP MAGIC FUNCTION comment.\n",
        "2) Run the cell beginning with %%skip and marked with the # DOWNLOAD PACKAGES CELL comment.\n",
        "3) After downloads are complete the runtime will be disconnected and you will see an associated message.\n",
        "4) Reconnect the runtime and click on \\\"Runtime\\\" > \\\"Run all\\\" to execute the entire notebook sequentially.\n",
        "6) The notebook is organized into several sections. Ensure that all cells run without errors."
      ]
    },
    {
      "cell_type": "code",
      "execution_count": 1,
      "metadata": {
        "id": "RlReYxVjagE9"
      },
      "outputs": [],
      "source": [
        "SKIP_INSTALL = True"
      ]
    },
    {
      "cell_type": "code",
      "execution_count": 2,
      "metadata": {
        "id": "emr_zPDbDzTV"
      },
      "outputs": [],
      "source": [
        "# SKIP MAGIC FUNCTION\n",
        "from IPython.core.magic import register_cell_magic\n",
        "\n",
        "@register_cell_magic\n",
        "def skip(line, cell):\n",
        "  if globals().get('SKIP_INSTALL', False):\n",
        "    print(\"Skipping installation cell.\")\n",
        "  else:\n",
        "    get_ipython().run_cell(cell)"
      ]
    },
    {
      "cell_type": "code",
      "execution_count": 3,
      "metadata": {
        "id": "yj6sNu9vcAt6"
      },
      "outputs": [],
      "source": [
        "# SKIP_INSTALL = False"
      ]
    },
    {
      "cell_type": "code",
      "execution_count": 4,
      "metadata": {
        "colab": {
          "base_uri": "https://localhost:8080/"
        },
        "id": "b9A3z2JkJ2R7",
        "outputId": "cc518b72-ab12-49a6-f01d-5fc38d632e97"
      },
      "outputs": [
        {
          "output_type": "stream",
          "name": "stdout",
          "text": [
            "Skipping installation cell.\n"
          ]
        }
      ],
      "source": [
        "%%skip\n",
        "# DOWNLOAD PACKAGES CELL\n",
        "import contextlib\n",
        "import io\n",
        "import time\n",
        "import sys\n",
        "import subprocess\n",
        "import re\n",
        "import os\n",
        "\n",
        "def capture_output():\n",
        "  return contextlib.redirect_stdout(io.StringIO())\n",
        "\n",
        "print(\"Downloads take ~5 minutes but are required for version compatiability!\")\n",
        "time.sleep(1)\n",
        "\n",
        "with capture_output():\n",
        "  package_versions = {\n",
        "    \"numpy\": \"1.26.4\",\n",
        "    \"torch\": \"2.2.2\",\n",
        "    \"transformers\": \"4.50.3\",\n",
        "    \"datasets\": \"2.18.0\",\n",
        "    \"scipy\": \"1.12.0\",\n",
        "    \"pandas\": \"2.1.4\",\n",
        "    \"scikit-learn\": \"1.4.0\",\n",
        "    \"gensim\": \"4.3.2\",\n",
        "    \"evaluate\": \"0.4.1\"\n",
        "  }\n",
        "\n",
        "  # get cuda version\n",
        "  cuda_version_str = \"N/A\"\n",
        "  cuda_major_minor = None\n",
        "  nvcc_output = subprocess.check_output(['nvcc', '--version']).decode('utf-8')\n",
        "  match_obj = re.search(r'release (\\d+\\.\\d+)', nvcc_output)\n",
        "  if match_obj:\n",
        "    cuda_version_str = match_obj.group(1)\n",
        "    cuda_major_minor = \"\".join(cuda_version_str.split('.'))\n",
        "\n",
        "  # pytorch installation\n",
        "  pytorch_version = package_versions[\"torch\"]\n",
        "  pytorch_cuda_suffix = \"cu118\"\n",
        "  if cuda_major_minor and int(cuda_major_minor) >= 121:\n",
        "    pytorch_cuda_suffix = \"cu121\"\n",
        "\n",
        "  torchvision_version = \"0.17.2\"\n",
        "  torchaudio_version = \"2.2.2\"\n",
        "  pytorch_index_url = f\"https://download.pytorch.org/whl/{pytorch_cuda_suffix}\"\n",
        "\n",
        "  pytorch_install_command = (\n",
        "    f\"pip3 install \"\n",
        "    f\"torch=={pytorch_version}+{pytorch_cuda_suffix} \"\n",
        "    f\"torchvision=={torchvision_version}+{pytorch_cuda_suffix} \"\n",
        "    f\"torchaudio=={torchaudio_version}+{pytorch_cuda_suffix} \"\n",
        "    f\"--index-url {pytorch_index_url} --upgrade --no-cache-dir\"\n",
        "  )\n",
        "  get_ipython().system(pytorch_install_command)\n",
        "\n",
        "  # install specified packages\n",
        "  get_ipython().system('pip3 uninstall transformers -y')\n",
        "  packages_to_install = [\n",
        "    f\"{pkg}=={ver}\" for pkg, ver in package_versions.items() if pkg != \"torch\"\n",
        "  ]\n",
        "  other_packages_install_command = (\n",
        "    \"pip3 install --upgrade --no-cache-dir \" + \" \".join(packages_to_install)\n",
        "  )\n",
        "\n",
        "  get_ipython().system(other_packages_install_command)\n",
        "  get_ipython().system(\n",
        "    'pip install \"huggingface_hub[hf_xet]\" --upgrade --no-cache-dir'\n",
        "  )\n",
        "\n",
        "# restart environment\n",
        "print(\"Package installation completed successfully!\")\n",
        "os._exit(0)"
      ]
    },
    {
      "cell_type": "code",
      "execution_count": 5,
      "metadata": {
        "colab": {
          "base_uri": "https://localhost:8080/"
        },
        "id": "crWLttL5M5VI",
        "outputId": "b6bfd768-0998-4de4-e21c-2c9020d68f17"
      },
      "outputs": [
        {
          "output_type": "stream",
          "name": "stdout",
          "text": [
            "2.2.2+cu121\n"
          ]
        }
      ],
      "source": [
        "# basic imports\n",
        "import gensim\n",
        "import numpy as np\n",
        "import pandas as pd\n",
        "import sklearn as sk\n",
        "import matplotlib.pyplot as plt\n",
        "import seaborn as sns\n",
        "import re\n",
        "import string\n",
        "\n",
        "import importlib.metadata\n",
        "import sys\n",
        "version = importlib.metadata.version(\"torch\")\n",
        "print(version)"
      ]
    },
    {
      "cell_type": "markdown",
      "metadata": {
        "id": "pE5wn2vIqw0Z"
      },
      "source": [
        "# Part 1. Word Embeddings and N-gram"
      ]
    },
    {
      "cell_type": "code",
      "execution_count": 6,
      "metadata": {
        "id": "lr6cxAY9X18x"
      },
      "outputs": [],
      "source": [
        "import nltk\n",
        "from nltk.corpus import twitter_samples, stopwords\n",
        "from nltk.stem import PorterStemmer\n",
        "from nltk.tokenize import TweetTokenizer\n",
        "\n",
        "import gensim.downloader as api\n",
        "from gensim.models import FastText, Word2Vec\n",
        "from gensim.test.utils import datapath\n",
        "\n",
        "from sklearn.metrics.pairwise import cosine_similarity\n",
        "\n",
        "import re\n",
        "import string"
      ]
    },
    {
      "cell_type": "markdown",
      "metadata": {
        "id": "E6EywEfqWt0K"
      },
      "source": [
        "## Part 1. (1a-1b) You will examine two-word embeddings. You are given the following words:\n",
        "\n",
        "Dog, Bark, Tree, Bank, River, Money.\n",
        "\n",
        "Do the following:\n",
        "- Use Glove-twitter-50D word2vec and compute nxn matrices using cosine similarities for the given words.\n",
        "- Use FastText and compute nxn matrices using cosine similarities for the given words."
      ]
    },
    {
      "cell_type": "code",
      "execution_count": 7,
      "metadata": {
        "colab": {
          "base_uri": "https://localhost:8080/"
        },
        "id": "VsoKj7EaDwhF",
        "outputId": "2bad18c3-1097-4ab2-87c5-0b57277f8049"
      },
      "outputs": [
        {
          "output_type": "stream",
          "name": "stderr",
          "text": [
            "[nltk_data] Downloading package twitter_samples to /root/nltk_data...\n",
            "[nltk_data]   Unzipping corpora/twitter_samples.zip.\n",
            "[nltk_data] Downloading package stopwords to /root/nltk_data...\n",
            "[nltk_data]   Unzipping corpora/stopwords.zip.\n"
          ]
        },
        {
          "output_type": "stream",
          "name": "stdout",
          "text": [
            "[==================================================] 100.0% 199.5/199.5MB downloaded\n",
            "downloads completed!\n"
          ]
        }
      ],
      "source": [
        "# download glove-twitter-50 model\n",
        "nltk.download(\"twitter_samples\")\n",
        "nltk.download('stopwords')\n",
        "if \"glove\" not in globals():\n",
        "  glove = api.load(\"glove-twitter-50\")\n",
        "\n",
        "print(\"downloads completed!\")"
      ]
    },
    {
      "cell_type": "code",
      "execution_count": 8,
      "metadata": {
        "colab": {
          "base_uri": "https://localhost:8080/"
        },
        "id": "9i94n6xsc6eW",
        "outputId": "3833a6e1-35bd-47b1-b025-4710a5f1a1ac"
      },
      "outputs": [
        {
          "output_type": "stream",
          "name": "stdout",
          "text": [
            "Number of tweets: 10000\n"
          ]
        }
      ],
      "source": [
        "# data preprocessing\n",
        "# https://www.kaggle.com/code/piyushagni5/sentiment-analysis-on-twitter-dataset-nlp\n",
        "def process_tweet(tweet):\n",
        "  stemmer = PorterStemmer()\n",
        "  stopwords_english = stopwords.words('english')\n",
        "\n",
        "  tweet = re.sub(r'\\$\\w*', '', tweet)\n",
        "  tweet = re.sub(r'^RT[\\s]+', '', tweet)\n",
        "  tweet = re.sub(r'https?:\\/\\/.*[\\r\\n]*', '', tweet)\n",
        "  tweet = re.sub(r'#', '', tweet)\n",
        "\n",
        "  tokenizer = TweetTokenizer(\n",
        "    preserve_case=False, strip_handles=True, reduce_len=True\n",
        "  )\n",
        "  tweet_tokens = tokenizer.tokenize(tweet)\n",
        "\n",
        "  tweets_clean = []\n",
        "  for word in tweet_tokens:\n",
        "    if (word not in stopwords_english and word not in string.punctuation):\n",
        "      stem_word = stemmer.stem(word)\n",
        "      tweets_clean.append(stem_word)\n",
        "\n",
        "  return tweets_clean\n",
        "\n",
        "negative_tweets = twitter_samples.strings(\"negative_tweets.json\")\n",
        "positive_tweets = twitter_samples.strings(\"positive_tweets.json\")\n",
        "common_texts = [\n",
        "  process_tweet(tweet)\n",
        "  for tweet_list in [negative_tweets, positive_tweets]\n",
        "  for tweet in tweet_list\n",
        "]\n",
        "print(f\"Number of tweets: {len(common_texts)}\")"
      ]
    },
    {
      "cell_type": "code",
      "execution_count": 9,
      "metadata": {
        "colab": {
          "base_uri": "https://localhost:8080/"
        },
        "id": "3xrAbDUoNRKI",
        "outputId": "c66fe334-af6e-4876-da53-f51b4cd8ce5f"
      },
      "outputs": [
        {
          "output_type": "stream",
          "name": "stdout",
          "text": [
            "done training models!\n"
          ]
        }
      ],
      "source": [
        "# train the Word2Vec and FastText models\n",
        "# NOTE: our GloVe w2v model is already loaded\n",
        "if \"w2v\" not in globals():\n",
        "  w2v = Word2Vec(sentences=common_texts, vector_size=50, window=5, min_count=1)\n",
        "if \"ft\" not in globals():\n",
        "  ft = FastText(\n",
        "    vector_size=50, window=5, min_count=1, sentences=common_texts, epochs=10\n",
        "  )\n",
        "print(\"done training models!\")"
      ]
    },
    {
      "cell_type": "code",
      "execution_count": 10,
      "metadata": {
        "id": "O07OA-G4ZNh5"
      },
      "outputs": [],
      "source": [
        "# create similarity matrices of the words for each model\n",
        "def create_similarity_matrix(model, words, glove_model=False):\n",
        "  if glove_model:\n",
        "    common_text_words = set([word for text in common_texts for word in text])\n",
        "    glove_words = [\n",
        "      word.lower() for word in glove.key_to_index\n",
        "      if word.lower() in common_text_words\n",
        "    ]\n",
        "    words_in_model = [w for w in words if w in glove_words]\n",
        "  else:\n",
        "    words_in_model = [w for w in words if w in model.wv]\n",
        "\n",
        "  word_vectors = np.array(\n",
        "    [\n",
        "      model.get_vector(word) if glove_model else model.wv[word]\n",
        "      for word in words_in_model\n",
        "    ]\n",
        "  )\n",
        "  similarity_matrix = cosine_similarity(word_vectors)\n",
        "  return similarity_matrix, words_in_model\n",
        "\n",
        "words = [\"dog\", \"bark\", \"tree\", \"bank\", \"river\", \"money\"]\n",
        "glove_matrix, words_in_glove = create_similarity_matrix(\n",
        "  glove, words, glove_model=True\n",
        ")\n",
        "w2v_matrix, words_in_w2v = create_similarity_matrix(w2v, words)\n",
        "ft_matrix, words_in_ft = create_similarity_matrix(ft, words)"
      ]
    },
    {
      "cell_type": "code",
      "execution_count": 11,
      "metadata": {
        "colab": {
          "base_uri": "https://localhost:8080/",
          "height": 385
        },
        "id": "VCiS0O2fAB6i",
        "outputId": "4809b4f4-5af3-4659-a745-171c04c42ae0"
      },
      "outputs": [
        {
          "output_type": "display_data",
          "data": {
            "text/plain": [
              "<Figure size 1800x500 with 6 Axes>"
            ],
            "image/png": "[encoded data removed]"
          },
          "metadata": {}
        }
      ],
      "source": [
        "# plot the similarity matrices for each model\n",
        "def plot_similarity_matrices(matrices, words_lists, titles):\n",
        "  n = len(matrices)\n",
        "  fig, axes = plt.subplots(1, n, figsize=(n * 6, 5))\n",
        "  for i in range(n):\n",
        "    sns.heatmap(\n",
        "      matrices[i],\n",
        "      annot=True,\n",
        "      fmt=\".2f\",\n",
        "      cmap=\"YlGnBu\",\n",
        "      xticklabels=words_lists[i],\n",
        "      yticklabels=words_lists[i],\n",
        "      ax=axes[i]\n",
        "    )\n",
        "    axes[i].set_title(titles[i], fontsize=14)\n",
        "\n",
        "  plt.tight_layout()\n",
        "  plt.show()\n",
        "\n",
        "matrices = [glove_matrix, w2v_matrix, ft_matrix]\n",
        "words_lists = [words_in_glove, words_in_w2v, words_in_ft]\n",
        "titles = [\"GloVe Similarity\", \"Word2Vec Similarity\", \"FastText Similarity\"]\n",
        "plot_similarity_matrices(matrices, words_lists, titles)"
      ]
    },
    {
      "cell_type": "markdown",
      "metadata": {
        "id": "x8JCOqOqBtMx"
      },
      "source": [
        "## Part 1. (1c) Which embedding captures better semantics? Justify your answer.<br>\n",
        "**Answer:** Based on the similarity scores between the 6 words, the GloVe model is better at capturing the semantics, i.e the meaning, of the words. The FastText model is a close second. Since there is not a universal standard similarity score for these specific word pairs I am using my own understanding of the english language to evaluate.\n",
        "\n",
        "Words with multiple meanings:\n",
        "- Bark: Dog barking or tree bark\n",
        "- Bank: River bank or a bank that manages money\n",
        "\n",
        "Related pairs:\n",
        "- Dog-Bark\n",
        "- Tree-Bark\n",
        "- Money-Bank\n",
        "- River-Bank\n",
        "\n",
        "Model Evaluation:\n",
        "- **GloVe:** The similarity matrix shows clear differentiation between semantically distinct words. For example, the similarity between “bark” and “bank” is extremely low and the similarity between \"money\" and \"bank\" is relatively high.\n",
        "- **Word2Vec:** Shows high similarity scores across most of the pairs and does not differentiate unrelated words. For example, the words \"dog\" and \"tree\" are unrelated but have an extremely high similarity score.\n",
        "- **FastText:** Is able to capture semantic of words but at a more moderate extent than GloVe. This moderate scoring does not differentiate as clearly between related and unrelated pairs as GloVe does.\n",
        "\n",
        "Based only on their 6-word similarity matrices, the GloVe model provides more realistic similarity scores and thus captures the semantic similarities between words better than the other models."
      ]
    },
    {
      "cell_type": "code",
      "execution_count": 12,
      "metadata": {
        "colab": {
          "base_uri": "https://localhost:8080/"
        },
        "id": "iSAX_NSMEwsJ",
        "outputId": "a89f337d-15c6-4313-cfa0-7f0c998c99aa"
      },
      "outputs": [
        {
          "output_type": "stream",
          "name": "stdout",
          "text": [
            "GloVe Spearman Measurements:\n",
            " - Coefficient: 0.0975\n",
            " - P-Value: 0.0021\n",
            "Word2Vec Spearman Measurements:\n",
            " - Coefficient: -0.0285\n",
            " - P-Value: 0.6008\n",
            "FastText Spearman Measurements:\n",
            " - Coefficient: 0.0209\n",
            " - P-Value: 0.7014\n"
          ]
        }
      ],
      "source": [
        "benchmark = \"simlex999.txt\"\n",
        "result_glove = glove.evaluate_word_pairs(datapath(benchmark))\n",
        "result_w2v = w2v.wv.evaluate_word_pairs(datapath(benchmark))\n",
        "result_ft = ft.wv.evaluate_word_pairs(datapath(benchmark))\n",
        "\n",
        "print(f\"GloVe Spearman Measurements:\")\n",
        "print(f\" - Coefficient: {result_glove[1][0]:.4f}\")\n",
        "print(f\" - P-Value: {result_glove[1][1]:.4f}\")\n",
        "\n",
        "print(f\"Word2Vec Spearman Measurements:\")\n",
        "print(f\" - Coefficient: {result_w2v[1][0]:.4f}\")\n",
        "print(f\" - P-Value: {result_w2v[1][1]:.4f}\")\n",
        "\n",
        "print(f\"FastText Spearman Measurements:\")\n",
        "print(f\" - Coefficient: {result_ft[1][0]:.4f}\")\n",
        "print(f\" - P-Value: {result_ft[1][1]:.4f}\")"
      ]
    },
    {
      "cell_type": "markdown",
      "metadata": {
        "id": "HcIbTVPtT7YI"
      },
      "source": [
        "## Part 1. (1c) Continued analysis...<br>\n",
        "**Answer:** I wanted to see which model performed better on a larger set of words so I measured the Spearman Coefficients of each model on the 'simlex999' dataset. In our context, the Spearman Coefficient judges how well our model's predictions match a human's analysis of word pairs. A higher coefficient shows a better match. On the 'simlex999' dataset, the GloVe model achieves the highest Spearman coefficient and is the only model with a statistically significant p-value, indicating that it does the best at capturing overall semantic relationships across a broader range of word pairs."
      ]
    },
    {
      "cell_type": "markdown",
      "metadata": {
        "id": "vBEXJI1jYdWZ"
      },
      "source": [
        "## Part 1. (2a-2c) N-grams and Classification\n",
        "\n",
        "Do the following:\n",
        "- Split the data 70% training and 30% testing.\n",
        "- Extract n-grams for n in [1, 4]. unigram, bigram, trigram, 4-grams.\n",
        "- Build a logistic regression model using n-gram features."
      ]
    },
    {
      "cell_type": "code",
      "execution_count": 13,
      "metadata": {
        "id": "xECkSwbOaNnm"
      },
      "outputs": [],
      "source": [
        "import random\n",
        "from collections import defaultdict\n",
        "from sklearn.model_selection import train_test_split\n",
        "from sklearn.linear_model import LogisticRegression\n",
        "from sklearn.metrics import accuracy_score, classification_report\n",
        "from sklearn.feature_extraction.text import CountVectorizer\n",
        "from nltk.util import ngrams"
      ]
    },
    {
      "cell_type": "code",
      "execution_count": 14,
      "metadata": {
        "id": "UjHz3_gEZ8_E"
      },
      "outputs": [],
      "source": [
        "# split the data into 70% training and 30% testing\n",
        "seed = 2025\n",
        "random.seed(seed)\n",
        "labels = np.array([0] * len(negative_tweets) + [1] * len(positive_tweets))\n",
        "train_texts, test_texts, train_labels, test_labels = train_test_split(\n",
        "  common_texts, labels, test_size=0.3, random_state=seed\n",
        ")"
      ]
    },
    {
      "cell_type": "code",
      "execution_count": 15,
      "metadata": {
        "id": "eBHZT0Rra0hM"
      },
      "outputs": [],
      "source": [
        "# extract n-grams for n in [1, 4]. unigram, bigram, trigram, 4grams.\n",
        "def get_text_ngrams(text, n_range):\n",
        "  text_ngrams = []\n",
        "  for i in n_range:\n",
        "    text_string = [\"_\".join(gram) for gram in list(ngrams(text, i))]\n",
        "    text_ngrams.extend(text_string)\n",
        "\n",
        "  return \" \".join(text_ngrams)\n",
        "\n",
        "train_features = [get_text_ngrams(text, range(1, 5)) for text in train_texts]\n",
        "test_features = [get_text_ngrams(text, range(1, 5)) for text in test_texts]"
      ]
    },
    {
      "cell_type": "code",
      "execution_count": 16,
      "metadata": {
        "colab": {
          "base_uri": "https://localhost:8080/"
        },
        "id": "OeUFzjSSx6cG",
        "outputId": "10c040ab-5448-49ad-a48c-dfe151d9783a"
      },
      "outputs": [
        {
          "output_type": "stream",
          "name": "stdout",
          "text": [
            "Accuracy: 0.7350\n",
            "              precision    recall  f1-score   support\n",
            "\n",
            "           0       0.71      0.79      0.75      1482\n",
            "           1       0.77      0.68      0.72      1518\n",
            "\n",
            "    accuracy                           0.73      3000\n",
            "   macro avg       0.74      0.74      0.73      3000\n",
            "weighted avg       0.74      0.73      0.73      3000\n",
            "\n"
          ]
        }
      ],
      "source": [
        "# logistic regression model\n",
        "def train_and_predict_model(\n",
        "  train_features, test_features, train_labels, test_labels\n",
        "):\n",
        "  vectorizer = CountVectorizer()\n",
        "  X_train = vectorizer.fit_transform(train_features)\n",
        "  X_test = vectorizer.transform(test_features)\n",
        "\n",
        "  model = LogisticRegression(max_iter=1000)\n",
        "  model.fit(X_train, train_labels)\n",
        "\n",
        "  y_pred = model.predict(X_test)\n",
        "  accuracy = accuracy_score(test_labels, y_pred)\n",
        "  report = classification_report(test_labels, y_pred)\n",
        "\n",
        "  return accuracy, report\n",
        "\n",
        "accuracy, report = train_and_predict_model(\n",
        "  train_features, test_features, train_labels, test_labels\n",
        ")\n",
        "print(f'Accuracy: {accuracy:.4f}')\n",
        "print(report)"
      ]
    },
    {
      "cell_type": "markdown",
      "metadata": {
        "id": "cn9JEMK_Y6-x"
      },
      "source": [
        "## Part 1. (2c) Evaluate your logistic regression model's performance.<br>\n",
        "**Answer:** My logistic regression model has an accuracy of ~73.5% with similar performance for predicting positive and negative sentiment in tweets. My model has better precision (fewer false positives) for positive sentiment tweets and better recall (fewer false negatives) for negative sentiment tweets. These results show that even a simple logistic regression model can predict sentiment in tweets with decent accuracy when trained with n-grams."
      ]
    },
    {
      "cell_type": "markdown",
      "metadata": {
        "id": "5toPn0azZEZI"
      },
      "source": [
        "## Part 1. (2d) Plotting model accuracy vs n"
      ]
    },
    {
      "cell_type": "code",
      "execution_count": 17,
      "metadata": {
        "colab": {
          "base_uri": "https://localhost:8080/"
        },
        "id": "LWncpeWF-EwH",
        "outputId": "177f843b-2b92-44e8-b393-5072fab57e0f"
      },
      "outputs": [
        {
          "output_type": "stream",
          "name": "stdout",
          "text": [
            "CUMULATIVE, n=1, acc=0.7237\n",
            "CUMULATIVE, n=2, acc=0.7370\n",
            "CUMULATIVE, n=3, acc=0.7373\n",
            "CUMULATIVE, n=4, acc=0.7350\n",
            "CUMULATIVE, n=5, acc=0.7333\n",
            "CUMULATIVE, n=6, acc=0.7320\n",
            "CUMULATIVE, n=7, acc=0.7300\n",
            "CUMULATIVE, n=8, acc=0.7283\n",
            "CUMULATIVE, n=9, acc=0.7300\n",
            "SINGLE, n=1, acc=0.7237\n",
            "SINGLE, n=2, acc=0.6657\n",
            "SINGLE, n=3, acc=0.5940\n",
            "SINGLE, n=4, acc=0.5650\n",
            "SINGLE, n=5, acc=0.5523\n",
            "SINGLE, n=6, acc=0.5430\n",
            "SINGLE, n=7, acc=0.5317\n",
            "SINGLE, n=8, acc=0.5223\n",
            "SINGLE, n=9, acc=0.5157\n"
          ]
        }
      ],
      "source": [
        "# compare cumulative vs stand alone ngram accuracies\n",
        "def get_accuracy_scores(train_texts, test_tests, n_range, cumulative):\n",
        "  accuracy_scores = []\n",
        "  for i in n_range:\n",
        "    r = range(i+1) if cumulative else range(i, i+1)\n",
        "    train_features = [get_text_ngrams(text, r) for text in train_texts]\n",
        "    test_features = [get_text_ngrams(text, r) for text in test_texts]\n",
        "\n",
        "    accuracy, report = train_and_predict_model(\n",
        "      train_features, test_features, train_labels, test_labels\n",
        "    )\n",
        "    print(\n",
        "      f\"{'CUMULATIVE' if cumulative else 'SINGLE'}, n={i}, acc={accuracy:.4f}\"\n",
        "    )\n",
        "    accuracy_scores.append(accuracy)\n",
        "\n",
        "  return accuracy_scores\n",
        "\n",
        "n_range = range(1, 10)\n",
        "cumulative_accs = get_accuracy_scores(train_texts, test_texts, n_range, True)\n",
        "single_accs = get_accuracy_scores(train_texts, test_texts, n_range, False)"
      ]
    },
    {
      "cell_type": "code",
      "execution_count": 18,
      "metadata": {
        "colab": {
          "base_uri": "https://localhost:8080/",
          "height": 485
        },
        "id": "bH-SpCjG-IDH",
        "outputId": "d4684e60-d525-4e95-c58b-89fb919f5b7c"
      },
      "outputs": [
        {
          "output_type": "display_data",
          "data": {
            "text/plain": [
              "<Figure size 1400x500 with 2 Axes>"
            ],
            "image/png": "[encoded data removed]"
          },
          "metadata": {}
        }
      ],
      "source": [
        "# plot the results\n",
        "def create_accuracy_plot(ax, n_range, accuracies, title, cumulative=False):\n",
        "  marker = 's' if cumulative else 'o'\n",
        "  color = '#ff7f0e' if cumulative else '#1f77b4'\n",
        "  ax.plot(\n",
        "    n_range,\n",
        "    accuracies,\n",
        "    marker=marker,\n",
        "    linestyle='-',\n",
        "    color=color,\n",
        "    linewidth=2,\n",
        "    markersize=8\n",
        "  )\n",
        "  ax.set_xlabel('Max N-gram Size (n)' if cumulative else 'N-gram Size (n)')\n",
        "  ax.set_ylabel('Accuracy')\n",
        "  ax.set_title(title, fontsize=14)\n",
        "  ax.grid(True, linestyle='--', alpha=0.7)\n",
        "  ax.set_xticks(n_range)\n",
        "\n",
        "  for i, acc in enumerate(accuracies):\n",
        "    ax.text(n_range[i], acc + 0.001, f'{acc:.4f}', ha='center', fontsize=9)\n",
        "\n",
        "def plot_ngram_comparison(n_range, single_accs, cumulative_accs):\n",
        "  fig, (ax1, ax2) = plt.subplots(1, 2, figsize=(14, 5))\n",
        "  create_accuracy_plot(\n",
        "    ax1, n_range, single_accs, 'Individual N-gram Size'\n",
        "  )\n",
        "  create_accuracy_plot(\n",
        "    ax2, n_range, cumulative_accs, 'Cumulative N-gram Size', True\n",
        "  )\n",
        "\n",
        "  plt.tight_layout()\n",
        "  plt.show()\n",
        "\n",
        "plot_ngram_comparison(n_range, single_accs, cumulative_accs)"
      ]
    },
    {
      "cell_type": "markdown",
      "metadata": {
        "id": "mtbEqQbkKG2K"
      },
      "source": [
        "## Part 1. (2d) How does the value of n in n-gram affect the model's performance?\n",
        "Explain your answer. You can draw a plot with n-gram and the model's performance.<br>\n",
        "**Answer:** The size of n and wether or not the n-grams are cumulative both have an impact on the model's accuracy.\n",
        "\n",
        "In terms of individual contributions to the model's accuracy, the unigrams have the most impact and provide the highest accuracy. This makes sense because individual words provide the majority of the sentiment in sentences. For cumulative n-grams, a maximum size of 3 provides the highest accuracy. After this point increasing the size of n leads to decreasing accuracy. Including up to trigrams provide the best accuracy because sentiment is often conveyed in 1-3 words in the english language. For example, two words are a requirement to convey the sentiment when saying something is 'not good'.\n",
        "\n",
        "Overall unigrams, bigrams, and trigrams make up most of the contributions to the model's accuracy. Any additional increases to n lead to diminishing accuracy because a majority of the sentiment is captured in just 1-3 word n-grams."
      ]
    },
    {
      "cell_type": "markdown",
      "metadata": {
        "id": "w7eEbiFGbty_"
      },
      "source": [
        "# Part 2. RNN and Machine Translation\n",
        "You will be training a Seq2seq model using RNN. Your input will be a text and the output will be a summary of the text."
      ]
    },
    {
      "cell_type": "code",
      "execution_count": 43,
      "metadata": {
        "id": "ikKj3_nMeLWy",
        "colab": {
          "base_uri": "https://localhost:8080/"
        },
        "outputId": "c1a802ff-bcdc-445a-907d-1dfd334c2272"
      },
      "outputs": [
        {
          "output_type": "stream",
          "name": "stdout",
          "text": [
            "Using device: cuda\n"
          ]
        }
      ],
      "source": [
        "# Imports for RNN\n",
        "import torch\n",
        "import torch.nn as nn\n",
        "import torch.optim as optim\n",
        "from torch.utils.data import Dataset, DataLoader\n",
        "from torch.nn.utils.rnn import pad_sequence\n",
        "import nltk\n",
        "from nltk.translate.bleu_score import corpus_bleu, sentence_bleu, SmoothingFunction\n",
        "from transformers import AutoTokenizer\n",
        "from transformers.optimization import Adafactor\n",
        "from datasets import load_dataset\n",
        "import random\n",
        "import time\n",
        "import numpy as np\n",
        "from tqdm.auto import tqdm\n",
        "\n",
        "# Set seeds for reproducibility\n",
        "seed = 2025\n",
        "random.seed(seed)\n",
        "np.random.seed(seed)\n",
        "torch.manual_seed(seed)\n",
        "if torch.cuda.is_available():\n",
        "    torch.cuda.manual_seed(seed)\n",
        "\n",
        "# Set device\n",
        "device = torch.device('cuda' if torch.cuda.is_available() else 'cpu')\n",
        "print(f\"Using device: {device}\")"
      ]
    },
    {
      "cell_type": "markdown",
      "metadata": {
        "id": "9A4GbQYfb5mU"
      },
      "source": [
        "## Part 2. (1) Load the California State bill subset of the BillSum dataset from HuggingFace.\n",
        "Do the following:\n",
        "- Load the test split as your entire dataset for this task.\n",
        "- Split the dataset into a train and test set with the train test split method."
      ]
    },
    {
      "cell_type": "code",
      "execution_count": 44,
      "metadata": {
        "colab": {
          "base_uri": "https://localhost:8080/"
        },
        "id": "y_TcwVhwWka0",
        "outputId": "76bb27fc-9458-4fa9-a080-dcdd280114d2"
      },
      "outputs": [
        {
          "output_type": "stream",
          "name": "stderr",
          "text": [
            "[nltk_data] Downloading package punkt to /root/nltk_data...\n",
            "[nltk_data]   Package punkt is already up-to-date!\n",
            "[nltk_data] Downloading package punkt_tab to /root/nltk_data...\n",
            "[nltk_data]   Package punkt_tab is already up-to-date!\n"
          ]
        }
      ],
      "source": [
        "# download and load the data\n",
        "# https://huggingface.co/docs/transformers/main/en/tasks/summarization\n",
        "nltk.download('punkt')\n",
        "nltk.download('punkt_tab')\n",
        "billsum = load_dataset(\"billsum\", split=\"ca_test\").train_test_split(\n",
        "  test_size=0.2, seed=seed\n",
        ")\n",
        "billsum_train, billsum_test = billsum[\"train\"], billsum[\"test\"]"
      ]
    },
    {
      "cell_type": "markdown",
      "metadata": {
        "id": "8hFnAwP3KFj0"
      },
      "source": [
        "## Part 2. (2) Use the number of neurons, dropout, and your selection of RNN architecture.\n",
        "NOTE: Report BLEU as the model’s performance."
      ]
    },
    {
      "cell_type": "code",
      "source": [
        "import torch\n",
        "from torch.utils.data import Dataset\n",
        "\n",
        "# Minimal custom dataset for seq2seq tasks\n",
        "class Seq2SeqDataset(Dataset):\n",
        "    def __init__(self, data, combination):\n",
        "        data = data.map(self.preprocess, combination)\n",
        "        self.input_ids = data[\"input_ids\"]\n",
        "        self.labels = data[\"labels\"]\n",
        "\n",
        "    def __len__(self):\n",
        "        return len(self.input_ids)\n",
        "\n",
        "    def __getitem__(self, idx):\n",
        "        return {\n",
        "            \"input_ids\": torch.tensor(self.input_ids[idx], dtype=torch.long),\n",
        "            \"labels\": torch.tensor(self.labels[idx], dtype=torch.long)\n",
        "        }\n",
        "\n",
        "    def preprocess(\n",
        "        self, example, input_max_length=1024, summary_max_length=128\n",
        "    ):\n",
        "      input_text = \"summarize the legal document: \" + example[\"text\"]\n",
        "      tokenized_input = tokenizer.encode_plus(\n",
        "          input_text,\n",
        "          max_length=input_max_length,\n",
        "          truncation=True,\n",
        "          padding=\"max_length\"\n",
        "      )\n",
        "      tokenized_summary = tokenizer.encode_plus(\n",
        "          example[\"summary\"],\n",
        "          max_length=summary_max_length,\n",
        "          truncation=True,\n",
        "          padding=\"max_length\"\n",
        "      )\n",
        "      return {\n",
        "          \"input_ids\": tokenized_input[\"input_ids\"],\n",
        "          \"labels\": tokenized_summary[\"input_ids\"]\n",
        "      }"
      ],
      "metadata": {
        "id": "Imce836yOulb"
      },
      "execution_count": 45,
      "outputs": []
    },
    {
      "cell_type": "code",
      "source": [
        "import torch.nn as nn\n",
        "\n",
        "# Minimal seq2seq model using LSTM for both encoder and decoder.\n",
        "class Seq2SeqModel(nn.Module):\n",
        "    def __init__(self, vocab_size, embed_size, hidden_size, dropout=0.1):\n",
        "        super(Seq2SeqModel, self).__init__()\n",
        "        self.embedding = nn.Embedding(vocab_size, embed_size)\n",
        "        self.encoder = nn.LSTM(embed_size, hidden_size, batch_first=True)\n",
        "        self.decoder = nn.LSTM(embed_size, hidden_size, batch_first=True)\n",
        "        self.output_layer = nn.Linear(hidden_size, vocab_size)\n",
        "        self.dropout = nn.Dropout(dropout)\n",
        "\n",
        "    def forward(self, src, tgt):\n",
        "        # Encode source sequence\n",
        "        src_emb = self.dropout(self.embedding(src))\n",
        "        _, (h, c) = self.encoder(src_emb)\n",
        "\n",
        "        # Decode target sequence\n",
        "        tgt_emb = self.dropout(self.embedding(tgt))\n",
        "        dec_out, _ = self.decoder(tgt_emb, (h, c))\n",
        "        logits = self.output_layer(dec_out)\n",
        "        return logits\n"
      ],
      "metadata": {
        "id": "-TqXDTwjOzV6"
      },
      "execution_count": 46,
      "outputs": []
    },
    {
      "cell_type": "markdown",
      "metadata": {
        "id": "Rge95IdvKFj3"
      },
      "source": [
        "## Part 2. (3) Vary the input seq length by truncating the main text and the summary text.\n",
        "We will determine how these lengths impact the model's performance:\n",
        "- Main Text Lengths: 1024, 2048\n",
        "- Summary Text Lengths: 128, 256"
      ]
    },
    {
      "cell_type": "code",
      "source": [
        "def train_model(model, train_loader, optimizer, criterion, device, epochs=3):\n",
        "    model.train()\n",
        "    for epoch in range(epochs):\n",
        "        epoch_loss = 0.0\n",
        "        for batch in train_loader:\n",
        "            # Move batch data to device\n",
        "            src = batch[\"input_ids\"].to(device)\n",
        "            labels = batch[\"labels\"].to(device)\n",
        "\n",
        "            # Prepare decoder input (all tokens except the last)\n",
        "            # and target (all tokens except the first)\n",
        "            dec_in = labels[:, :-1]\n",
        "            dec_target = labels[:, 1:]\n",
        "\n",
        "            optimizer.zero_grad()\n",
        "            # Forward pass\n",
        "            logits = model(src, dec_in)\n",
        "            # Flatten outputs and targets for loss computation\n",
        "            logits = logits.reshape(-1, logits.size(-1))\n",
        "            dec_target = dec_target.reshape(-1)\n",
        "\n",
        "            loss = criterion(logits, dec_target)\n",
        "            loss.backward()\n",
        "            optimizer.step()\n",
        "            epoch_loss += loss.item()\n",
        "\n",
        "        print(f\"Epoch {epoch+1}/{epochs} - Loss: {epoch_loss / len(train_loader):.4f}\")\n"
      ],
      "metadata": {
        "id": "adB7yjyWO-AY"
      },
      "execution_count": 47,
      "outputs": []
    },
    {
      "cell_type": "code",
      "source": [
        "import evaluate\n",
        "import nltk\n",
        "\n",
        "def evaluate_bleu(model, test_loader, tokenizer, device):\n",
        "    model.eval()\n",
        "    bleu_metric = evaluate.load(\"bleu\")\n",
        "    predictions, references = [], []\n",
        "\n",
        "    with torch.no_grad():\n",
        "        for batch in test_loader:\n",
        "            src = batch[\"input_ids\"].to(device)\n",
        "            labels = batch[\"labels\"].to(device)\n",
        "            # Prepare decoder input (shifted) for prediction\n",
        "            dec_in = labels[:, :-1]\n",
        "            logits = model(src, dec_in)\n",
        "            pred_ids = torch.argmax(logits, dim=-1)\n",
        "\n",
        "            # Decode predictions and original labels using the tokenizer\n",
        "            decoded_preds = tokenizer.batch_decode(pred_ids, skip_special_tokens=True)\n",
        "            decoded_labels = tokenizer.batch_decode(labels, skip_special_tokens=True)\n",
        "\n",
        "            predictions.extend(decoded_preds)\n",
        "            # Each reference must be a list of reference strings\n",
        "            references.extend([[ref] for ref in decoded_labels])\n",
        "\n",
        "    score = bleu_metric.compute(predictions=predictions, references=references)\n",
        "    print(f\"BLEU Score: {score['bleu']:.4f}\")\n",
        "    return score[\"bleu\"]\n"
      ],
      "metadata": {
        "id": "I43Fn3DiPAgy"
      },
      "execution_count": 48,
      "outputs": []
    },
    {
      "cell_type": "code",
      "source": [
        "from torch.utils.data import DataLoader\n",
        "\n",
        "\n",
        "checkpoint = \"google-t5/t5-small\"\n",
        "tokenizer = AutoTokenizer.from_pretrained(checkpoint)\n",
        "\n",
        "seq_length_combinations = [\n",
        "    {'input_max_length': 1024, 'summary_max_length': 128},\n",
        "    {'input_max_length': 1024, 'summary_max_length': 256},\n",
        "    {'input_max_length': 2048, 'summary_max_length': 128},\n",
        "    {'input_max_length': 2048, 'summary_max_length': 256},\n",
        "]\n",
        "\n",
        "for seq_length_combination in seq_length_combinations:\n",
        "  train_dataset = Seq2SeqDataset(billsum_train, seq_length_combination)\n",
        "  test_dataset = Seq2SeqDataset(billsum_test, seq_length_combination)\n",
        "  train_loader = DataLoader(train_dataset, batch_size=8, shuffle=True)\n",
        "  test_loader = DataLoader(test_dataset, batch_size=8)\n",
        "\n",
        "\n",
        "  device = torch.device(\"cuda\")\n",
        "  vocab_size = tokenizer.vocab_size\n",
        "  embed_size = 256\n",
        "  hidden_size = 512\n",
        "\n",
        "  model = Seq2SeqModel(\n",
        "      vocab_size, embed_size, hidden_size, dropout=0.1\n",
        "  ).to(device)\n",
        "  optimizer = torch.optim.Adam(model.parameters(), lr=0.001)\n",
        "  criterion = nn.CrossEntropyLoss(ignore_index=tokenizer.pad_token_id)\n",
        "\n",
        "  train_model(model, train_loader, optimizer, criterion, device, epochs=3)\n",
        "  _ = evaluate_bleu(model, test_loader, tokenizer, device)\n"
      ],
      "metadata": {
        "colab": {
          "base_uri": "https://localhost:8080/",
          "height": 515,
          "referenced_widgets": [
            "0ebb6cca17eb4951a23e1ccf43f0ec65",
            "6d8454da25d148e1997128239fd3080a",
            "88f698dd04024dc69c414b8e3ebc1ded",
            "3f000cc7fc584941a3ae68305eb3d644",
            "613c73e4e1d14f09856a7f87b2733eaa",
            "a0f6218e55a64a18859880a856e421ff",
            "cf6ed0b91d9b400b8fc73227458a6f41",
            "6f9cea3765034cb5a3269977d4da33e4",
            "b7cc5ad83ceb494188b255342918dfa4",
            "1d7f39605ed34361b34843acea357d91",
            "67dcaacf733b4941b9a275f5673532e3",
            "75ce4c2f03994c9cae8f699ae9240949",
            "bd69c9affc44436d96452e1f4dd47aaf",
            "67834a52d0724d5d90427dad7932fa24",
            "d305a1095a384442807720cf10dc1aed",
            "d76c4fd84e4a4e2189e5c3a5f68855a2",
            "d9308ee06d714f4bacb31159376b9f63",
            "2adc2bce1bf749f299426741e75bb0e8",
            "bc526df64af847aeaec2b6d5e2b60b84",
            "0636bb39f48347809f6284802a806aa1",
            "511b6f8359024503872caab3fe868ec6",
            "5f21f96387614d14a905106fd921ba4d",
            "729d5b55e7b84ec08dad346f6dfb7d25",
            "e91339a1134545e8ac9f5152bbf873c3",
            "e85253d11c514087b96ffd598d20ebf5",
            "32783bb1a15e4221b9d8f361e305e1af",
            "f136a51af537422da48c0d7837f2f2df",
            "d169f882ab03452680793e3ecf35bcff",
            "f936c829b807417fad681822bdbf16f6",
            "004d98e11690441ba59fcb6283253176",
            "00fca5d3cc9645ad9d000186d28bdbbf",
            "186dab52b61349e6b3748a178ac3ed22",
            "04b9220d595d49e89aa30b82102b7231",
            "3c68a07f0cf44dcfa41b00dc458b2eeb",
            "5a729b32669c4934b5d0b6f6604a33b0",
            "5437a4aafd4840c68a166332e8d936d9",
            "fdf533d4320e45f7a44c6177cd8b6e77",
            "b20738b3a7f24909a5114631b8437690",
            "abd62b562e8e4decab9379c4f23af51b",
            "7ff670d93f204bacabfa4ec064cc4495",
            "6ecadbacd1e14e1f9f8c50faf050e8b4",
            "06b25529eb7b4bf2bf8132ae4926e6f1",
            "48d861d406d9432fbd00555760071d6e",
            "575399b5a39e490e8e3b6022ec617097",
            "b29341cbe66d4c648f824316e42e7893",
            "8f65764d6f3345e4b177046325ffb9bb",
            "075d3fbedc194b1292a5d563e1433dde",
            "17c0fd9a67f842558dad3e742c1bd084",
            "79fd0c7463f34e0da63648d9846609fd",
            "404c3412003f41a9b9a49dde91999df4",
            "11ace583917947e3b4d813abf1e1faab",
            "0e2e8855a6f943d7ab7e06968f2ad598",
            "b6484e2f592c4bb180b18a3c58c4647c",
            "3cbf70a7bf564e6aac62786d0d51e60a",
            "8d71354209084007bcface064b91e86c"
          ]
        },
        "id": "eReY7-HpPDE7",
        "outputId": "ae1b5cda-8ede-48ee-aeb5-403b94c0ff28"
      },
      "execution_count": 49,
      "outputs": [
        {
          "output_type": "display_data",
          "data": {
            "text/plain": [
              "tokenizer_config.json:   0%|          | 0.00/2.32k [00:00<?, ?B/s]"
            ],
            "application/vnd.jupyter.widget-view+json": {
              "version_major": 2,
              "version_minor": 0,
              "model_id": "0ebb6cca17eb4951a23e1ccf43f0ec65"
            }
          },
          "metadata": {}
        },
        {
          "output_type": "display_data",
          "data": {
            "text/plain": [
              "spiece.model:   0%|          | 0.00/792k [00:00<?, ?B/s]"
            ],
            "application/vnd.jupyter.widget-view+json": {
              "version_major": 2,
              "version_minor": 0,
              "model_id": "75ce4c2f03994c9cae8f699ae9240949"
            }
          },
          "metadata": {}
        },
        {
          "output_type": "display_data",
          "data": {
            "text/plain": [
              "tokenizer.json:   0%|          | 0.00/1.39M [00:00<?, ?B/s]"
            ],
            "application/vnd.jupyter.widget-view+json": {
              "version_major": 2,
              "version_minor": 0,
              "model_id": "729d5b55e7b84ec08dad346f6dfb7d25"
            }
          },
          "metadata": {}
        },
        {
          "output_type": "display_data",
          "data": {
            "text/plain": [
              "Map:   0%|          | 0/989 [00:00<?, ? examples/s]"
            ],
            "application/vnd.jupyter.widget-view+json": {
              "version_major": 2,
              "version_minor": 0,
              "model_id": "3c68a07f0cf44dcfa41b00dc458b2eeb"
            }
          },
          "metadata": {}
        },
        {
          "output_type": "display_data",
          "data": {
            "text/plain": [
              "Map:   0%|          | 0/248 [00:00<?, ? examples/s]"
            ],
            "application/vnd.jupyter.widget-view+json": {
              "version_major": 2,
              "version_minor": 0,
              "model_id": "b29341cbe66d4c648f824316e42e7893"
            }
          },
          "metadata": {}
        },
        {
          "output_type": "error",
          "ename": "RuntimeError",
          "evalue": "stack expects each tensor to be equal size, but got [92] at entry 0 and [219] at entry 1",
          "traceback": [
            "\u001b[0;31m---------------------------------------------------------------------------\u001b[0m",
            "\u001b[0;31mRuntimeError\u001b[0m                              Traceback (most recent call last)",
            "\u001b[0;32m<ipython-input-49-f21b81a3fbb5>\u001b[0m in \u001b[0;36m<cell line: 0>\u001b[0;34m()\u001b[0m\n\u001b[1;32m     30\u001b[0m   \u001b[0mcriterion\u001b[0m \u001b[0;34m=\u001b[0m \u001b[0mnn\u001b[0m\u001b[0;34m.\u001b[0m\u001b[0mCrossEntropyLoss\u001b[0m\u001b[0;34m(\u001b[0m\u001b[0mignore_index\u001b[0m\u001b[0;34m=\u001b[0m\u001b[0mtokenizer\u001b[0m\u001b[0;34m.\u001b[0m\u001b[0mpad_token_id\u001b[0m\u001b[0;34m)\u001b[0m\u001b[0;34m\u001b[0m\u001b[0;34m\u001b[0m\u001b[0m\n\u001b[1;32m     31\u001b[0m \u001b[0;34m\u001b[0m\u001b[0m\n\u001b[0;32m---> 32\u001b[0;31m   \u001b[0mtrain_model\u001b[0m\u001b[0;34m(\u001b[0m\u001b[0mmodel\u001b[0m\u001b[0;34m,\u001b[0m \u001b[0mtrain_loader\u001b[0m\u001b[0;34m,\u001b[0m \u001b[0moptimizer\u001b[0m\u001b[0;34m,\u001b[0m \u001b[0mcriterion\u001b[0m\u001b[0;34m,\u001b[0m \u001b[0mdevice\u001b[0m\u001b[0;34m,\u001b[0m \u001b[0mepochs\u001b[0m\u001b[0;34m=\u001b[0m\u001b[0;36m3\u001b[0m\u001b[0;34m)\u001b[0m\u001b[0;34m\u001b[0m\u001b[0;34m\u001b[0m\u001b[0m\n\u001b[0m\u001b[1;32m     33\u001b[0m   \u001b[0m_\u001b[0m \u001b[0;34m=\u001b[0m \u001b[0mevaluate_bleu\u001b[0m\u001b[0;34m(\u001b[0m\u001b[0mmodel\u001b[0m\u001b[0;34m,\u001b[0m \u001b[0mtest_loader\u001b[0m\u001b[0;34m,\u001b[0m \u001b[0mtokenizer\u001b[0m\u001b[0;34m,\u001b[0m \u001b[0mdevice\u001b[0m\u001b[0;34m)\u001b[0m\u001b[0;34m\u001b[0m\u001b[0;34m\u001b[0m\u001b[0m\n",
            "\u001b[0;32m<ipython-input-47-b7f138ecc53f>\u001b[0m in \u001b[0;36mtrain_model\u001b[0;34m(model, train_loader, optimizer, criterion, device, epochs)\u001b[0m\n\u001b[1;32m      3\u001b[0m     \u001b[0;32mfor\u001b[0m \u001b[0mepoch\u001b[0m \u001b[0;32min\u001b[0m \u001b[0mrange\u001b[0m\u001b[0;34m(\u001b[0m\u001b[0mepochs\u001b[0m\u001b[0;34m)\u001b[0m\u001b[0;34m:\u001b[0m\u001b[0;34m\u001b[0m\u001b[0;34m\u001b[0m\u001b[0m\n\u001b[1;32m      4\u001b[0m         \u001b[0mepoch_loss\u001b[0m \u001b[0;34m=\u001b[0m \u001b[0;36m0.0\u001b[0m\u001b[0;34m\u001b[0m\u001b[0;34m\u001b[0m\u001b[0m\n\u001b[0;32m----> 5\u001b[0;31m         \u001b[0;32mfor\u001b[0m \u001b[0mbatch\u001b[0m \u001b[0;32min\u001b[0m \u001b[0mtrain_loader\u001b[0m\u001b[0;34m:\u001b[0m\u001b[0;34m\u001b[0m\u001b[0;34m\u001b[0m\u001b[0m\n\u001b[0m\u001b[1;32m      6\u001b[0m             \u001b[0;31m# Move batch data to device\u001b[0m\u001b[0;34m\u001b[0m\u001b[0;34m\u001b[0m\u001b[0m\n\u001b[1;32m      7\u001b[0m             \u001b[0msrc\u001b[0m \u001b[0;34m=\u001b[0m \u001b[0mbatch\u001b[0m\u001b[0;34m[\u001b[0m\u001b[0;34m\"input_ids\"\u001b[0m\u001b[0;34m]\u001b[0m\u001b[0;34m.\u001b[0m\u001b[0mto\u001b[0m\u001b[0;34m(\u001b[0m\u001b[0mdevice\u001b[0m\u001b[0;34m)\u001b[0m\u001b[0;34m\u001b[0m\u001b[0;34m\u001b[0m\u001b[0m\n",
            "\u001b[0;32m/usr/local/lib/python3.11/dist-packages/torch/utils/data/dataloader.py\u001b[0m in \u001b[0;36m__next__\u001b[0;34m(self)\u001b[0m\n\u001b[1;32m    629\u001b[0m                 \u001b[0;31m# TODO(https://github.com/pytorch/pytorch/issues/76750)\u001b[0m\u001b[0;34m\u001b[0m\u001b[0;34m\u001b[0m\u001b[0m\n\u001b[1;32m    630\u001b[0m                 \u001b[0mself\u001b[0m\u001b[0;34m.\u001b[0m\u001b[0m_reset\u001b[0m\u001b[0;34m(\u001b[0m\u001b[0;34m)\u001b[0m  \u001b[0;31m# type: ignore[call-arg]\u001b[0m\u001b[0;34m\u001b[0m\u001b[0;34m\u001b[0m\u001b[0m\n\u001b[0;32m--> 631\u001b[0;31m             \u001b[0mdata\u001b[0m \u001b[0;34m=\u001b[0m \u001b[0mself\u001b[0m\u001b[0;34m.\u001b[0m\u001b[0m_next_data\u001b[0m\u001b[0;34m(\u001b[0m\u001b[0;34m)\u001b[0m\u001b[0;34m\u001b[0m\u001b[0;34m\u001b[0m\u001b[0m\n\u001b[0m\u001b[1;32m    632\u001b[0m             \u001b[0mself\u001b[0m\u001b[0;34m.\u001b[0m\u001b[0m_num_yielded\u001b[0m \u001b[0;34m+=\u001b[0m \u001b[0;36m1\u001b[0m\u001b[0;34m\u001b[0m\u001b[0;34m\u001b[0m\u001b[0m\n\u001b[1;32m    633\u001b[0m             \u001b[0;32mif\u001b[0m \u001b[0mself\u001b[0m\u001b[0;34m.\u001b[0m\u001b[0m_dataset_kind\u001b[0m \u001b[0;34m==\u001b[0m \u001b[0m_DatasetKind\u001b[0m\u001b[0;34m.\u001b[0m\u001b[0mIterable\u001b[0m \u001b[0;32mand\u001b[0m\u001b[0;31m \u001b[0m\u001b[0;31m\\\u001b[0m\u001b[0;34m\u001b[0m\u001b[0;34m\u001b[0m\u001b[0m\n",
            "\u001b[0;32m/usr/local/lib/python3.11/dist-packages/torch/utils/data/dataloader.py\u001b[0m in \u001b[0;36m_next_data\u001b[0;34m(self)\u001b[0m\n\u001b[1;32m    673\u001b[0m     \u001b[0;32mdef\u001b[0m \u001b[0m_next_data\u001b[0m\u001b[0;34m(\u001b[0m\u001b[0mself\u001b[0m\u001b[0;34m)\u001b[0m\u001b[0;34m:\u001b[0m\u001b[0;34m\u001b[0m\u001b[0;34m\u001b[0m\u001b[0m\n\u001b[1;32m    674\u001b[0m         \u001b[0mindex\u001b[0m \u001b[0;34m=\u001b[0m \u001b[0mself\u001b[0m\u001b[0;34m.\u001b[0m\u001b[0m_next_index\u001b[0m\u001b[0;34m(\u001b[0m\u001b[0;34m)\u001b[0m  \u001b[0;31m# may raise StopIteration\u001b[0m\u001b[0;34m\u001b[0m\u001b[0;34m\u001b[0m\u001b[0m\n\u001b[0;32m--> 675\u001b[0;31m         \u001b[0mdata\u001b[0m \u001b[0;34m=\u001b[0m \u001b[0mself\u001b[0m\u001b[0;34m.\u001b[0m\u001b[0m_dataset_fetcher\u001b[0m\u001b[0;34m.\u001b[0m\u001b[0mfetch\u001b[0m\u001b[0;34m(\u001b[0m\u001b[0mindex\u001b[0m\u001b[0;34m)\u001b[0m  \u001b[0;31m# may raise StopIteration\u001b[0m\u001b[0;34m\u001b[0m\u001b[0;34m\u001b[0m\u001b[0m\n\u001b[0m\u001b[1;32m    676\u001b[0m         \u001b[0;32mif\u001b[0m \u001b[0mself\u001b[0m\u001b[0;34m.\u001b[0m\u001b[0m_pin_memory\u001b[0m\u001b[0;34m:\u001b[0m\u001b[0;34m\u001b[0m\u001b[0;34m\u001b[0m\u001b[0m\n\u001b[1;32m    677\u001b[0m             \u001b[0mdata\u001b[0m \u001b[0;34m=\u001b[0m \u001b[0m_utils\u001b[0m\u001b[0;34m.\u001b[0m\u001b[0mpin_memory\u001b[0m\u001b[0;34m.\u001b[0m\u001b[0mpin_memory\u001b[0m\u001b[0;34m(\u001b[0m\u001b[0mdata\u001b[0m\u001b[0;34m,\u001b[0m \u001b[0mself\u001b[0m\u001b[0;34m.\u001b[0m\u001b[0m_pin_memory_device\u001b[0m\u001b[0;34m)\u001b[0m\u001b[0;34m\u001b[0m\u001b[0;34m\u001b[0m\u001b[0m\n",
            "\u001b[0;32m/usr/local/lib/python3.11/dist-packages/torch/utils/data/_utils/fetch.py\u001b[0m in \u001b[0;36mfetch\u001b[0;34m(self, possibly_batched_index)\u001b[0m\n\u001b[1;32m     52\u001b[0m         \u001b[0;32melse\u001b[0m\u001b[0;34m:\u001b[0m\u001b[0;34m\u001b[0m\u001b[0;34m\u001b[0m\u001b[0m\n\u001b[1;32m     53\u001b[0m             \u001b[0mdata\u001b[0m \u001b[0;34m=\u001b[0m \u001b[0mself\u001b[0m\u001b[0;34m.\u001b[0m\u001b[0mdataset\u001b[0m\u001b[0;34m[\u001b[0m\u001b[0mpossibly_batched_index\u001b[0m\u001b[0;34m]\u001b[0m\u001b[0;34m\u001b[0m\u001b[0;34m\u001b[0m\u001b[0m\n\u001b[0;32m---> 54\u001b[0;31m         \u001b[0;32mreturn\u001b[0m \u001b[0mself\u001b[0m\u001b[0;34m.\u001b[0m\u001b[0mcollate_fn\u001b[0m\u001b[0;34m(\u001b[0m\u001b[0mdata\u001b[0m\u001b[0;34m)\u001b[0m\u001b[0;34m\u001b[0m\u001b[0;34m\u001b[0m\u001b[0m\n\u001b[0m",
            "\u001b[0;32m/usr/local/lib/python3.11/dist-packages/torch/utils/data/_utils/collate.py\u001b[0m in \u001b[0;36mdefault_collate\u001b[0;34m(batch)\u001b[0m\n\u001b[1;32m    275\u001b[0m         \u001b[0;34m>>\u001b[0m\u001b[0;34m>\u001b[0m \u001b[0mdefault_collate\u001b[0m\u001b[0;34m(\u001b[0m\u001b[0mbatch\u001b[0m\u001b[0;34m)\u001b[0m  \u001b[0;31m# Handle `CustomType` automatically\u001b[0m\u001b[0;34m\u001b[0m\u001b[0;34m\u001b[0m\u001b[0m\n\u001b[1;32m    276\u001b[0m     \"\"\"\n\u001b[0;32m--> 277\u001b[0;31m     \u001b[0;32mreturn\u001b[0m \u001b[0mcollate\u001b[0m\u001b[0;34m(\u001b[0m\u001b[0mbatch\u001b[0m\u001b[0;34m,\u001b[0m \u001b[0mcollate_fn_map\u001b[0m\u001b[0;34m=\u001b[0m\u001b[0mdefault_collate_fn_map\u001b[0m\u001b[0;34m)\u001b[0m\u001b[0;34m\u001b[0m\u001b[0;34m\u001b[0m\u001b[0m\n\u001b[0m",
            "\u001b[0;32m/usr/local/lib/python3.11/dist-packages/torch/utils/data/_utils/collate.py\u001b[0m in \u001b[0;36mcollate\u001b[0;34m(batch, collate_fn_map)\u001b[0m\n\u001b[1;32m    127\u001b[0m     \u001b[0;32mif\u001b[0m \u001b[0misinstance\u001b[0m\u001b[0;34m(\u001b[0m\u001b[0melem\u001b[0m\u001b[0;34m,\u001b[0m \u001b[0mcollections\u001b[0m\u001b[0;34m.\u001b[0m\u001b[0mabc\u001b[0m\u001b[0;34m.\u001b[0m\u001b[0mMapping\u001b[0m\u001b[0;34m)\u001b[0m\u001b[0;34m:\u001b[0m\u001b[0;34m\u001b[0m\u001b[0;34m\u001b[0m\u001b[0m\n\u001b[1;32m    128\u001b[0m         \u001b[0;32mtry\u001b[0m\u001b[0;34m:\u001b[0m\u001b[0;34m\u001b[0m\u001b[0;34m\u001b[0m\u001b[0m\n\u001b[0;32m--> 129\u001b[0;31m             \u001b[0;32mreturn\u001b[0m \u001b[0melem_type\u001b[0m\u001b[0;34m(\u001b[0m\u001b[0;34m{\u001b[0m\u001b[0mkey\u001b[0m\u001b[0;34m:\u001b[0m \u001b[0mcollate\u001b[0m\u001b[0;34m(\u001b[0m\u001b[0;34m[\u001b[0m\u001b[0md\u001b[0m\u001b[0;34m[\u001b[0m\u001b[0mkey\u001b[0m\u001b[0;34m]\u001b[0m \u001b[0;32mfor\u001b[0m \u001b[0md\u001b[0m \u001b[0;32min\u001b[0m \u001b[0mbatch\u001b[0m\u001b[0;34m]\u001b[0m\u001b[0;34m,\u001b[0m \u001b[0mcollate_fn_map\u001b[0m\u001b[0;34m=\u001b[0m\u001b[0mcollate_fn_map\u001b[0m\u001b[0;34m)\u001b[0m \u001b[0;32mfor\u001b[0m \u001b[0mkey\u001b[0m \u001b[0;32min\u001b[0m \u001b[0melem\u001b[0m\u001b[0;34m}\u001b[0m\u001b[0;34m)\u001b[0m\u001b[0;34m\u001b[0m\u001b[0;34m\u001b[0m\u001b[0m\n\u001b[0m\u001b[1;32m    130\u001b[0m         \u001b[0;32mexcept\u001b[0m \u001b[0mTypeError\u001b[0m\u001b[0;34m:\u001b[0m\u001b[0;34m\u001b[0m\u001b[0;34m\u001b[0m\u001b[0m\n\u001b[1;32m    131\u001b[0m             \u001b[0;31m# The mapping type may not support `__init__(iterable)`.\u001b[0m\u001b[0;34m\u001b[0m\u001b[0;34m\u001b[0m\u001b[0m\n",
            "\u001b[0;32m/usr/local/lib/python3.11/dist-packages/torch/utils/data/_utils/collate.py\u001b[0m in \u001b[0;36m<dictcomp>\u001b[0;34m(.0)\u001b[0m\n\u001b[1;32m    127\u001b[0m     \u001b[0;32mif\u001b[0m \u001b[0misinstance\u001b[0m\u001b[0;34m(\u001b[0m\u001b[0melem\u001b[0m\u001b[0;34m,\u001b[0m \u001b[0mcollections\u001b[0m\u001b[0;34m.\u001b[0m\u001b[0mabc\u001b[0m\u001b[0;34m.\u001b[0m\u001b[0mMapping\u001b[0m\u001b[0;34m)\u001b[0m\u001b[0;34m:\u001b[0m\u001b[0;34m\u001b[0m\u001b[0;34m\u001b[0m\u001b[0m\n\u001b[1;32m    128\u001b[0m         \u001b[0;32mtry\u001b[0m\u001b[0;34m:\u001b[0m\u001b[0;34m\u001b[0m\u001b[0;34m\u001b[0m\u001b[0m\n\u001b[0;32m--> 129\u001b[0;31m             \u001b[0;32mreturn\u001b[0m \u001b[0melem_type\u001b[0m\u001b[0;34m(\u001b[0m\u001b[0;34m{\u001b[0m\u001b[0mkey\u001b[0m\u001b[0;34m:\u001b[0m \u001b[0mcollate\u001b[0m\u001b[0;34m(\u001b[0m\u001b[0;34m[\u001b[0m\u001b[0md\u001b[0m\u001b[0;34m[\u001b[0m\u001b[0mkey\u001b[0m\u001b[0;34m]\u001b[0m \u001b[0;32mfor\u001b[0m \u001b[0md\u001b[0m \u001b[0;32min\u001b[0m \u001b[0mbatch\u001b[0m\u001b[0;34m]\u001b[0m\u001b[0;34m,\u001b[0m \u001b[0mcollate_fn_map\u001b[0m\u001b[0;34m=\u001b[0m\u001b[0mcollate_fn_map\u001b[0m\u001b[0;34m)\u001b[0m \u001b[0;32mfor\u001b[0m \u001b[0mkey\u001b[0m \u001b[0;32min\u001b[0m \u001b[0melem\u001b[0m\u001b[0;34m}\u001b[0m\u001b[0;34m)\u001b[0m\u001b[0;34m\u001b[0m\u001b[0;34m\u001b[0m\u001b[0m\n\u001b[0m\u001b[1;32m    130\u001b[0m         \u001b[0;32mexcept\u001b[0m \u001b[0mTypeError\u001b[0m\u001b[0;34m:\u001b[0m\u001b[0;34m\u001b[0m\u001b[0;34m\u001b[0m\u001b[0m\n\u001b[1;32m    131\u001b[0m             \u001b[0;31m# The mapping type may not support `__init__(iterable)`.\u001b[0m\u001b[0;34m\u001b[0m\u001b[0;34m\u001b[0m\u001b[0m\n",
            "\u001b[0;32m/usr/local/lib/python3.11/dist-packages/torch/utils/data/_utils/collate.py\u001b[0m in \u001b[0;36mcollate\u001b[0;34m(batch, collate_fn_map)\u001b[0m\n\u001b[1;32m    119\u001b[0m     \u001b[0;32mif\u001b[0m \u001b[0mcollate_fn_map\u001b[0m \u001b[0;32mis\u001b[0m \u001b[0;32mnot\u001b[0m \u001b[0;32mNone\u001b[0m\u001b[0;34m:\u001b[0m\u001b[0;34m\u001b[0m\u001b[0;34m\u001b[0m\u001b[0m\n\u001b[1;32m    120\u001b[0m         \u001b[0;32mif\u001b[0m \u001b[0melem_type\u001b[0m \u001b[0;32min\u001b[0m \u001b[0mcollate_fn_map\u001b[0m\u001b[0;34m:\u001b[0m\u001b[0;34m\u001b[0m\u001b[0;34m\u001b[0m\u001b[0m\n\u001b[0;32m--> 121\u001b[0;31m             \u001b[0;32mreturn\u001b[0m \u001b[0mcollate_fn_map\u001b[0m\u001b[0;34m[\u001b[0m\u001b[0melem_type\u001b[0m\u001b[0;34m]\u001b[0m\u001b[0;34m(\u001b[0m\u001b[0mbatch\u001b[0m\u001b[0;34m,\u001b[0m \u001b[0mcollate_fn_map\u001b[0m\u001b[0;34m=\u001b[0m\u001b[0mcollate_fn_map\u001b[0m\u001b[0;34m)\u001b[0m\u001b[0;34m\u001b[0m\u001b[0;34m\u001b[0m\u001b[0m\n\u001b[0m\u001b[1;32m    122\u001b[0m \u001b[0;34m\u001b[0m\u001b[0m\n\u001b[1;32m    123\u001b[0m         \u001b[0;32mfor\u001b[0m \u001b[0mcollate_type\u001b[0m \u001b[0;32min\u001b[0m \u001b[0mcollate_fn_map\u001b[0m\u001b[0;34m:\u001b[0m\u001b[0;34m\u001b[0m\u001b[0;34m\u001b[0m\u001b[0m\n",
            "\u001b[0;32m/usr/local/lib/python3.11/dist-packages/torch/utils/data/_utils/collate.py\u001b[0m in \u001b[0;36mcollate_tensor_fn\u001b[0;34m(batch, collate_fn_map)\u001b[0m\n\u001b[1;32m    172\u001b[0m         \u001b[0mstorage\u001b[0m \u001b[0;34m=\u001b[0m \u001b[0melem\u001b[0m\u001b[0;34m.\u001b[0m\u001b[0m_typed_storage\u001b[0m\u001b[0;34m(\u001b[0m\u001b[0;34m)\u001b[0m\u001b[0;34m.\u001b[0m\u001b[0m_new_shared\u001b[0m\u001b[0;34m(\u001b[0m\u001b[0mnumel\u001b[0m\u001b[0;34m,\u001b[0m \u001b[0mdevice\u001b[0m\u001b[0;34m=\u001b[0m\u001b[0melem\u001b[0m\u001b[0;34m.\u001b[0m\u001b[0mdevice\u001b[0m\u001b[0;34m)\u001b[0m\u001b[0;34m\u001b[0m\u001b[0;34m\u001b[0m\u001b[0m\n\u001b[1;32m    173\u001b[0m         \u001b[0mout\u001b[0m \u001b[0;34m=\u001b[0m \u001b[0melem\u001b[0m\u001b[0;34m.\u001b[0m\u001b[0mnew\u001b[0m\u001b[0;34m(\u001b[0m\u001b[0mstorage\u001b[0m\u001b[0;34m)\u001b[0m\u001b[0;34m.\u001b[0m\u001b[0mresize_\u001b[0m\u001b[0;34m(\u001b[0m\u001b[0mlen\u001b[0m\u001b[0;34m(\u001b[0m\u001b[0mbatch\u001b[0m\u001b[0;34m)\u001b[0m\u001b[0;34m,\u001b[0m \u001b[0;34m*\u001b[0m\u001b[0mlist\u001b[0m\u001b[0;34m(\u001b[0m\u001b[0melem\u001b[0m\u001b[0;34m.\u001b[0m\u001b[0msize\u001b[0m\u001b[0;34m(\u001b[0m\u001b[0;34m)\u001b[0m\u001b[0;34m)\u001b[0m\u001b[0;34m)\u001b[0m\u001b[0;34m\u001b[0m\u001b[0;34m\u001b[0m\u001b[0m\n\u001b[0;32m--> 174\u001b[0;31m     \u001b[0;32mreturn\u001b[0m \u001b[0mtorch\u001b[0m\u001b[0;34m.\u001b[0m\u001b[0mstack\u001b[0m\u001b[0;34m(\u001b[0m\u001b[0mbatch\u001b[0m\u001b[0;34m,\u001b[0m \u001b[0;36m0\u001b[0m\u001b[0;34m,\u001b[0m \u001b[0mout\u001b[0m\u001b[0;34m=\u001b[0m\u001b[0mout\u001b[0m\u001b[0;34m)\u001b[0m\u001b[0;34m\u001b[0m\u001b[0;34m\u001b[0m\u001b[0m\n\u001b[0m\u001b[1;32m    175\u001b[0m \u001b[0;34m\u001b[0m\u001b[0m\n\u001b[1;32m    176\u001b[0m \u001b[0;34m\u001b[0m\u001b[0m\n",
            "\u001b[0;31mRuntimeError\u001b[0m: stack expects each tensor to be equal size, but got [92] at entry 0 and [219] at entry 1"
          ]
        }
      ]
    },
    {
      "cell_type": "markdown",
      "metadata": {
        "id": "3GVX0noXKFj3"
      },
      "source": [
        "## Part 2. (3) How does the sequence length impact the model’s performance?\n",
        "**Answer:** The largest impact on the BLEU score was due to increasing the summary length from 128 to 256."
      ]
    }
  ],
  "metadata": {
    "accelerator": "GPU",
    "colab": {
      "gpuType": "T4",
      "provenance": []
    },
    "kernelspec": {
      "display_name": "Python 3 (ipykernel)",
      "language": "python",
      "name": "python3"
    },
    "language_info": {
      "codemirror_mode": {
        "name": "ipython",
        "version": 3
      },
      "file_extension": ".py",
      "mimetype": "text/x-python",
      "name": "python",
      "nbconvert_exporter": "python",
      "pygments_lexer": "ipython3",
      "version": "3.10.12"
    },
    "widgets": {
      "application/vnd.jupyter.widget-state+json": {
        "0ebb6cca17eb4951a23e1ccf43f0ec65": {
          "model_module": "@jupyter-widgets/controls",
          "model_name": "HBoxModel",
          "model_module_version": "1.5.0",
          "state": {
            "_dom_classes": [],
            "_model_module": "@jupyter-widgets/controls",
            "_model_module_version": "1.5.0",
            "_model_name": "HBoxModel",
            "_view_count": null,
            "_view_module": "@jupyter-widgets/controls",
            "_view_module_version": "1.5.0",
            "_view_name": "HBoxView",
            "box_style": "",
            "children": [
              "IPY_MODEL_6d8454da25d148e1997128239fd3080a",
              "IPY_MODEL_88f698dd04024dc69c414b8e3ebc1ded",
              "IPY_MODEL_3f000cc7fc584941a3ae68305eb3d644"
            ],
            "layout": "IPY_MODEL_613c73e4e1d14f09856a7f87b2733eaa"
          }
        },
        "6d8454da25d148e1997128239fd3080a": {
          "model_module": "@jupyter-widgets/controls",
          "model_name": "HTMLModel",
          "model_module_version": "1.5.0",
          "state": {
            "_dom_classes": [],
            "_model_module": "@jupyter-widgets/controls",
            "_model_module_version": "1.5.0",
            "_model_name": "HTMLModel",
            "_view_count": null,
            "_view_module": "@jupyter-widgets/controls",
            "_view_module_version": "1.5.0",
            "_view_name": "HTMLView",
            "description": "",
            "description_tooltip": null,
            "layout": "IPY_MODEL_a0f6218e55a64a18859880a856e421ff",
            "placeholder": "​",
            "style": "IPY_MODEL_cf6ed0b91d9b400b8fc73227458a6f41",
            "value": "tokenizer_config.json: 100%"
          }
        },
        "88f698dd04024dc69c414b8e3ebc1ded": {
          "model_module": "@jupyter-widgets/controls",
          "model_name": "FloatProgressModel",
          "model_module_version": "1.5.0",
          "state": {
            "_dom_classes": [],
            "_model_module": "@jupyter-widgets/controls",
            "_model_module_version": "1.5.0",
            "_model_name": "FloatProgressModel",
            "_view_count": null,
            "_view_module": "@jupyter-widgets/controls",
            "_view_module_version": "1.5.0",
            "_view_name": "ProgressView",
            "bar_style": "success",
            "description": "",
            "description_tooltip": null,
            "layout": "IPY_MODEL_6f9cea3765034cb5a3269977d4da33e4",
            "max": 2324,
            "min": 0,
            "orientation": "horizontal",
            "style": "IPY_MODEL_b7cc5ad83ceb494188b255342918dfa4",
            "value": 2324
          }
        },
        "3f000cc7fc584941a3ae68305eb3d644": {
          "model_module": "@jupyter-widgets/controls",
          "model_name": "HTMLModel",
          "model_module_version": "1.5.0",
          "state": {
            "_dom_classes": [],
            "_model_module": "@jupyter-widgets/controls",
            "_model_module_version": "1.5.0",
            "_model_name": "HTMLModel",
            "_view_count": null,
            "_view_module": "@jupyter-widgets/controls",
            "_view_module_version": "1.5.0",
            "_view_name": "HTMLView",
            "description": "",
            "description_tooltip": null,
            "layout": "IPY_MODEL_1d7f39605ed34361b34843acea357d91",
            "placeholder": "​",
            "style": "IPY_MODEL_67dcaacf733b4941b9a275f5673532e3",
            "value": " 2.32k/2.32k [00:00&lt;00:00, 172kB/s]"
          }
        },
        "613c73e4e1d14f09856a7f87b2733eaa": {
          "model_module": "@jupyter-widgets/base",
          "model_name": "LayoutModel",
          "model_module_version": "1.2.0",
          "state": {
            "_model_module": "@jupyter-widgets/base",
            "_model_module_version": "1.2.0",
            "_model_name": "LayoutModel",
            "_view_count": null,
            "_view_module": "@jupyter-widgets/base",
            "_view_module_version": "1.2.0",
            "_view_name": "LayoutView",
            "align_content": null,
            "align_items": null,
            "align_self": null,
            "border": null,
            "bottom": null,
            "display": null,
            "flex": null,
            "flex_flow": null,
            "grid_area": null,
            "grid_auto_columns": null,
            "grid_auto_flow": null,
            "grid_auto_rows": null,
            "grid_column": null,
            "grid_gap": null,
            "grid_row": null,
            "grid_template_areas": null,
            "grid_template_columns": null,
            "grid_template_rows": null,
            "height": null,
            "justify_content": null,
            "justify_items": null,
            "left": null,
            "margin": null,
            "max_height": null,
            "max_width": null,
            "min_height": null,
            "min_width": null,
            "object_fit": null,
            "object_position": null,
            "order": null,
            "overflow": null,
            "overflow_x": null,
            "overflow_y": null,
            "padding": null,
            "right": null,
            "top": null,
            "visibility": null,
            "width": null
          }
        },
        "a0f6218e55a64a18859880a856e421ff": {
          "model_module": "@jupyter-widgets/base",
          "model_name": "LayoutModel",
          "model_module_version": "1.2.0",
          "state": {
            "_model_module": "@jupyter-widgets/base",
            "_model_module_version": "1.2.0",
            "_model_name": "LayoutModel",
            "_view_count": null,
            "_view_module": "@jupyter-widgets/base",
            "_view_module_version": "1.2.0",
            "_view_name": "LayoutView",
            "align_content": null,
            "align_items": null,
            "align_self": null,
            "border": null,
            "bottom": null,
            "display": null,
            "flex": null,
            "flex_flow": null,
            "grid_area": null,
            "grid_auto_columns": null,
            "grid_auto_flow": null,
            "grid_auto_rows": null,
            "grid_column": null,
            "grid_gap": null,
            "grid_row": null,
            "grid_template_areas": null,
            "grid_template_columns": null,
            "grid_template_rows": null,
            "height": null,
            "justify_content": null,
            "justify_items": null,
            "left": null,
            "margin": null,
            "max_height": null,
            "max_width": null,
            "min_height": null,
            "min_width": null,
            "object_fit": null,
            "object_position": null,
            "order": null,
            "overflow": null,
            "overflow_x": null,
            "overflow_y": null,
            "padding": null,
            "right": null,
            "top": null,
            "visibility": null,
            "width": null
          }
        },
        "cf6ed0b91d9b400b8fc73227458a6f41": {
          "model_module": "@jupyter-widgets/controls",
          "model_name": "DescriptionStyleModel",
          "model_module_version": "1.5.0",
          "state": {
            "_model_module": "@jupyter-widgets/controls",
            "_model_module_version": "1.5.0",
            "_model_name": "DescriptionStyleModel",
            "_view_count": null,
            "_view_module": "@jupyter-widgets/base",
            "_view_module_version": "1.2.0",
            "_view_name": "StyleView",
            "description_width": ""
          }
        },
        "6f9cea3765034cb5a3269977d4da33e4": {
          "model_module": "@jupyter-widgets/base",
          "model_name": "LayoutModel",
          "model_module_version": "1.2.0",
          "state": {
            "_model_module": "@jupyter-widgets/base",
            "_model_module_version": "1.2.0",
            "_model_name": "LayoutModel",
            "_view_count": null,
            "_view_module": "@jupyter-widgets/base",
            "_view_module_version": "1.2.0",
            "_view_name": "LayoutView",
            "align_content": null,
            "align_items": null,
            "align_self": null,
            "border": null,
            "bottom": null,
            "display": null,
            "flex": null,
            "flex_flow": null,
            "grid_area": null,
            "grid_auto_columns": null,
            "grid_auto_flow": null,
            "grid_auto_rows": null,
            "grid_column": null,
            "grid_gap": null,
            "grid_row": null,
            "grid_template_areas": null,
            "grid_template_columns": null,
            "grid_template_rows": null,
            "height": null,
            "justify_content": null,
            "justify_items": null,
            "left": null,
            "margin": null,
            "max_height": null,
            "max_width": null,
            "min_height": null,
            "min_width": null,
            "object_fit": null,
            "object_position": null,
            "order": null,
            "overflow": null,
            "overflow_x": null,
            "overflow_y": null,
            "padding": null,
            "right": null,
            "top": null,
            "visibility": null,
            "width": null
          }
        },
        "b7cc5ad83ceb494188b255342918dfa4": {
          "model_module": "@jupyter-widgets/controls",
          "model_name": "ProgressStyleModel",
          "model_module_version": "1.5.0",
          "state": {
            "_model_module": "@jupyter-widgets/controls",
            "_model_module_version": "1.5.0",
            "_model_name": "ProgressStyleModel",
            "_view_count": null,
            "_view_module": "@jupyter-widgets/base",
            "_view_module_version": "1.2.0",
            "_view_name": "StyleView",
            "bar_color": null,
            "description_width": ""
          }
        },
        "1d7f39605ed34361b34843acea357d91": {
          "model_module": "@jupyter-widgets/base",
          "model_name": "LayoutModel",
          "model_module_version": "1.2.0",
          "state": {
            "_model_module": "@jupyter-widgets/base",
            "_model_module_version": "1.2.0",
            "_model_name": "LayoutModel",
            "_view_count": null,
            "_view_module": "@jupyter-widgets/base",
            "_view_module_version": "1.2.0",
            "_view_name": "LayoutView",
            "align_content": null,
            "align_items": null,
            "align_self": null,
            "border": null,
            "bottom": null,
            "display": null,
            "flex": null,
            "flex_flow": null,
            "grid_area": null,
            "grid_auto_columns": null,
            "grid_auto_flow": null,
            "grid_auto_rows": null,
            "grid_column": null,
            "grid_gap": null,
            "grid_row": null,
            "grid_template_areas": null,
            "grid_template_columns": null,
            "grid_template_rows": null,
            "height": null,
            "justify_content": null,
            "justify_items": null,
            "left": null,
            "margin": null,
            "max_height": null,
            "max_width": null,
            "min_height": null,
            "min_width": null,
            "object_fit": null,
            "object_position": null,
            "order": null,
            "overflow": null,
            "overflow_x": null,
            "overflow_y": null,
            "padding": null,
            "right": null,
            "top": null,
            "visibility": null,
            "width": null
          }
        },
        "67dcaacf733b4941b9a275f5673532e3": {
          "model_module": "@jupyter-widgets/controls",
          "model_name": "DescriptionStyleModel",
          "model_module_version": "1.5.0",
          "state": {
            "_model_module": "@jupyter-widgets/controls",
            "_model_module_version": "1.5.0",
            "_model_name": "DescriptionStyleModel",
            "_view_count": null,
            "_view_module": "@jupyter-widgets/base",
            "_view_module_version": "1.2.0",
            "_view_name": "StyleView",
            "description_width": ""
          }
        },
        "75ce4c2f03994c9cae8f699ae9240949": {
          "model_module": "@jupyter-widgets/controls",
          "model_name": "HBoxModel",
          "model_module_version": "1.5.0",
          "state": {
            "_dom_classes": [],
            "_model_module": "@jupyter-widgets/controls",
            "_model_module_version": "1.5.0",
            "_model_name": "HBoxModel",
            "_view_count": null,
            "_view_module": "@jupyter-widgets/controls",
            "_view_module_version": "1.5.0",
            "_view_name": "HBoxView",
            "box_style": "",
            "children": [
              "IPY_MODEL_bd69c9affc44436d96452e1f4dd47aaf",
              "IPY_MODEL_67834a52d0724d5d90427dad7932fa24",
              "IPY_MODEL_d305a1095a384442807720cf10dc1aed"
            ],
            "layout": "IPY_MODEL_d76c4fd84e4a4e2189e5c3a5f68855a2"
          }
        },
        "bd69c9affc44436d96452e1f4dd47aaf": {
          "model_module": "@jupyter-widgets/controls",
          "model_name": "HTMLModel",
          "model_module_version": "1.5.0",
          "state": {
            "_dom_classes": [],
            "_model_module": "@jupyter-widgets/controls",
            "_model_module_version": "1.5.0",
            "_model_name": "HTMLModel",
            "_view_count": null,
            "_view_module": "@jupyter-widgets/controls",
            "_view_module_version": "1.5.0",
            "_view_name": "HTMLView",
            "description": "",
            "description_tooltip": null,
            "layout": "IPY_MODEL_d9308ee06d714f4bacb31159376b9f63",
            "placeholder": "​",
            "style": "IPY_MODEL_2adc2bce1bf749f299426741e75bb0e8",
            "value": "spiece.model: 100%"
          }
        },
        "67834a52d0724d5d90427dad7932fa24": {
          "model_module": "@jupyter-widgets/controls",
          "model_name": "FloatProgressModel",
          "model_module_version": "1.5.0",
          "state": {
            "_dom_classes": [],
            "_model_module": "@jupyter-widgets/controls",
            "_model_module_version": "1.5.0",
            "_model_name": "FloatProgressModel",
            "_view_count": null,
            "_view_module": "@jupyter-widgets/controls",
            "_view_module_version": "1.5.0",
            "_view_name": "ProgressView",
            "bar_style": "success",
            "description": "",
            "description_tooltip": null,
            "layout": "IPY_MODEL_bc526df64af847aeaec2b6d5e2b60b84",
            "max": 791656,
            "min": 0,
            "orientation": "horizontal",
            "style": "IPY_MODEL_0636bb39f48347809f6284802a806aa1",
            "value": 791656
          }
        },
        "d305a1095a384442807720cf10dc1aed": {
          "model_module": "@jupyter-widgets/controls",
          "model_name": "HTMLModel",
          "model_module_version": "1.5.0",
          "state": {
            "_dom_classes": [],
            "_model_module": "@jupyter-widgets/controls",
            "_model_module_version": "1.5.0",
            "_model_name": "HTMLModel",
            "_view_count": null,
            "_view_module": "@jupyter-widgets/controls",
            "_view_module_version": "1.5.0",
            "_view_name": "HTMLView",
            "description": "",
            "description_tooltip": null,
            "layout": "IPY_MODEL_511b6f8359024503872caab3fe868ec6",
            "placeholder": "​",
            "style": "IPY_MODEL_5f21f96387614d14a905106fd921ba4d",
            "value": " 792k/792k [00:00&lt;00:00, 3.65MB/s]"
          }
        },
        "d76c4fd84e4a4e2189e5c3a5f68855a2": {
          "model_module": "@jupyter-widgets/base",
          "model_name": "LayoutModel",
          "model_module_version": "1.2.0",
          "state": {
            "_model_module": "@jupyter-widgets/base",
            "_model_module_version": "1.2.0",
            "_model_name": "LayoutModel",
            "_view_count": null,
            "_view_module": "@jupyter-widgets/base",
            "_view_module_version": "1.2.0",
            "_view_name": "LayoutView",
            "align_content": null,
            "align_items": null,
            "align_self": null,
            "border": null,
            "bottom": null,
            "display": null,
            "flex": null,
            "flex_flow": null,
            "grid_area": null,
            "grid_auto_columns": null,
            "grid_auto_flow": null,
            "grid_auto_rows": null,
            "grid_column": null,
            "grid_gap": null,
            "grid_row": null,
            "grid_template_areas": null,
            "grid_template_columns": null,
            "grid_template_rows": null,
            "height": null,
            "justify_content": null,
            "justify_items": null,
            "left": null,
            "margin": null,
            "max_height": null,
            "max_width": null,
            "min_height": null,
            "min_width": null,
            "object_fit": null,
            "object_position": null,
            "order": null,
            "overflow": null,
            "overflow_x": null,
            "overflow_y": null,
            "padding": null,
            "right": null,
            "top": null,
            "visibility": null,
            "width": null
          }
        },
        "d9308ee06d714f4bacb31159376b9f63": {
          "model_module": "@jupyter-widgets/base",
          "model_name": "LayoutModel",
          "model_module_version": "1.2.0",
          "state": {
            "_model_module": "@jupyter-widgets/base",
            "_model_module_version": "1.2.0",
            "_model_name": "LayoutModel",
            "_view_count": null,
            "_view_module": "@jupyter-widgets/base",
            "_view_module_version": "1.2.0",
            "_view_name": "LayoutView",
            "align_content": null,
            "align_items": null,
            "align_self": null,
            "border": null,
            "bottom": null,
            "display": null,
            "flex": null,
            "flex_flow": null,
            "grid_area": null,
            "grid_auto_columns": null,
            "grid_auto_flow": null,
            "grid_auto_rows": null,
            "grid_column": null,
            "grid_gap": null,
            "grid_row": null,
            "grid_template_areas": null,
            "grid_template_columns": null,
            "grid_template_rows": null,
            "height": null,
            "justify_content": null,
            "justify_items": null,
            "left": null,
            "margin": null,
            "max_height": null,
            "max_width": null,
            "min_height": null,
            "min_width": null,
            "object_fit": null,
            "object_position": null,
            "order": null,
            "overflow": null,
            "overflow_x": null,
            "overflow_y": null,
            "padding": null,
            "right": null,
            "top": null,
            "visibility": null,
            "width": null
          }
        },
        "2adc2bce1bf749f299426741e75bb0e8": {
          "model_module": "@jupyter-widgets/controls",
          "model_name": "DescriptionStyleModel",
          "model_module_version": "1.5.0",
          "state": {
            "_model_module": "@jupyter-widgets/controls",
            "_model_module_version": "1.5.0",
            "_model_name": "DescriptionStyleModel",
            "_view_count": null,
            "_view_module": "@jupyter-widgets/base",
            "_view_module_version": "1.2.0",
            "_view_name": "StyleView",
            "description_width": ""
          }
        },
        "bc526df64af847aeaec2b6d5e2b60b84": {
          "model_module": "@jupyter-widgets/base",
          "model_name": "LayoutModel",
          "model_module_version": "1.2.0",
          "state": {
            "_model_module": "@jupyter-widgets/base",
            "_model_module_version": "1.2.0",
            "_model_name": "LayoutModel",
            "_view_count": null,
            "_view_module": "@jupyter-widgets/base",
            "_view_module_version": "1.2.0",
            "_view_name": "LayoutView",
            "align_content": null,
            "align_items": null,
            "align_self": null,
            "border": null,
            "bottom": null,
            "display": null,
            "flex": null,
            "flex_flow": null,
            "grid_area": null,
            "grid_auto_columns": null,
            "grid_auto_flow": null,
            "grid_auto_rows": null,
            "grid_column": null,
            "grid_gap": null,
            "grid_row": null,
            "grid_template_areas": null,
            "grid_template_columns": null,
            "grid_template_rows": null,
            "height": null,
            "justify_content": null,
            "justify_items": null,
            "left": null,
            "margin": null,
            "max_height": null,
            "max_width": null,
            "min_height": null,
            "min_width": null,
            "object_fit": null,
            "object_position": null,
            "order": null,
            "overflow": null,
            "overflow_x": null,
            "overflow_y": null,
            "padding": null,
            "right": null,
            "top": null,
            "visibility": null,
            "width": null
          }
        },
        "0636bb39f48347809f6284802a806aa1": {
          "model_module": "@jupyter-widgets/controls",
          "model_name": "ProgressStyleModel",
          "model_module_version": "1.5.0",
          "state": {
            "_model_module": "@jupyter-widgets/controls",
            "_model_module_version": "1.5.0",
            "_model_name": "ProgressStyleModel",
            "_view_count": null,
            "_view_module": "@jupyter-widgets/base",
            "_view_module_version": "1.2.0",
            "_view_name": "StyleView",
            "bar_color": null,
            "description_width": ""
          }
        },
        "511b6f8359024503872caab3fe868ec6": {
          "model_module": "@jupyter-widgets/base",
          "model_name": "LayoutModel",
          "model_module_version": "1.2.0",
          "state": {
            "_model_module": "@jupyter-widgets/base",
            "_model_module_version": "1.2.0",
            "_model_name": "LayoutModel",
            "_view_count": null,
            "_view_module": "@jupyter-widgets/base",
            "_view_module_version": "1.2.0",
            "_view_name": "LayoutView",
            "align_content": null,
            "align_items": null,
            "align_self": null,
            "border": null,
            "bottom": null,
            "display": null,
            "flex": null,
            "flex_flow": null,
            "grid_area": null,
            "grid_auto_columns": null,
            "grid_auto_flow": null,
            "grid_auto_rows": null,
            "grid_column": null,
            "grid_gap": null,
            "grid_row": null,
            "grid_template_areas": null,
            "grid_template_columns": null,
            "grid_template_rows": null,
            "height": null,
            "justify_content": null,
            "justify_items": null,
            "left": null,
            "margin": null,
            "max_height": null,
            "max_width": null,
            "min_height": null,
            "min_width": null,
            "object_fit": null,
            "object_position": null,
            "order": null,
            "overflow": null,
            "overflow_x": null,
            "overflow_y": null,
            "padding": null,
            "right": null,
            "top": null,
            "visibility": null,
            "width": null
          }
        },
        "5f21f96387614d14a905106fd921ba4d": {
          "model_module": "@jupyter-widgets/controls",
          "model_name": "DescriptionStyleModel",
          "model_module_version": "1.5.0",
          "state": {
            "_model_module": "@jupyter-widgets/controls",
            "_model_module_version": "1.5.0",
            "_model_name": "DescriptionStyleModel",
            "_view_count": null,
            "_view_module": "@jupyter-widgets/base",
            "_view_module_version": "1.2.0",
            "_view_name": "StyleView",
            "description_width": ""
          }
        },
        "729d5b55e7b84ec08dad346f6dfb7d25": {
          "model_module": "@jupyter-widgets/controls",
          "model_name": "HBoxModel",
          "model_module_version": "1.5.0",
          "state": {
            "_dom_classes": [],
            "_model_module": "@jupyter-widgets/controls",
            "_model_module_version": "1.5.0",
            "_model_name": "HBoxModel",
            "_view_count": null,
            "_view_module": "@jupyter-widgets/controls",
            "_view_module_version": "1.5.0",
            "_view_name": "HBoxView",
            "box_style": "",
            "children": [
              "IPY_MODEL_e91339a1134545e8ac9f5152bbf873c3",
              "IPY_MODEL_e85253d11c514087b96ffd598d20ebf5",
              "IPY_MODEL_32783bb1a15e4221b9d8f361e305e1af"
            ],
            "layout": "IPY_MODEL_f136a51af537422da48c0d7837f2f2df"
          }
        },
        "e91339a1134545e8ac9f5152bbf873c3": {
          "model_module": "@jupyter-widgets/controls",
          "model_name": "HTMLModel",
          "model_module_version": "1.5.0",
          "state": {
            "_dom_classes": [],
            "_model_module": "@jupyter-widgets/controls",
            "_model_module_version": "1.5.0",
            "_model_name": "HTMLModel",
            "_view_count": null,
            "_view_module": "@jupyter-widgets/controls",
            "_view_module_version": "1.5.0",
            "_view_name": "HTMLView",
            "description": "",
            "description_tooltip": null,
            "layout": "IPY_MODEL_d169f882ab03452680793e3ecf35bcff",
            "placeholder": "​",
            "style": "IPY_MODEL_f936c829b807417fad681822bdbf16f6",
            "value": "tokenizer.json: 100%"
          }
        },
        "e85253d11c514087b96ffd598d20ebf5": {
          "model_module": "@jupyter-widgets/controls",
          "model_name": "FloatProgressModel",
          "model_module_version": "1.5.0",
          "state": {
            "_dom_classes": [],
            "_model_module": "@jupyter-widgets/controls",
            "_model_module_version": "1.5.0",
            "_model_name": "FloatProgressModel",
            "_view_count": null,
            "_view_module": "@jupyter-widgets/controls",
            "_view_module_version": "1.5.0",
            "_view_name": "ProgressView",
            "bar_style": "success",
            "description": "",
            "description_tooltip": null,
            "layout": "IPY_MODEL_004d98e11690441ba59fcb6283253176",
            "max": 1389353,
            "min": 0,
            "orientation": "horizontal",
            "style": "IPY_MODEL_00fca5d3cc9645ad9d000186d28bdbbf",
            "value": 1389353
          }
        },
        "32783bb1a15e4221b9d8f361e305e1af": {
          "model_module": "@jupyter-widgets/controls",
          "model_name": "HTMLModel",
          "model_module_version": "1.5.0",
          "state": {
            "_dom_classes": [],
            "_model_module": "@jupyter-widgets/controls",
            "_model_module_version": "1.5.0",
            "_model_name": "HTMLModel",
            "_view_count": null,
            "_view_module": "@jupyter-widgets/controls",
            "_view_module_version": "1.5.0",
            "_view_name": "HTMLView",
            "description": "",
            "description_tooltip": null,
            "layout": "IPY_MODEL_186dab52b61349e6b3748a178ac3ed22",
            "placeholder": "​",
            "style": "IPY_MODEL_04b9220d595d49e89aa30b82102b7231",
            "value": " 1.39M/1.39M [00:00&lt;00:00, 6.32MB/s]"
          }
        },
        "f136a51af537422da48c0d7837f2f2df": {
          "model_module": "@jupyter-widgets/base",
          "model_name": "LayoutModel",
          "model_module_version": "1.2.0",
          "state": {
            "_model_module": "@jupyter-widgets/base",
            "_model_module_version": "1.2.0",
            "_model_name": "LayoutModel",
            "_view_count": null,
            "_view_module": "@jupyter-widgets/base",
            "_view_module_version": "1.2.0",
            "_view_name": "LayoutView",
            "align_content": null,
            "align_items": null,
            "align_self": null,
            "border": null,
            "bottom": null,
            "display": null,
            "flex": null,
            "flex_flow": null,
            "grid_area": null,
            "grid_auto_columns": null,
            "grid_auto_flow": null,
            "grid_auto_rows": null,
            "grid_column": null,
            "grid_gap": null,
            "grid_row": null,
            "grid_template_areas": null,
            "grid_template_columns": null,
            "grid_template_rows": null,
            "height": null,
            "justify_content": null,
            "justify_items": null,
            "left": null,
            "margin": null,
            "max_height": null,
            "max_width": null,
            "min_height": null,
            "min_width": null,
            "object_fit": null,
            "object_position": null,
            "order": null,
            "overflow": null,
            "overflow_x": null,
            "overflow_y": null,
            "padding": null,
            "right": null,
            "top": null,
            "visibility": null,
            "width": null
          }
        },
        "d169f882ab03452680793e3ecf35bcff": {
          "model_module": "@jupyter-widgets/base",
          "model_name": "LayoutModel",
          "model_module_version": "1.2.0",
          "state": {
            "_model_module": "@jupyter-widgets/base",
            "_model_module_version": "1.2.0",
            "_model_name": "LayoutModel",
            "_view_count": null,
            "_view_module": "@jupyter-widgets/base",
            "_view_module_version": "1.2.0",
            "_view_name": "LayoutView",
            "align_content": null,
            "align_items": null,
            "align_self": null,
            "border": null,
            "bottom": null,
            "display": null,
            "flex": null,
            "flex_flow": null,
            "grid_area": null,
            "grid_auto_columns": null,
            "grid_auto_flow": null,
            "grid_auto_rows": null,
            "grid_column": null,
            "grid_gap": null,
            "grid_row": null,
            "grid_template_areas": null,
            "grid_template_columns": null,
            "grid_template_rows": null,
            "height": null,
            "justify_content": null,
            "justify_items": null,
            "left": null,
            "margin": null,
            "max_height": null,
            "max_width": null,
            "min_height": null,
            "min_width": null,
            "object_fit": null,
            "object_position": null,
            "order": null,
            "overflow": null,
            "overflow_x": null,
            "overflow_y": null,
            "padding": null,
            "right": null,
            "top": null,
            "visibility": null,
            "width": null
          }
        },
        "f936c829b807417fad681822bdbf16f6": {
          "model_module": "@jupyter-widgets/controls",
          "model_name": "DescriptionStyleModel",
          "model_module_version": "1.5.0",
          "state": {
            "_model_module": "@jupyter-widgets/controls",
            "_model_module_version": "1.5.0",
            "_model_name": "DescriptionStyleModel",
            "_view_count": null,
            "_view_module": "@jupyter-widgets/base",
            "_view_module_version": "1.2.0",
            "_view_name": "StyleView",
            "description_width": ""
          }
        },
        "004d98e11690441ba59fcb6283253176": {
          "model_module": "@jupyter-widgets/base",
          "model_name": "LayoutModel",
          "model_module_version": "1.2.0",
          "state": {
            "_model_module": "@jupyter-widgets/base",
            "_model_module_version": "1.2.0",
            "_model_name": "LayoutModel",
            "_view_count": null,
            "_view_module": "@jupyter-widgets/base",
            "_view_module_version": "1.2.0",
            "_view_name": "LayoutView",
            "align_content": null,
            "align_items": null,
            "align_self": null,
            "border": null,
            "bottom": null,
            "display": null,
            "flex": null,
            "flex_flow": null,
            "grid_area": null,
            "grid_auto_columns": null,
            "grid_auto_flow": null,
            "grid_auto_rows": null,
            "grid_column": null,
            "grid_gap": null,
            "grid_row": null,
            "grid_template_areas": null,
            "grid_template_columns": null,
            "grid_template_rows": null,
            "height": null,
            "justify_content": null,
            "justify_items": null,
            "left": null,
            "margin": null,
            "max_height": null,
            "max_width": null,
            "min_height": null,
            "min_width": null,
            "object_fit": null,
            "object_position": null,
            "order": null,
            "overflow": null,
            "overflow_x": null,
            "overflow_y": null,
            "padding": null,
            "right": null,
            "top": null,
            "visibility": null,
            "width": null
          }
        },
        "00fca5d3cc9645ad9d000186d28bdbbf": {
          "model_module": "@jupyter-widgets/controls",
          "model_name": "ProgressStyleModel",
          "model_module_version": "1.5.0",
          "state": {
            "_model_module": "@jupyter-widgets/controls",
            "_model_module_version": "1.5.0",
            "_model_name": "ProgressStyleModel",
            "_view_count": null,
            "_view_module": "@jupyter-widgets/base",
            "_view_module_version": "1.2.0",
            "_view_name": "StyleView",
            "bar_color": null,
            "description_width": ""
          }
        },
        "186dab52b61349e6b3748a178ac3ed22": {
          "model_module": "@jupyter-widgets/base",
          "model_name": "LayoutModel",
          "model_module_version": "1.2.0",
          "state": {
            "_model_module": "@jupyter-widgets/base",
            "_model_module_version": "1.2.0",
            "_model_name": "LayoutModel",
            "_view_count": null,
            "_view_module": "@jupyter-widgets/base",
            "_view_module_version": "1.2.0",
            "_view_name": "LayoutView",
            "align_content": null,
            "align_items": null,
            "align_self": null,
            "border": null,
            "bottom": null,
            "display": null,
            "flex": null,
            "flex_flow": null,
            "grid_area": null,
            "grid_auto_columns": null,
            "grid_auto_flow": null,
            "grid_auto_rows": null,
            "grid_column": null,
            "grid_gap": null,
            "grid_row": null,
            "grid_template_areas": null,
            "grid_template_columns": null,
            "grid_template_rows": null,
            "height": null,
            "justify_content": null,
            "justify_items": null,
            "left": null,
            "margin": null,
            "max_height": null,
            "max_width": null,
            "min_height": null,
            "min_width": null,
            "object_fit": null,
            "object_position": null,
            "order": null,
            "overflow": null,
            "overflow_x": null,
            "overflow_y": null,
            "padding": null,
            "right": null,
            "top": null,
            "visibility": null,
            "width": null
          }
        },
        "04b9220d595d49e89aa30b82102b7231": {
          "model_module": "@jupyter-widgets/controls",
          "model_name": "DescriptionStyleModel",
          "model_module_version": "1.5.0",
          "state": {
            "_model_module": "@jupyter-widgets/controls",
            "_model_module_version": "1.5.0",
            "_model_name": "DescriptionStyleModel",
            "_view_count": null,
            "_view_module": "@jupyter-widgets/base",
            "_view_module_version": "1.2.0",
            "_view_name": "StyleView",
            "description_width": ""
          }
        },
        "3c68a07f0cf44dcfa41b00dc458b2eeb": {
          "model_module": "@jupyter-widgets/controls",
          "model_name": "HBoxModel",
          "model_module_version": "1.5.0",
          "state": {
            "_dom_classes": [],
            "_model_module": "@jupyter-widgets/controls",
            "_model_module_version": "1.5.0",
            "_model_name": "HBoxModel",
            "_view_count": null,
            "_view_module": "@jupyter-widgets/controls",
            "_view_module_version": "1.5.0",
            "_view_name": "HBoxView",
            "box_style": "",
            "children": [
              "IPY_MODEL_5a729b32669c4934b5d0b6f6604a33b0",
              "IPY_MODEL_5437a4aafd4840c68a166332e8d936d9",
              "IPY_MODEL_fdf533d4320e45f7a44c6177cd8b6e77"
            ],
            "layout": "IPY_MODEL_b20738b3a7f24909a5114631b8437690"
          }
        },
        "5a729b32669c4934b5d0b6f6604a33b0": {
          "model_module": "@jupyter-widgets/controls",
          "model_name": "HTMLModel",
          "model_module_version": "1.5.0",
          "state": {
            "_dom_classes": [],
            "_model_module": "@jupyter-widgets/controls",
            "_model_module_version": "1.5.0",
            "_model_name": "HTMLModel",
            "_view_count": null,
            "_view_module": "@jupyter-widgets/controls",
            "_view_module_version": "1.5.0",
            "_view_name": "HTMLView",
            "description": "",
            "description_tooltip": null,
            "layout": "IPY_MODEL_abd62b562e8e4decab9379c4f23af51b",
            "placeholder": "​",
            "style": "IPY_MODEL_7ff670d93f204bacabfa4ec064cc4495",
            "value": "Map: 100%"
          }
        },
        "5437a4aafd4840c68a166332e8d936d9": {
          "model_module": "@jupyter-widgets/controls",
          "model_name": "FloatProgressModel",
          "model_module_version": "1.5.0",
          "state": {
            "_dom_classes": [],
            "_model_module": "@jupyter-widgets/controls",
            "_model_module_version": "1.5.0",
            "_model_name": "FloatProgressModel",
            "_view_count": null,
            "_view_module": "@jupyter-widgets/controls",
            "_view_module_version": "1.5.0",
            "_view_name": "ProgressView",
            "bar_style": "success",
            "description": "",
            "description_tooltip": null,
            "layout": "IPY_MODEL_6ecadbacd1e14e1f9f8c50faf050e8b4",
            "max": 989,
            "min": 0,
            "orientation": "horizontal",
            "style": "IPY_MODEL_06b25529eb7b4bf2bf8132ae4926e6f1",
            "value": 989
          }
        },
        "fdf533d4320e45f7a44c6177cd8b6e77": {
          "model_module": "@jupyter-widgets/controls",
          "model_name": "HTMLModel",
          "model_module_version": "1.5.0",
          "state": {
            "_dom_classes": [],
            "_model_module": "@jupyter-widgets/controls",
            "_model_module_version": "1.5.0",
            "_model_name": "HTMLModel",
            "_view_count": null,
            "_view_module": "@jupyter-widgets/controls",
            "_view_module_version": "1.5.0",
            "_view_name": "HTMLView",
            "description": "",
            "description_tooltip": null,
            "layout": "IPY_MODEL_48d861d406d9432fbd00555760071d6e",
            "placeholder": "​",
            "style": "IPY_MODEL_575399b5a39e490e8e3b6022ec617097",
            "value": " 989/989 [00:10&lt;00:00, 66.69 examples/s]"
          }
        },
        "b20738b3a7f24909a5114631b8437690": {
          "model_module": "@jupyter-widgets/base",
          "model_name": "LayoutModel",
          "model_module_version": "1.2.0",
          "state": {
            "_model_module": "@jupyter-widgets/base",
            "_model_module_version": "1.2.0",
            "_model_name": "LayoutModel",
            "_view_count": null,
            "_view_module": "@jupyter-widgets/base",
            "_view_module_version": "1.2.0",
            "_view_name": "LayoutView",
            "align_content": null,
            "align_items": null,
            "align_self": null,
            "border": null,
            "bottom": null,
            "display": null,
            "flex": null,
            "flex_flow": null,
            "grid_area": null,
            "grid_auto_columns": null,
            "grid_auto_flow": null,
            "grid_auto_rows": null,
            "grid_column": null,
            "grid_gap": null,
            "grid_row": null,
            "grid_template_areas": null,
            "grid_template_columns": null,
            "grid_template_rows": null,
            "height": null,
            "justify_content": null,
            "justify_items": null,
            "left": null,
            "margin": null,
            "max_height": null,
            "max_width": null,
            "min_height": null,
            "min_width": null,
            "object_fit": null,
            "object_position": null,
            "order": null,
            "overflow": null,
            "overflow_x": null,
            "overflow_y": null,
            "padding": null,
            "right": null,
            "top": null,
            "visibility": null,
            "width": null
          }
        },
        "abd62b562e8e4decab9379c4f23af51b": {
          "model_module": "@jupyter-widgets/base",
          "model_name": "LayoutModel",
          "model_module_version": "1.2.0",
          "state": {
            "_model_module": "@jupyter-widgets/base",
            "_model_module_version": "1.2.0",
            "_model_name": "LayoutModel",
            "_view_count": null,
            "_view_module": "@jupyter-widgets/base",
            "_view_module_version": "1.2.0",
            "_view_name": "LayoutView",
            "align_content": null,
            "align_items": null,
            "align_self": null,
            "border": null,
            "bottom": null,
            "display": null,
            "flex": null,
            "flex_flow": null,
            "grid_area": null,
            "grid_auto_columns": null,
            "grid_auto_flow": null,
            "grid_auto_rows": null,
            "grid_column": null,
            "grid_gap": null,
            "grid_row": null,
            "grid_template_areas": null,
            "grid_template_columns": null,
            "grid_template_rows": null,
            "height": null,
            "justify_content": null,
            "justify_items": null,
            "left": null,
            "margin": null,
            "max_height": null,
            "max_width": null,
            "min_height": null,
            "min_width": null,
            "object_fit": null,
            "object_position": null,
            "order": null,
            "overflow": null,
            "overflow_x": null,
            "overflow_y": null,
            "padding": null,
            "right": null,
            "top": null,
            "visibility": null,
            "width": null
          }
        },
        "7ff670d93f204bacabfa4ec064cc4495": {
          "model_module": "@jupyter-widgets/controls",
          "model_name": "DescriptionStyleModel",
          "model_module_version": "1.5.0",
          "state": {
            "_model_module": "@jupyter-widgets/controls",
            "_model_module_version": "1.5.0",
            "_model_name": "DescriptionStyleModel",
            "_view_count": null,
            "_view_module": "@jupyter-widgets/base",
            "_view_module_version": "1.2.0",
            "_view_name": "StyleView",
            "description_width": ""
          }
        },
        "6ecadbacd1e14e1f9f8c50faf050e8b4": {
          "model_module": "@jupyter-widgets/base",
          "model_name": "LayoutModel",
          "model_module_version": "1.2.0",
          "state": {
            "_model_module": "@jupyter-widgets/base",
            "_model_module_version": "1.2.0",
            "_model_name": "LayoutModel",
            "_view_count": null,
            "_view_module": "@jupyter-widgets/base",
            "_view_module_version": "1.2.0",
            "_view_name": "LayoutView",
            "align_content": null,
            "align_items": null,
            "align_self": null,
            "border": null,
            "bottom": null,
            "display": null,
            "flex": null,
            "flex_flow": null,
            "grid_area": null,
            "grid_auto_columns": null,
            "grid_auto_flow": null,
            "grid_auto_rows": null,
            "grid_column": null,
            "grid_gap": null,
            "grid_row": null,
            "grid_template_areas": null,
            "grid_template_columns": null,
            "grid_template_rows": null,
            "height": null,
            "justify_content": null,
            "justify_items": null,
            "left": null,
            "margin": null,
            "max_height": null,
            "max_width": null,
            "min_height": null,
            "min_width": null,
            "object_fit": null,
            "object_position": null,
            "order": null,
            "overflow": null,
            "overflow_x": null,
            "overflow_y": null,
            "padding": null,
            "right": null,
            "top": null,
            "visibility": null,
            "width": null
          }
        },
        "06b25529eb7b4bf2bf8132ae4926e6f1": {
          "model_module": "@jupyter-widgets/controls",
          "model_name": "ProgressStyleModel",
          "model_module_version": "1.5.0",
          "state": {
            "_model_module": "@jupyter-widgets/controls",
            "_model_module_version": "1.5.0",
            "_model_name": "ProgressStyleModel",
            "_view_count": null,
            "_view_module": "@jupyter-widgets/base",
            "_view_module_version": "1.2.0",
            "_view_name": "StyleView",
            "bar_color": null,
            "description_width": ""
          }
        },
        "48d861d406d9432fbd00555760071d6e": {
          "model_module": "@jupyter-widgets/base",
          "model_name": "LayoutModel",
          "model_module_version": "1.2.0",
          "state": {
            "_model_module": "@jupyter-widgets/base",
            "_model_module_version": "1.2.0",
            "_model_name": "LayoutModel",
            "_view_count": null,
            "_view_module": "@jupyter-widgets/base",
            "_view_module_version": "1.2.0",
            "_view_name": "LayoutView",
            "align_content": null,
            "align_items": null,
            "align_self": null,
            "border": null,
            "bottom": null,
            "display": null,
            "flex": null,
            "flex_flow": null,
            "grid_area": null,
            "grid_auto_columns": null,
            "grid_auto_flow": null,
            "grid_auto_rows": null,
            "grid_column": null,
            "grid_gap": null,
            "grid_row": null,
            "grid_template_areas": null,
            "grid_template_columns": null,
            "grid_template_rows": null,
            "height": null,
            "justify_content": null,
            "justify_items": null,
            "left": null,
            "margin": null,
            "max_height": null,
            "max_width": null,
            "min_height": null,
            "min_width": null,
            "object_fit": null,
            "object_position": null,
            "order": null,
            "overflow": null,
            "overflow_x": null,
            "overflow_y": null,
            "padding": null,
            "right": null,
            "top": null,
            "visibility": null,
            "width": null
          }
        },
        "575399b5a39e490e8e3b6022ec617097": {
          "model_module": "@jupyter-widgets/controls",
          "model_name": "DescriptionStyleModel",
          "model_module_version": "1.5.0",
          "state": {
            "_model_module": "@jupyter-widgets/controls",
            "_model_module_version": "1.5.0",
            "_model_name": "DescriptionStyleModel",
            "_view_count": null,
            "_view_module": "@jupyter-widgets/base",
            "_view_module_version": "1.2.0",
            "_view_name": "StyleView",
            "description_width": ""
          }
        },
        "b29341cbe66d4c648f824316e42e7893": {
          "model_module": "@jupyter-widgets/controls",
          "model_name": "HBoxModel",
          "model_module_version": "1.5.0",
          "state": {
            "_dom_classes": [],
            "_model_module": "@jupyter-widgets/controls",
            "_model_module_version": "1.5.0",
            "_model_name": "HBoxModel",
            "_view_count": null,
            "_view_module": "@jupyter-widgets/controls",
            "_view_module_version": "1.5.0",
            "_view_name": "HBoxView",
            "box_style": "",
            "children": [
              "IPY_MODEL_8f65764d6f3345e4b177046325ffb9bb",
              "IPY_MODEL_075d3fbedc194b1292a5d563e1433dde",
              "IPY_MODEL_17c0fd9a67f842558dad3e742c1bd084"
            ],
            "layout": "IPY_MODEL_79fd0c7463f34e0da63648d9846609fd"
          }
        },
        "8f65764d6f3345e4b177046325ffb9bb": {
          "model_module": "@jupyter-widgets/controls",
          "model_name": "HTMLModel",
          "model_module_version": "1.5.0",
          "state": {
            "_dom_classes": [],
            "_model_module": "@jupyter-widgets/controls",
            "_model_module_version": "1.5.0",
            "_model_name": "HTMLModel",
            "_view_count": null,
            "_view_module": "@jupyter-widgets/controls",
            "_view_module_version": "1.5.0",
            "_view_name": "HTMLView",
            "description": "",
            "description_tooltip": null,
            "layout": "IPY_MODEL_404c3412003f41a9b9a49dde91999df4",
            "placeholder": "​",
            "style": "IPY_MODEL_11ace583917947e3b4d813abf1e1faab",
            "value": "Map: 100%"
          }
        },
        "075d3fbedc194b1292a5d563e1433dde": {
          "model_module": "@jupyter-widgets/controls",
          "model_name": "FloatProgressModel",
          "model_module_version": "1.5.0",
          "state": {
            "_dom_classes": [],
            "_model_module": "@jupyter-widgets/controls",
            "_model_module_version": "1.5.0",
            "_model_name": "FloatProgressModel",
            "_view_count": null,
            "_view_module": "@jupyter-widgets/controls",
            "_view_module_version": "1.5.0",
            "_view_name": "ProgressView",
            "bar_style": "success",
            "description": "",
            "description_tooltip": null,
            "layout": "IPY_MODEL_0e2e8855a6f943d7ab7e06968f2ad598",
            "max": 248,
            "min": 0,
            "orientation": "horizontal",
            "style": "IPY_MODEL_b6484e2f592c4bb180b18a3c58c4647c",
            "value": 248
          }
        },
        "17c0fd9a67f842558dad3e742c1bd084": {
          "model_module": "@jupyter-widgets/controls",
          "model_name": "HTMLModel",
          "model_module_version": "1.5.0",
          "state": {
            "_dom_classes": [],
            "_model_module": "@jupyter-widgets/controls",
            "_model_module_version": "1.5.0",
            "_model_name": "HTMLModel",
            "_view_count": null,
            "_view_module": "@jupyter-widgets/controls",
            "_view_module_version": "1.5.0",
            "_view_name": "HTMLView",
            "description": "",
            "description_tooltip": null,
            "layout": "IPY_MODEL_3cbf70a7bf564e6aac62786d0d51e60a",
            "placeholder": "​",
            "style": "IPY_MODEL_8d71354209084007bcface064b91e86c",
            "value": " 248/248 [00:02&lt;00:00, 111.06 examples/s]"
          }
        },
        "79fd0c7463f34e0da63648d9846609fd": {
          "model_module": "@jupyter-widgets/base",
          "model_name": "LayoutModel",
          "model_module_version": "1.2.0",
          "state": {
            "_model_module": "@jupyter-widgets/base",
            "_model_module_version": "1.2.0",
            "_model_name": "LayoutModel",
            "_view_count": null,
            "_view_module": "@jupyter-widgets/base",
            "_view_module_version": "1.2.0",
            "_view_name": "LayoutView",
            "align_content": null,
            "align_items": null,
            "align_self": null,
            "border": null,
            "bottom": null,
            "display": null,
            "flex": null,
            "flex_flow": null,
            "grid_area": null,
            "grid_auto_columns": null,
            "grid_auto_flow": null,
            "grid_auto_rows": null,
            "grid_column": null,
            "grid_gap": null,
            "grid_row": null,
            "grid_template_areas": null,
            "grid_template_columns": null,
            "grid_template_rows": null,
            "height": null,
            "justify_content": null,
            "justify_items": null,
            "left": null,
            "margin": null,
            "max_height": null,
            "max_width": null,
            "min_height": null,
            "min_width": null,
            "object_fit": null,
            "object_position": null,
            "order": null,
            "overflow": null,
            "overflow_x": null,
            "overflow_y": null,
            "padding": null,
            "right": null,
            "top": null,
            "visibility": null,
            "width": null
          }
        },
        "404c3412003f41a9b9a49dde91999df4": {
          "model_module": "@jupyter-widgets/base",
          "model_name": "LayoutModel",
          "model_module_version": "1.2.0",
          "state": {
            "_model_module": "@jupyter-widgets/base",
            "_model_module_version": "1.2.0",
            "_model_name": "LayoutModel",
            "_view_count": null,
            "_view_module": "@jupyter-widgets/base",
            "_view_module_version": "1.2.0",
            "_view_name": "LayoutView",
            "align_content": null,
            "align_items": null,
            "align_self": null,
            "border": null,
            "bottom": null,
            "display": null,
            "flex": null,
            "flex_flow": null,
            "grid_area": null,
            "grid_auto_columns": null,
            "grid_auto_flow": null,
            "grid_auto_rows": null,
            "grid_column": null,
            "grid_gap": null,
            "grid_row": null,
            "grid_template_areas": null,
            "grid_template_columns": null,
            "grid_template_rows": null,
            "height": null,
            "justify_content": null,
            "justify_items": null,
            "left": null,
            "margin": null,
            "max_height": null,
            "max_width": null,
            "min_height": null,
            "min_width": null,
            "object_fit": null,
            "object_position": null,
            "order": null,
            "overflow": null,
            "overflow_x": null,
            "overflow_y": null,
            "padding": null,
            "right": null,
            "top": null,
            "visibility": null,
            "width": null
          }
        },
        "11ace583917947e3b4d813abf1e1faab": {
          "model_module": "@jupyter-widgets/controls",
          "model_name": "DescriptionStyleModel",
          "model_module_version": "1.5.0",
          "state": {
            "_model_module": "@jupyter-widgets/controls",
            "_model_module_version": "1.5.0",
            "_model_name": "DescriptionStyleModel",
            "_view_count": null,
            "_view_module": "@jupyter-widgets/base",
            "_view_module_version": "1.2.0",
            "_view_name": "StyleView",
            "description_width": ""
          }
        },
        "0e2e8855a6f943d7ab7e06968f2ad598": {
          "model_module": "@jupyter-widgets/base",
          "model_name": "LayoutModel",
          "model_module_version": "1.2.0",
          "state": {
            "_model_module": "@jupyter-widgets/base",
            "_model_module_version": "1.2.0",
            "_model_name": "LayoutModel",
            "_view_count": null,
            "_view_module": "@jupyter-widgets/base",
            "_view_module_version": "1.2.0",
            "_view_name": "LayoutView",
            "align_content": null,
            "align_items": null,
            "align_self": null,
            "border": null,
            "bottom": null,
            "display": null,
            "flex": null,
            "flex_flow": null,
            "grid_area": null,
            "grid_auto_columns": null,
            "grid_auto_flow": null,
            "grid_auto_rows": null,
            "grid_column": null,
            "grid_gap": null,
            "grid_row": null,
            "grid_template_areas": null,
            "grid_template_columns": null,
            "grid_template_rows": null,
            "height": null,
            "justify_content": null,
            "justify_items": null,
            "left": null,
            "margin": null,
            "max_height": null,
            "max_width": null,
            "min_height": null,
            "min_width": null,
            "object_fit": null,
            "object_position": null,
            "order": null,
            "overflow": null,
            "overflow_x": null,
            "overflow_y": null,
            "padding": null,
            "right": null,
            "top": null,
            "visibility": null,
            "width": null
          }
        },
        "b6484e2f592c4bb180b18a3c58c4647c": {
          "model_module": "@jupyter-widgets/controls",
          "model_name": "ProgressStyleModel",
          "model_module_version": "1.5.0",
          "state": {
            "_model_module": "@jupyter-widgets/controls",
            "_model_module_version": "1.5.0",
            "_model_name": "ProgressStyleModel",
            "_view_count": null,
            "_view_module": "@jupyter-widgets/base",
            "_view_module_version": "1.2.0",
            "_view_name": "StyleView",
            "bar_color": null,
            "description_width": ""
          }
        },
        "3cbf70a7bf564e6aac62786d0d51e60a": {
          "model_module": "@jupyter-widgets/base",
          "model_name": "LayoutModel",
          "model_module_version": "1.2.0",
          "state": {
            "_model_module": "@jupyter-widgets/base",
            "_model_module_version": "1.2.0",
            "_model_name": "LayoutModel",
            "_view_count": null,
            "_view_module": "@jupyter-widgets/base",
            "_view_module_version": "1.2.0",
            "_view_name": "LayoutView",
            "align_content": null,
            "align_items": null,
            "align_self": null,
            "border": null,
            "bottom": null,
            "display": null,
            "flex": null,
            "flex_flow": null,
            "grid_area": null,
            "grid_auto_columns": null,
            "grid_auto_flow": null,
            "grid_auto_rows": null,
            "grid_column": null,
            "grid_gap": null,
            "grid_row": null,
            "grid_template_areas": null,
            "grid_template_columns": null,
            "grid_template_rows": null,
            "height": null,
            "justify_content": null,
            "justify_items": null,
            "left": null,
            "margin": null,
            "max_height": null,
            "max_width": null,
            "min_height": null,
            "min_width": null,
            "object_fit": null,
            "object_position": null,
            "order": null,
            "overflow": null,
            "overflow_x": null,
            "overflow_y": null,
            "padding": null,
            "right": null,
            "top": null,
            "visibility": null,
            "width": null
          }
        },
        "8d71354209084007bcface064b91e86c": {
          "model_module": "@jupyter-widgets/controls",
          "model_name": "DescriptionStyleModel",
          "model_module_version": "1.5.0",
          "state": {
            "_model_module": "@jupyter-widgets/controls",
            "_model_module_version": "1.5.0",
            "_model_name": "DescriptionStyleModel",
            "_view_count": null,
            "_view_module": "@jupyter-widgets/base",
            "_view_module_version": "1.2.0",
            "_view_name": "StyleView",
            "description_width": ""
          }
        }
      }
    }
  },
  "nbformat": 4,
  "nbformat_minor": 0
}