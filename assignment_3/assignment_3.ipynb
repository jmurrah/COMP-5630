{
 "cells": [
  {
   "cell_type": "markdown",
   "metadata": {
    "id": "lEfEJVmSXS_h"
   },
   "source": [
    "# Assignment-3 COMP-5630 Jacob Murrah\n",
    "## README\n",
    "This notebook implements natural language processing tasks focusing on word embeddings, n-gram classification, and sequence-to-sequence models for text summarization. It explores different embedding techniques, evaluates n-gram features for classification, and implements RNN-based models for summarizing legislative text.\n",
    "\n",
    "## Dependencies\n",
    "- **Python 3.x**\n",
    "- **matplotlib**\n",
    "- **seaborn**\n",
    "- **nltk**\n",
    "- **numpy==1.26.4**\n",
    "- **torch==2.2.2**\n",
    "- **transformers==4.50.3**\n",
    "- **datasets==2.18.0**\n",
    "- **scipy==1.12.0**\n",
    "- **pandas==2.1.4**\n",
    "- **scikit-learn==1.4.0**\n",
    "- **gensim==4.3.2**\n",
    "- **evaluate==0.4.1**\n",
    "\n",
    "## Instructions\n",
    "1) Run the cell with the skip cell magic function defined. Marked with the # SKIP MAGIC FUNCTION comment.\n",
    "2) Run the cell beginning with %%skip and marked with the # DOWNLOAD PACKAGES CELL comment.\n",
    "3) After downloads are complete the runtime will be disconnected and you will see an associated message.\n",
    "4) Reconnect the runtime and click on \\\"Runtime\\\" > \\\"Run all\\\" to execute the entire notebook sequentially.\n",
    "6) The notebook is organized into several sections. Ensure that all cells run without errors."
   ]
  },
  {
   "cell_type": "code",
   "execution_count": 3,
   "metadata": {
    "id": "RlReYxVjagE9"
   },
   "outputs": [],
   "source": [
    "SKIP_INSTALL = True"
   ]
  },
  {
   "cell_type": "code",
   "execution_count": 4,
   "metadata": {
    "id": "emr_zPDbDzTV"
   },
   "outputs": [],
   "source": [
    "# SKIP MAGIC FUNCTION\n",
    "from IPython.core.magic import register_cell_magic\n",
    "\n",
    "@register_cell_magic\n",
    "def skip(line, cell):\n",
    "  if globals().get('SKIP_INSTALL', False):\n",
    "    print(\"Skipping installation cell.\")\n",
    "  else:\n",
    "    get_ipython().run_cell(cell)"
   ]
  },
  {
   "cell_type": "code",
   "execution_count": 5,
   "metadata": {
    "id": "yj6sNu9vcAt6"
   },
   "outputs": [],
   "source": [
    "# SKIP_INSTALL = False"
   ]
  },
  {
   "cell_type": "code",
   "execution_count": 6,
   "metadata": {
    "colab": {
     "base_uri": "https://localhost:8080/"
    },
    "id": "b9A3z2JkJ2R7",
    "outputId": "80b2f013-dbdd-431f-bad8-39f4fec7b1f3"
   },
   "outputs": [
    {
     "name": "stdout",
     "output_type": "stream",
     "text": [
      "Skipping installation cell.\n"
     ]
    }
   ],
   "source": [
    "%%skip\n",
    "# DOWNLOAD PACKAGES CELL\n",
    "import contextlib\n",
    "import io\n",
    "import time\n",
    "import sys\n",
    "import subprocess\n",
    "import re\n",
    "import os\n",
    "\n",
    "def capture_output():\n",
    "  return contextlib.redirect_stdout(io.StringIO())\n",
    "\n",
    "print(\"Downloads take ~5 minutes but are required for version compatiability!\")\n",
    "time.sleep(1)\n",
    "\n",
    "with capture_output():\n",
    "  package_versions = {\n",
    "    \"numpy\": \"1.26.4\",\n",
    "    \"torch\": \"2.2.2\",\n",
    "    \"transformers\": \"4.50.3\",\n",
    "    \"datasets\": \"2.18.0\",\n",
    "    \"scipy\": \"1.12.0\",\n",
    "    \"pandas\": \"2.1.4\",\n",
    "    \"scikit-learn\": \"1.4.0\",\n",
    "    \"gensim\": \"4.3.2\",\n",
    "    \"evaluate\": \"0.4.1\"\n",
    "  }\n",
    "\n",
    "  # get cuda version\n",
    "  cuda_version_str = \"N/A\"\n",
    "  cuda_major_minor = None\n",
    "  nvcc_output = subprocess.check_output(['nvcc', '--version']).decode('utf-8')\n",
    "  match_obj = re.search(r'release (\\d+\\.\\d+)', nvcc_output)\n",
    "  if match_obj:\n",
    "    cuda_version_str = match_obj.group(1)\n",
    "    cuda_major_minor = \"\".join(cuda_version_str.split('.'))\n",
    "\n",
    "  # pytorch installation\n",
    "  pytorch_version = package_versions[\"torch\"]\n",
    "  pytorch_cuda_suffix = \"cu118\"\n",
    "  if cuda_major_minor and int(cuda_major_minor) >= 121:\n",
    "    pytorch_cuda_suffix = \"cu121\"\n",
    "\n",
    "  torchvision_version = \"0.17.2\"\n",
    "  torchaudio_version = \"2.2.2\"\n",
    "  pytorch_index_url = f\"https://download.pytorch.org/whl/{pytorch_cuda_suffix}\"\n",
    "\n",
    "  pytorch_install_command = (\n",
    "    f\"pip3 install \"\n",
    "    f\"torch=={pytorch_version}+{pytorch_cuda_suffix} \"\n",
    "    f\"torchvision=={torchvision_version}+{pytorch_cuda_suffix} \"\n",
    "    f\"torchaudio=={torchaudio_version}+{pytorch_cuda_suffix} \"\n",
    "    f\"--index-url {pytorch_index_url} --upgrade --no-cache-dir\"\n",
    "  )\n",
    "  get_ipython().system(pytorch_install_command)\n",
    "\n",
    "  # install specified packages\n",
    "  get_ipython().system('pip3 uninstall transformers -y')\n",
    "  packages_to_install = [\n",
    "    f\"{pkg}=={ver}\" for pkg, ver in package_versions.items() if pkg != \"torch\"\n",
    "  ]\n",
    "  other_packages_install_command = (\n",
    "    \"pip3 install --upgrade --no-cache-dir \" + \" \".join(packages_to_install)\n",
    "  )\n",
    "\n",
    "  get_ipython().system(other_packages_install_command)\n",
    "  get_ipython().system(\n",
    "    'pip install \"huggingface_hub[hf_xet]\" --upgrade --no-cache-dir'\n",
    "  )\n",
    "\n",
    "# restart environment\n",
    "print(\"Package installation completed successfully!\")\n",
    "os._exit(0)"
   ]
  },
  {
   "cell_type": "code",
   "execution_count": 7,
   "metadata": {
    "colab": {
     "base_uri": "https://localhost:8080/"
    },
    "id": "crWLttL5M5VI",
    "outputId": "d240b7f1-0063-4585-a9e6-f10f95d7cc3e"
   },
   "outputs": [
    {
     "name": "stdout",
     "output_type": "stream",
     "text": [
      "2.2.2+cu118\n"
     ]
    }
   ],
   "source": [
    "# basic imports\n",
    "import gensim\n",
    "import numpy as np\n",
    "import pandas as pd\n",
    "import sklearn as sk\n",
    "import matplotlib.pyplot as plt\n",
    "import seaborn as sns\n",
    "import re\n",
    "import string\n",
    "\n",
    "import importlib.metadata\n",
    "import sys\n",
    "version = importlib.metadata.version(\"torch\")\n",
    "print(version)"
   ]
  },
  {
   "cell_type": "markdown",
   "metadata": {
    "id": "pE5wn2vIqw0Z"
   },
   "source": [
    "# Part 1. Word Embeddings and N-gram"
   ]
  },
  {
   "cell_type": "code",
   "execution_count": 8,
   "metadata": {
    "id": "lr6cxAY9X18x"
   },
   "outputs": [],
   "source": [
    "import nltk\n",
    "from nltk.corpus import twitter_samples, stopwords\n",
    "from nltk.stem import PorterStemmer\n",
    "from nltk.tokenize import TweetTokenizer\n",
    "\n",
    "import gensim.downloader as api\n",
    "from gensim.models import FastText, Word2Vec\n",
    "from gensim.test.utils import datapath\n",
    "\n",
    "from sklearn.metrics.pairwise import cosine_similarity\n",
    "\n",
    "import re\n",
    "import string"
   ]
  },
  {
   "cell_type": "markdown",
   "metadata": {
    "id": "E6EywEfqWt0K"
   },
   "source": [
    "## Part 1. (1a-1b) You will examine two-word embeddings. You are given the following words:\n",
    "\n",
    "Dog, Bark, Tree, Bank, River, Money.\n",
    "\n",
    "Do the following:\n",
    "- Use Glove-twitter-50D word2vec and compute nxn matrices using cosine similarities for the given words.\n",
    "- Use FastText and compute nxn matrices using cosine similarities for the given words."
   ]
  },
  {
   "cell_type": "code",
   "execution_count": 9,
   "metadata": {
    "colab": {
     "base_uri": "https://localhost:8080/"
    },
    "id": "VsoKj7EaDwhF",
    "outputId": "02cfda3a-3a88-4703-cf8b-9ee4b17b53e3"
   },
   "outputs": [
    {
     "name": "stderr",
     "output_type": "stream",
     "text": [
      "[nltk_data] Downloading package twitter_samples to\n",
      "[nltk_data]     /home/jmurrah/nltk_data...\n",
      "[nltk_data]   Package twitter_samples is already up-to-date!\n",
      "[nltk_data] Downloading package stopwords to\n",
      "[nltk_data]     /home/jmurrah/nltk_data...\n",
      "[nltk_data]   Package stopwords is already up-to-date!\n"
     ]
    },
    {
     "name": "stdout",
     "output_type": "stream",
     "text": [
      "downloads completed!\n"
     ]
    }
   ],
   "source": [
    "# download glove-twitter-50 model\n",
    "nltk.download(\"twitter_samples\")\n",
    "nltk.download('stopwords')\n",
    "if \"glove\" not in globals():\n",
    "  glove = api.load(\"glove-twitter-50\")\n",
    "\n",
    "print(\"downloads completed!\")"
   ]
  },
  {
   "cell_type": "code",
   "execution_count": 10,
   "metadata": {
    "colab": {
     "base_uri": "https://localhost:8080/"
    },
    "id": "9i94n6xsc6eW",
    "outputId": "98208f04-60e1-472b-f364-8e1c9f8d9b9f"
   },
   "outputs": [
    {
     "name": "stdout",
     "output_type": "stream",
     "text": [
      "Number of tweets: 10000\n"
     ]
    }
   ],
   "source": [
    "# data preprocessing\n",
    "# https://www.kaggle.com/code/piyushagni5/sentiment-analysis-on-twitter-dataset-nlp\n",
    "def process_tweet(tweet):\n",
    "  stemmer = PorterStemmer()\n",
    "  stopwords_english = stopwords.words('english')\n",
    "\n",
    "  tweet = re.sub(r'\\$\\w*', '', tweet)\n",
    "  tweet = re.sub(r'^RT[\\s]+', '', tweet)\n",
    "  tweet = re.sub(r'https?:\\/\\/.*[\\r\\n]*', '', tweet)\n",
    "  tweet = re.sub(r'#', '', tweet)\n",
    "\n",
    "  tokenizer = TweetTokenizer(\n",
    "    preserve_case=False, strip_handles=True, reduce_len=True\n",
    "  )\n",
    "  tweet_tokens = tokenizer.tokenize(tweet)\n",
    "\n",
    "  tweets_clean = []\n",
    "  for word in tweet_tokens:\n",
    "    if (word not in stopwords_english and word not in string.punctuation):\n",
    "      stem_word = stemmer.stem(word)\n",
    "      tweets_clean.append(stem_word)\n",
    "\n",
    "  return tweets_clean\n",
    "\n",
    "negative_tweets = twitter_samples.strings(\"negative_tweets.json\")\n",
    "positive_tweets = twitter_samples.strings(\"positive_tweets.json\")\n",
    "common_texts = [\n",
    "  process_tweet(tweet)\n",
    "  for tweet_list in [negative_tweets, positive_tweets]\n",
    "  for tweet in tweet_list\n",
    "]\n",
    "print(f\"Number of tweets: {len(common_texts)}\")"
   ]
  },
  {
   "cell_type": "code",
   "execution_count": 11,
   "metadata": {
    "colab": {
     "base_uri": "https://localhost:8080/"
    },
    "id": "3xrAbDUoNRKI",
    "outputId": "57bac5c5-e525-4f6a-fc0c-9a236ba414a5"
   },
   "outputs": [
    {
     "name": "stdout",
     "output_type": "stream",
     "text": [
      "done training models!\n"
     ]
    }
   ],
   "source": [
    "# train the Word2Vec and FastText models\n",
    "# NOTE: our GloVe w2v model is already loaded\n",
    "if \"w2v\" not in globals():\n",
    "  w2v = Word2Vec(sentences=common_texts, vector_size=50, window=5, min_count=1)\n",
    "if \"ft\" not in globals():\n",
    "  ft = FastText(\n",
    "    vector_size=50, window=5, min_count=1, sentences=common_texts, epochs=10\n",
    "  )\n",
    "print(\"done training models!\")"
   ]
  },
  {
   "cell_type": "code",
   "execution_count": 12,
   "metadata": {
    "id": "O07OA-G4ZNh5"
   },
   "outputs": [],
   "source": [
    "# create similarity matrices of the words for each model\n",
    "def create_similarity_matrix(model, words, glove_model=False):\n",
    "  if glove_model:\n",
    "    common_text_words = set([word for text in common_texts for word in text])\n",
    "    glove_words = [\n",
    "      word.lower() for word in glove.key_to_index\n",
    "      if word.lower() in common_text_words\n",
    "    ]\n",
    "    words_in_model = [w for w in words if w in glove_words]\n",
    "  else:\n",
    "    words_in_model = [w for w in words if w in model.wv]\n",
    "\n",
    "  word_vectors = np.array(\n",
    "    [\n",
    "      model.get_vector(word) if glove_model else model.wv[word]\n",
    "      for word in words_in_model\n",
    "    ]\n",
    "  )\n",
    "  similarity_matrix = cosine_similarity(word_vectors)\n",
    "  return similarity_matrix, words_in_model\n",
    "\n",
    "words = [\"dog\", \"bark\", \"tree\", \"bank\", \"river\", \"money\"]\n",
    "glove_matrix, words_in_glove = create_similarity_matrix(\n",
    "  glove, words, glove_model=True\n",
    ")\n",
    "w2v_matrix, words_in_w2v = create_similarity_matrix(w2v, words)\n",
    "ft_matrix, words_in_ft = create_similarity_matrix(ft, words)"
   ]
  },
  {
   "cell_type": "code",
   "execution_count": 13,
   "metadata": {
    "colab": {
     "base_uri": "https://localhost:8080/",
     "height": 301
    },
    "id": "VCiS0O2fAB6i",
    "outputId": "a2f04356-e687-49e5-98b0-a57344080f63"
   },
   "outputs": [
    {
     "data": {
      "image/png": "[encoded data removed]",
      "text/plain": [
       "<Figure size 1800x500 with 6 Axes>"
      ]
     },
     "metadata": {},
     "output_type": "display_data"
    }
   ],
   "source": [
    "# plot the similarity matrices for each model\n",
    "def plot_similarity_matrices(matrices, words_lists, titles):\n",
    "  n = len(matrices)\n",
    "  fig, axes = plt.subplots(1, n, figsize=(n * 6, 5))\n",
    "  for i in range(n):\n",
    "    sns.heatmap(\n",
    "      matrices[i],\n",
    "      annot=True,\n",
    "      fmt=\".2f\",\n",
    "      cmap=\"YlGnBu\",\n",
    "      xticklabels=words_lists[i],\n",
    "      yticklabels=words_lists[i],\n",
    "      ax=axes[i]\n",
    "    )\n",
    "    axes[i].set_title(titles[i], fontsize=14)\n",
    "\n",
    "  plt.tight_layout()\n",
    "  plt.show()\n",
    "\n",
    "matrices = [glove_matrix, w2v_matrix, ft_matrix]\n",
    "words_lists = [words_in_glove, words_in_w2v, words_in_ft]\n",
    "titles = [\"GloVe Similarity\", \"Word2Vec Similarity\", \"FastText Similarity\"]\n",
    "plot_similarity_matrices(matrices, words_lists, titles)"
   ]
  },
  {
   "cell_type": "markdown",
   "metadata": {
    "id": "x8JCOqOqBtMx"
   },
   "source": [
    "## Part 1. (1c) Which embedding captures better semantics? Justify your answer.<br>\n",
    "**Answer:** Based on the similarity scores between the 6 words, the GloVe model is better at capturing the semantics, i.e the meaning, of the words. The FastText model is a close second. Since there is not a universal standard similarity score for these specific word pairs I am using my own understanding of the english language to evaluate.\n",
    "\n",
    "Words with multiple meanings:\n",
    "- Bark: Dog barking or tree bark\n",
    "- Bank: River bank or a bank that manages money\n",
    "\n",
    "Related pairs:\n",
    "- Dog-Bark\n",
    "- Tree-Bark\n",
    "- Money-Bank\n",
    "- River-Bank\n",
    "\n",
    "Model Evaluation:\n",
    "- **GloVe:** The similarity matrix shows clear differentiation between semantically distinct words. For example, the similarity between “bark” and “bank” is extremely low and the similarity between \"money\" and \"bank\" is relatively high.\n",
    "- **Word2Vec:** Shows high similarity scores across most of the pairs and does not differentiate unrelated words. For example, the words \"dog\" and \"tree\" are unrelated but have an extremely high similarity score.\n",
    "- **FastText:** Is able to capture semantic of words but at a more moderate extent than GloVe. This moderate scoring does not differentiate as clearly between related and unrelated pairs as GloVe does.\n",
    "\n",
    "Based only on their 6-word similarity matrices, the GloVe model provides more realistic similarity scores and thus captures the semantic similarities between words better than the other models."
   ]
  },
  {
   "cell_type": "code",
   "execution_count": 14,
   "metadata": {
    "colab": {
     "base_uri": "https://localhost:8080/"
    },
    "id": "iSAX_NSMEwsJ",
    "outputId": "01c646f0-f232-4ff1-b081-af0f8eafa814"
   },
   "outputs": [
    {
     "name": "stdout",
     "output_type": "stream",
     "text": [
      "GloVe Spearman Measurements:\n",
      " - Coefficient: 0.0975\n",
      " - P-Value: 0.0021\n",
      "Word2Vec Spearman Measurements:\n",
      " - Coefficient: -0.0223\n",
      " - P-Value: 0.6830\n",
      "FastText Spearman Measurements:\n",
      " - Coefficient: 0.0504\n",
      " - P-Value: 0.3553\n"
     ]
    }
   ],
   "source": [
    "benchmark = \"simlex999.txt\"\n",
    "result_glove = glove.evaluate_word_pairs(datapath(benchmark))\n",
    "result_w2v = w2v.wv.evaluate_word_pairs(datapath(benchmark))\n",
    "result_ft = ft.wv.evaluate_word_pairs(datapath(benchmark))\n",
    "\n",
    "print(f\"GloVe Spearman Measurements:\")\n",
    "print(f\" - Coefficient: {result_glove[1][0]:.4f}\")\n",
    "print(f\" - P-Value: {result_glove[1][1]:.4f}\")\n",
    "\n",
    "print(f\"Word2Vec Spearman Measurements:\")\n",
    "print(f\" - Coefficient: {result_w2v[1][0]:.4f}\")\n",
    "print(f\" - P-Value: {result_w2v[1][1]:.4f}\")\n",
    "\n",
    "print(f\"FastText Spearman Measurements:\")\n",
    "print(f\" - Coefficient: {result_ft[1][0]:.4f}\")\n",
    "print(f\" - P-Value: {result_ft[1][1]:.4f}\")"
   ]
  },
  {
   "cell_type": "markdown",
   "metadata": {
    "id": "HcIbTVPtT7YI"
   },
   "source": [
    "## Part 1. (1c) Continued analysis...<br>\n",
    "**Answer:** I wanted to see which model performed better on a larger set of words so I measured the Spearman Coefficients of each model on the 'simlex999' dataset. In our context, the Spearman Coefficient judges how well our model's predictions match a human's analysis of word pairs. A higher coefficient shows a better match. On the 'simlex999' dataset, the GloVe model achieves the highest Spearman coefficient and is the only model with a statistically significant p-value, indicating that it does the best at capturing overall semantic relationships across a broader range of word pairs."
   ]
  },
  {
   "cell_type": "markdown",
   "metadata": {
    "id": "vBEXJI1jYdWZ"
   },
   "source": [
    "## Part 1. (2a-2c) N-grams and Classification\n",
    "\n",
    "Do the following:\n",
    "- Split the data 70% training and 30% testing.\n",
    "- Extract n-grams for n in [1, 4]. unigram, bigram, trigram, 4-grams.\n",
    "- Build a logistic regression model using n-gram features."
   ]
  },
  {
   "cell_type": "code",
   "execution_count": 15,
   "metadata": {
    "id": "xECkSwbOaNnm"
   },
   "outputs": [],
   "source": [
    "import random\n",
    "from collections import defaultdict\n",
    "from sklearn.model_selection import train_test_split\n",
    "from sklearn.linear_model import LogisticRegression\n",
    "from sklearn.metrics import accuracy_score, classification_report\n",
    "from sklearn.feature_extraction.text import CountVectorizer\n",
    "from nltk.util import ngrams"
   ]
  },
  {
   "cell_type": "code",
   "execution_count": 16,
   "metadata": {
    "id": "UjHz3_gEZ8_E"
   },
   "outputs": [],
   "source": [
    "# split the data into 70% training and 30% testing\n",
    "seed = 2025\n",
    "random.seed(seed)\n",
    "labels = np.array([0] * len(negative_tweets) + [1] * len(positive_tweets))\n",
    "train_texts, test_texts, train_labels, test_labels = train_test_split(\n",
    "  common_texts, labels, test_size=0.3, random_state=seed\n",
    ")"
   ]
  },
  {
   "cell_type": "code",
   "execution_count": 17,
   "metadata": {
    "id": "eBHZT0Rra0hM"
   },
   "outputs": [],
   "source": [
    "# extract n-grams for n in [1, 4]. unigram, bigram, trigram, 4grams.\n",
    "def get_text_ngrams(text, n_range):\n",
    "  text_ngrams = []\n",
    "  for i in n_range:\n",
    "    text_string = [\"_\".join(gram) for gram in list(ngrams(text, i))]\n",
    "    text_ngrams.extend(text_string)\n",
    "\n",
    "  return \" \".join(text_ngrams)\n",
    "\n",
    "train_features = [get_text_ngrams(text, range(1, 5)) for text in train_texts]\n",
    "test_features = [get_text_ngrams(text, range(1, 5)) for text in test_texts]"
   ]
  },
  {
   "cell_type": "code",
   "execution_count": 18,
   "metadata": {
    "colab": {
     "base_uri": "https://localhost:8080/"
    },
    "id": "OeUFzjSSx6cG",
    "outputId": "77c3824e-94bd-4313-e6b3-e03b58e017f2"
   },
   "outputs": [
    {
     "name": "stdout",
     "output_type": "stream",
     "text": [
      "Accuracy: 0.7350\n",
      "              precision    recall  f1-score   support\n",
      "\n",
      "           0       0.71      0.79      0.75      1482\n",
      "           1       0.77      0.68      0.72      1518\n",
      "\n",
      "    accuracy                           0.73      3000\n",
      "   macro avg       0.74      0.74      0.73      3000\n",
      "weighted avg       0.74      0.73      0.73      3000\n",
      "\n"
     ]
    }
   ],
   "source": [
    "# logistic regression model\n",
    "def train_and_predict_model(\n",
    "  train_features, test_features, train_labels, test_labels\n",
    "):\n",
    "  vectorizer = CountVectorizer()\n",
    "  X_train = vectorizer.fit_transform(train_features)\n",
    "  X_test = vectorizer.transform(test_features)\n",
    "\n",
    "  model = LogisticRegression(max_iter=1000)\n",
    "  model.fit(X_train, train_labels)\n",
    "\n",
    "  y_pred = model.predict(X_test)\n",
    "  accuracy = accuracy_score(test_labels, y_pred)\n",
    "  report = classification_report(test_labels, y_pred)\n",
    "\n",
    "  return accuracy, report\n",
    "\n",
    "accuracy, report = train_and_predict_model(\n",
    "  train_features, test_features, train_labels, test_labels\n",
    ")\n",
    "print(f'Accuracy: {accuracy:.4f}')\n",
    "print(report)"
   ]
  },
  {
   "cell_type": "markdown",
   "metadata": {
    "id": "cn9JEMK_Y6-x"
   },
   "source": [
    "## Part 1. (2c) Evaluate your logistic regression model's performance.<br>\n",
    "**Answer:** My logistic regression model has an accuracy of ~73.5% with similar performance for predicting positive and negative sentiment in tweets. My model has better precision (fewer false positives) for positive sentiment tweets and better recall (fewer false negatives) for negative sentiment tweets. These results show that even a simple logistic regression model can predict sentiment in tweets with decent accuracy when trained with n-grams."
   ]
  },
  {
   "cell_type": "markdown",
   "metadata": {
    "id": "5toPn0azZEZI"
   },
   "source": [
    "## Part 1. (2d) Plotting model accuracy vs n"
   ]
  },
  {
   "cell_type": "code",
   "execution_count": 19,
   "metadata": {
    "colab": {
     "base_uri": "https://localhost:8080/"
    },
    "id": "LWncpeWF-EwH",
    "outputId": "06e7ae43-ac6e-4774-c661-6f222791784e"
   },
   "outputs": [
    {
     "name": "stdout",
     "output_type": "stream",
     "text": [
      "CUMULATIVE, n=1, acc=0.7237\n",
      "CUMULATIVE, n=2, acc=0.7370\n",
      "CUMULATIVE, n=3, acc=0.7373\n",
      "CUMULATIVE, n=4, acc=0.7350\n",
      "CUMULATIVE, n=5, acc=0.7333\n",
      "CUMULATIVE, n=6, acc=0.7320\n",
      "CUMULATIVE, n=7, acc=0.7300\n",
      "CUMULATIVE, n=8, acc=0.7283\n",
      "CUMULATIVE, n=9, acc=0.7300\n",
      "SINGLE, n=1, acc=0.7237\n",
      "SINGLE, n=2, acc=0.6657\n",
      "SINGLE, n=3, acc=0.5940\n",
      "SINGLE, n=4, acc=0.5650\n",
      "SINGLE, n=5, acc=0.5523\n",
      "SINGLE, n=6, acc=0.5430\n",
      "SINGLE, n=7, acc=0.5317\n",
      "SINGLE, n=8, acc=0.5223\n",
      "SINGLE, n=9, acc=0.5157\n"
     ]
    }
   ],
   "source": [
    "# compare cumulative vs stand alone ngram accuracies\n",
    "def get_accuracy_scores(train_texts, test_tests, n_range, cumulative):\n",
    "  accuracy_scores = []\n",
    "  for i in n_range:\n",
    "    r = range(i+1) if cumulative else range(i, i+1)\n",
    "    train_features = [get_text_ngrams(text, r) for text in train_texts]\n",
    "    test_features = [get_text_ngrams(text, r) for text in test_texts]\n",
    "\n",
    "    accuracy, report = train_and_predict_model(\n",
    "      train_features, test_features, train_labels, test_labels\n",
    "    )\n",
    "    print(\n",
    "      f\"{'CUMULATIVE' if cumulative else 'SINGLE'}, n={i}, acc={accuracy:.4f}\"\n",
    "    )\n",
    "    accuracy_scores.append(accuracy)\n",
    "\n",
    "  return accuracy_scores\n",
    "\n",
    "n_range = range(1, 10)\n",
    "cumulative_accs = get_accuracy_scores(train_texts, test_texts, n_range, True)\n",
    "single_accs = get_accuracy_scores(train_texts, test_texts, n_range, False)"
   ]
  },
  {
   "cell_type": "code",
   "execution_count": 20,
   "metadata": {
    "colab": {
     "base_uri": "https://localhost:8080/",
     "height": 379
    },
    "id": "bH-SpCjG-IDH",
    "outputId": "37db0063-3136-4bd8-e36c-d8280785cd08"
   },
   "outputs": [
    {
     "data": {
      "image/png": "[encoded data removed]",
      "text/plain": [
       "<Figure size 1400x500 with 2 Axes>"
      ]
     },
     "metadata": {},
     "output_type": "display_data"
    }
   ],
   "source": [
    "# plot the results\n",
    "def create_accuracy_plot(ax, n_range, accuracies, title, cumulative=False):\n",
    "  marker = 's' if cumulative else 'o'\n",
    "  color = '#ff7f0e' if cumulative else '#1f77b4'\n",
    "  ax.plot(\n",
    "    n_range,\n",
    "    accuracies,\n",
    "    marker=marker,\n",
    "    linestyle='-',\n",
    "    color=color,\n",
    "    linewidth=2,\n",
    "    markersize=8\n",
    "  )\n",
    "  ax.set_xlabel('Max N-gram Size (n)' if cumulative else 'N-gram Size (n)')\n",
    "  ax.set_ylabel('Accuracy')\n",
    "  ax.set_title(title, fontsize=14)\n",
    "  ax.grid(True, linestyle='--', alpha=0.7)\n",
    "  ax.set_xticks(n_range)\n",
    "\n",
    "  for i, acc in enumerate(accuracies):\n",
    "    ax.text(n_range[i], acc + 0.001, f'{acc:.4f}', ha='center', fontsize=9)\n",
    "\n",
    "def plot_ngram_comparison(n_range, single_accs, cumulative_accs):\n",
    "  fig, (ax1, ax2) = plt.subplots(1, 2, figsize=(14, 5))\n",
    "  create_accuracy_plot(\n",
    "    ax1, n_range, single_accs, 'Individual N-gram Size'\n",
    "  )\n",
    "  create_accuracy_plot(\n",
    "    ax2, n_range, cumulative_accs, 'Cumulative N-gram Size', True\n",
    "  )\n",
    "\n",
    "  plt.tight_layout()\n",
    "  plt.show()\n",
    "\n",
    "plot_ngram_comparison(n_range, single_accs, cumulative_accs)"
   ]
  },
  {
   "cell_type": "markdown",
   "metadata": {
    "id": "mtbEqQbkKG2K"
   },
   "source": [
    "## Part 1. (2d) How does the value of n in n-gram affect the model's performance?\n",
    "Explain your answer. You can draw a plot with n-gram and the model's performance.<br>\n",
    "**Answer:** The size of n and wether or not the n-grams are cumulative both have an impact on the model's accuracy.\n",
    "\n",
    "In terms of individual contributions to the model's accuracy, the unigrams have the most impact and provide the highest accuracy. This makes sense because individual words provide the majority of the sentiment in sentences. For cumulative n-grams, a maximum size of 3 provides the highest accuracy. After this point increasing the size of n leads to decreasing accuracy. Including up to trigrams provide the best accuracy because sentiment is often conveyed in 1-3 words in the english language. For example, two words are a requirement to convey the sentiment when saying something is 'not good'.\n",
    "\n",
    "Overall unigrams, bigrams, and trigrams make up most of the contributions to the model's accuracy. Any additional increases to n lead to diminishing accuracy because a majority of the sentiment is captured in just 1-3 word n-grams."
   ]
  },
  {
   "cell_type": "markdown",
   "metadata": {
    "id": "w7eEbiFGbty_"
   },
   "source": [
    "# Part 2. RNN and Machine Translation\n",
    "You will be training a Seq2seq model using RNN. Your input will be a text and the output will be a summary of the text."
   ]
  },
  {
   "cell_type": "code",
   "execution_count": 84,
   "metadata": {
    "id": "ikKj3_nMeLWy"
   },
   "outputs": [
    {
     "name": "stdout",
     "output_type": "stream",
     "text": [
      "Using device: cuda\n"
     ]
    }
   ],
   "source": [
    "# Imports for RNN\n",
    "import torch\n",
    "import torch.nn as nn\n",
    "import torch.optim as optim\n",
    "from torch.utils.data import Dataset, DataLoader\n",
    "from torch.nn.utils.rnn import pad_sequence\n",
    "import nltk\n",
    "from nltk.translate.bleu_score import corpus_bleu, sentence_bleu, SmoothingFunction\n",
    "from transformers import AutoTokenizer\n",
    "from transformers.optimization import Adafactor\n",
    "from datasets import load_dataset\n",
    "import random\n",
    "import time\n",
    "import numpy as np\n",
    "from tqdm.auto import tqdm\n",
    "\n",
    "# Set seeds for reproducibility\n",
    "seed = 2025\n",
    "random.seed(seed)\n",
    "np.random.seed(seed)\n",
    "torch.manual_seed(seed)\n",
    "if torch.cuda.is_available():\n",
    "    torch.cuda.manual_seed(seed)\n",
    "    \n",
    "# Set device\n",
    "device = torch.device('cuda' if torch.cuda.is_available() else 'cpu')\n",
    "print(f\"Using device: {device}\")"
   ]
  },
  {
   "cell_type": "markdown",
   "metadata": {
    "id": "9A4GbQYfb5mU"
   },
   "source": [
    "## Part 2. (1) Load the California State bill subset of the BillSum dataset from HuggingFace.\n",
    "Do the following:\n",
    "- Load the test split as your entire dataset for this task.\n",
    "- Split the dataset into a train and test set with the train test split method."
   ]
  },
  {
   "cell_type": "code",
   "execution_count": 85,
   "metadata": {
    "colab": {
     "base_uri": "https://localhost:8080/"
    },
    "id": "y_TcwVhwWka0",
    "outputId": "2d69db57-b460-4fac-dc86-50dc471b3358"
   },
   "outputs": [
    {
     "name": "stderr",
     "output_type": "stream",
     "text": [
      "[nltk_data] Downloading package punkt to /home/jmurrah/nltk_data...\n",
      "[nltk_data]   Package punkt is already up-to-date!\n",
      "[nltk_data] Downloading package punkt_tab to\n",
      "[nltk_data]     /home/jmurrah/nltk_data...\n",
      "[nltk_data]   Package punkt_tab is already up-to-date!\n"
     ]
    }
   ],
   "source": [
    "# download and load the data\n",
    "# https://huggingface.co/docs/transformers/main/en/tasks/summarization\n",
    "nltk.download('punkt')\n",
    "nltk.download('punkt_tab')\n",
    "billsum = load_dataset(\"billsum\", split=\"ca_test\")\n",
    "billsum = billsum.train_test_split(test_size=0.2, seed=seed)"
   ]
  },
  {
   "cell_type": "markdown",
   "metadata": {},
   "source": [
    "## Part 2. (2) Use the number of neurons, dropout, and your selection of RNN architecture. \n",
    "NOTE: Report BLEU as the model’s performance."
   ]
  },
  {
   "cell_type": "code",
   "execution_count": 86,
   "metadata": {},
   "outputs": [
    {
     "name": "stdout",
     "output_type": "stream",
     "text": [
      "Using BOS token ID: 0, EOS token ID: 1\n"
     ]
    }
   ],
   "source": [
    "# Initialize tokenizer\n",
    "# Fix the tokenizer initialization\n",
    "tokenizer = AutoTokenizer.from_pretrained(\"t5-small\")\n",
    "# Explicitly set special tokens if needed\n",
    "special_tokens_dict = {'additional_special_tokens': ['<s>', '</s>']}\n",
    "tokenizer.add_special_tokens(special_tokens_dict)\n",
    "# Define explicit token IDs for generation\n",
    "BOS_TOKEN_ID = 0  # Use a reliable token ID, typically 0 works for start token\n",
    "EOS_TOKEN_ID = 1  # Use 1 or another reliable token ID for end token\n",
    "print(f\"Using BOS token ID: {BOS_TOKEN_ID}, EOS token ID: {EOS_TOKEN_ID}\")\n",
    "\n",
    "# Define preprocessing function\n",
    "def preprocess_function(examples, input_max_length=1024, summary_max_length=128):\n",
    "    # Add prefix for T5-style conditioning\n",
    "    inputs = [\"summarize: \" + doc for doc in examples[\"text\"]]\n",
    "    \n",
    "    # Tokenize inputs\n",
    "    model_inputs = tokenizer(\n",
    "        inputs, \n",
    "        max_length=input_max_length, \n",
    "        truncation=True,\n",
    "        padding=\"max_length\"\n",
    "    )\n",
    "    \n",
    "    # Tokenize targets (summaries)\n",
    "    labels = tokenizer(\n",
    "        text_target=examples[\"summary\"], \n",
    "        max_length=summary_max_length, \n",
    "        truncation=True,\n",
    "        padding=\"max_length\"\n",
    "    )\n",
    "    \n",
    "    model_inputs[\"labels\"] = labels[\"input_ids\"]\n",
    "    return model_inputs"
   ]
  },
  {
   "cell_type": "code",
   "execution_count": 87,
   "metadata": {},
   "outputs": [],
   "source": [
    "# Simple Encoder (no bidirectional to avoid shape issues)\n",
    "class Encoder(nn.Module):\n",
    "    def __init__(self, vocab_size, embedding_dim, hidden_dim, n_layers, dropout):\n",
    "        super(Encoder, self).__init__()\n",
    "        self.embedding = nn.Embedding(vocab_size, embedding_dim)\n",
    "        self.rnn = nn.LSTM(\n",
    "            embedding_dim, \n",
    "            hidden_dim, \n",
    "            n_layers,\n",
    "            dropout=dropout if n_layers > 1 else 0, \n",
    "            batch_first=True\n",
    "        )\n",
    "        self.dropout = nn.Dropout(dropout)\n",
    "        \n",
    "    def forward(self, src):\n",
    "        # src shape: [batch_size, seq_len]\n",
    "        embedded = self.dropout(self.embedding(src))\n",
    "        # embedded shape: [batch_size, seq_len, embedding_dim]\n",
    "        \n",
    "        # Pass through RNN\n",
    "        outputs, (hidden, cell) = self.rnn(embedded)\n",
    "        # outputs shape: [batch_size, seq_len, hidden_dim]\n",
    "        # hidden/cell shape: [n_layers, batch_size, hidden_dim]\n",
    "        \n",
    "        return outputs, hidden, cell\n",
    "\n",
    "# Simple Attention Mechanism\n",
    "class Attention(nn.Module):\n",
    "    def __init__(self, hidden_dim):\n",
    "        super(Attention, self).__init__()\n",
    "        self.attn = nn.Linear(hidden_dim * 2, hidden_dim)\n",
    "        self.v = nn.Parameter(torch.rand(hidden_dim))\n",
    "        \n",
    "    def forward(self, hidden, encoder_outputs):\n",
    "        # hidden shape: [batch_size, hidden_dim]\n",
    "        # encoder_outputs shape: [batch_size, src_len, hidden_dim]\n",
    "        \n",
    "        batch_size = encoder_outputs.shape[0]\n",
    "        src_len = encoder_outputs.shape[1]\n",
    "        \n",
    "        # Repeat hidden state src_len times\n",
    "        hidden = hidden.unsqueeze(1).repeat(1, src_len, 1)\n",
    "        \n",
    "        # Calculate energy\n",
    "        energy = torch.tanh(self.attn(torch.cat((hidden, encoder_outputs), dim=2)))\n",
    "        \n",
    "        # Calculate attention weights\n",
    "        energy = energy.permute(0, 2, 1)\n",
    "        v = self.v.repeat(batch_size, 1).unsqueeze(1)\n",
    "        attention = torch.bmm(v, energy).squeeze(1)\n",
    "        \n",
    "        return torch.softmax(attention, dim=1)\n",
    "\n",
    "# Simple Decoder with Attention\n",
    "class Decoder(nn.Module):\n",
    "    def __init__(self, vocab_size, embedding_dim, hidden_dim, n_layers, dropout):\n",
    "        super(Decoder, self).__init__()\n",
    "        self.embedding = nn.Embedding(vocab_size, embedding_dim)\n",
    "        self.attention = Attention(hidden_dim)\n",
    "        self.rnn = nn.LSTM(\n",
    "            embedding_dim + hidden_dim, \n",
    "            hidden_dim, \n",
    "            n_layers,\n",
    "            dropout=dropout if n_layers > 1 else 0, \n",
    "            batch_first=True\n",
    "        )\n",
    "        self.fc_out = nn.Linear(hidden_dim * 2, vocab_size)\n",
    "        self.dropout = nn.Dropout(dropout)\n",
    "        \n",
    "    def forward(self, input_token, hidden, cell, encoder_outputs):\n",
    "        # input_token shape: [batch_size]\n",
    "        \n",
    "        # Add time dimension\n",
    "        input_token = input_token.unsqueeze(1)\n",
    "        # input_token shape: [batch_size, 1]\n",
    "        \n",
    "        embedded = self.dropout(self.embedding(input_token))\n",
    "        # embedded shape: [batch_size, 1, embedding_dim]\n",
    "        \n",
    "        # Calculate attention weights\n",
    "        a = self.attention(hidden[-1], encoder_outputs)\n",
    "        # a shape: [batch_size, src_len]\n",
    "        \n",
    "        a = a.unsqueeze(1)\n",
    "        # a shape: [batch_size, 1, src_len]\n",
    "        \n",
    "        # Apply attention weights to encoder outputs\n",
    "        weighted = torch.bmm(a, encoder_outputs)\n",
    "        # weighted shape: [batch_size, 1, hidden_dim]\n",
    "        \n",
    "        # Concatenate weighted context and embedded input\n",
    "        rnn_input = torch.cat((embedded, weighted), dim=2)\n",
    "        # rnn_input shape: [batch_size, 1, embedding_dim + hidden_dim]\n",
    "        \n",
    "        # Pass through RNN\n",
    "        output, (hidden, cell) = self.rnn(rnn_input, (hidden, cell))\n",
    "        # output shape: [batch_size, 1, hidden_dim]\n",
    "        \n",
    "        # Concatenate output and weighted context\n",
    "        output = torch.cat((output.squeeze(1), weighted.squeeze(1)), dim=1)\n",
    "        # output shape: [batch_size, hidden_dim * 2]\n",
    "        \n",
    "        # Pass through final linear layer\n",
    "        prediction = self.fc_out(output)\n",
    "        # prediction shape: [batch_size, vocab_size]\n",
    "        \n",
    "        return prediction, hidden, cell\n",
    "\n",
    "# Seq2Seq Model\n",
    "class Seq2Seq(nn.Module):\n",
    "    def __init__(self, encoder, decoder, device):\n",
    "        super(Seq2Seq, self).__init__()\n",
    "        self.encoder = encoder\n",
    "        self.decoder = decoder\n",
    "        self.device = device\n",
    "        \n",
    "    def forward(self, src, trg, teacher_forcing_ratio=0.5):\n",
    "        # src shape: [batch_size, src_len]\n",
    "        # trg shape: [batch_size, trg_len]\n",
    "        \n",
    "        batch_size = src.shape[0]\n",
    "        trg_len = trg.shape[1]\n",
    "        trg_vocab_size = self.decoder.fc_out.out_features\n",
    "        \n",
    "        # Tensor to store decoder outputs\n",
    "        outputs = torch.zeros(batch_size, trg_len, trg_vocab_size).to(self.device)\n",
    "        \n",
    "        # Encode the source sequence\n",
    "        encoder_outputs, hidden, cell = self.encoder(src)\n",
    "        \n",
    "        # First input to the decoder is the first token of the target sequence\n",
    "        input_token = trg[:, 0]\n",
    "        \n",
    "        # Teacher forcing - decide whether to use real target or prediction\n",
    "        for t in range(1, trg_len):\n",
    "            # Get prediction from decoder\n",
    "            output, hidden, cell = self.decoder(input_token, hidden, cell, encoder_outputs)\n",
    "            \n",
    "            # Store prediction\n",
    "            outputs[:, t] = output\n",
    "            \n",
    "            # Teacher forcing\n",
    "            teacher_force = random.random() < teacher_forcing_ratio\n",
    "            \n",
    "            # Get the highest predicted token\n",
    "            top1 = output.argmax(1)\n",
    "            \n",
    "            # Use real target token or predicted token\n",
    "            input_token = trg[:, t] if teacher_force else top1\n",
    "        \n",
    "        return outputs\n",
    "    \n",
    "# Fix the Seq2Seq.generate method\n",
    "    def generate(self, src, max_len, sos_idx=0, eos_idx=1):  # Default to reliable values\n",
    "        # src shape: [batch_size, src_len]\n",
    "        \n",
    "        batch_size = src.shape[0]\n",
    "        \n",
    "        # Encode the source sequence\n",
    "        encoder_outputs, hidden, cell = self.encoder(src)\n",
    "        \n",
    "        # First input to the decoder is the start token\n",
    "        input_token = torch.full((batch_size,), sos_idx, dtype=torch.long).to(self.device)\n",
    "        \n",
    "        # Tensor to store generated tokens\n",
    "        generated_tokens = []\n",
    "        \n",
    "        # Generate tokens\n",
    "        for _ in range(max_len):\n",
    "            # Get prediction from decoder\n",
    "            output, hidden, cell = self.decoder(input_token, hidden, cell, encoder_outputs)\n",
    "            \n",
    "            # Get the highest predicted token\n",
    "            top1 = output.argmax(1)\n",
    "            \n",
    "            # Add to generated tokens\n",
    "            generated_tokens.append(top1.unsqueeze(1))\n",
    "            \n",
    "            # Break if all sequences have generated EOS token\n",
    "            if eos_idx is not None and (top1 == eos_idx).all():\n",
    "                break\n",
    "                \n",
    "            # Use predicted token as next input\n",
    "            input_token = top1\n",
    "        \n",
    "        # Concatenate all tokens\n",
    "        if generated_tokens:\n",
    "            return torch.cat(generated_tokens, dim=1)\n",
    "        else:\n",
    "            return torch.zeros((batch_size, 1), dtype=torch.long).to(self.device)"
   ]
  },
  {
   "cell_type": "code",
   "execution_count": 88,
   "metadata": {},
   "outputs": [],
   "source": [
    "# Collate function for DataLoader\n",
    "def collate_fn(batch):\n",
    "    input_ids = [torch.tensor(x['input_ids']) for x in batch]\n",
    "    labels = [torch.tensor(x['labels']) for x in batch]\n",
    "    \n",
    "    # Pad sequences\n",
    "    input_ids_padded = pad_sequence(input_ids, batch_first=True, padding_value=tokenizer.pad_token_id)\n",
    "    labels_padded = pad_sequence(labels, batch_first=True, padding_value=tokenizer.pad_token_id)\n",
    "    \n",
    "    return {\n",
    "        'input_ids': input_ids_padded,\n",
    "        'labels': labels_padded\n",
    "    }\n",
    "\n",
    "# Create data loaders\n",
    "def create_data_loaders(tokenized_dataset, batch_size=8):\n",
    "    train_dataloader = DataLoader(\n",
    "        tokenized_dataset[\"train\"],\n",
    "        batch_size=batch_size,\n",
    "        shuffle=True,\n",
    "        collate_fn=collate_fn\n",
    "    )\n",
    "    \n",
    "    eval_dataloader = DataLoader(\n",
    "        tokenized_dataset[\"test\"],\n",
    "        batch_size=batch_size,\n",
    "        collate_fn=collate_fn\n",
    "    )\n",
    "    \n",
    "    return train_dataloader, eval_dataloader\n",
    "\n",
    "# Training function\n",
    "def train_epoch(model, dataloader, optimizer, criterion, device, teacher_forcing_ratio):\n",
    "    model.train()\n",
    "    total_loss = 0\n",
    "    \n",
    "    # Progress bar\n",
    "    progress_bar = tqdm(dataloader, desc=f\"Training (TF={teacher_forcing_ratio:.2f})\")\n",
    "    \n",
    "    for batch in progress_bar:\n",
    "        # Zero gradients\n",
    "        optimizer.zero_grad()\n",
    "        \n",
    "        # Get batch\n",
    "        src = batch[\"input_ids\"].to(device)\n",
    "        trg = batch[\"labels\"].to(device)\n",
    "        \n",
    "        # Forward pass\n",
    "        output = model(src, trg, teacher_forcing_ratio)\n",
    "        \n",
    "        # Reshape for loss calculation\n",
    "        output_dim = output.shape[-1]\n",
    "        output = output[:, 1:].reshape(-1, output_dim)\n",
    "        trg = trg[:, 1:].reshape(-1)\n",
    "        \n",
    "        # Calculate loss\n",
    "        loss = criterion(output, trg)\n",
    "        \n",
    "        # Backward pass\n",
    "        loss.backward()\n",
    "        \n",
    "        # Clip gradients\n",
    "        torch.nn.utils.clip_grad_norm_(model.parameters(), 1.0)\n",
    "        \n",
    "        # Update parameters\n",
    "        optimizer.step()\n",
    "        \n",
    "        # Update total loss\n",
    "        total_loss += loss.item()\n",
    "        \n",
    "        # Update progress bar\n",
    "        progress_bar.set_postfix({\"loss\": loss.item()})\n",
    "    \n",
    "    # Calculate average loss\n",
    "    avg_loss = total_loss / len(dataloader)\n",
    "    \n",
    "    return avg_loss\n",
    "\n",
    "# Process predictions for BLEU calculation\n",
    "def process_predictions(generated_tokens, reference_tokens):\n",
    "    predictions = []\n",
    "    references = []\n",
    "    \n",
    "    for i in range(len(generated_tokens)):\n",
    "        # Convert to lists\n",
    "        pred_tokens = generated_tokens[i].cpu().numpy().tolist()\n",
    "        ref_tokens = reference_tokens[i].cpu().numpy().tolist()\n",
    "        \n",
    "        # Remove padding and special tokens (handle potential None values)\n",
    "        pad_token_id = tokenizer.pad_token_id if tokenizer.pad_token_id is not None else 0\n",
    "        pred_tokens = [t for t in pred_tokens if t != pad_token_id]\n",
    "        ref_tokens = [t for t in ref_tokens if t != pad_token_id]\n",
    "        \n",
    "        # Decode tokens to text - handle potential errors\n",
    "        try:\n",
    "            pred_text = tokenizer.decode(pred_tokens, skip_special_tokens=True)\n",
    "            ref_text = tokenizer.decode(ref_tokens, skip_special_tokens=True)\n",
    "            \n",
    "            # Tokenize for BLEU calculation - ensure non-empty outputs\n",
    "            pred_tokens = nltk.word_tokenize(pred_text.lower()) if pred_text.strip() else [\"dummy\"]\n",
    "            ref_tokens = [nltk.word_tokenize(ref_text.lower())] if ref_text.strip() else [[\"dummy\"]]\n",
    "            \n",
    "            # Add to lists\n",
    "            predictions.append(pred_tokens)\n",
    "            references.append(ref_tokens)\n",
    "        except Exception as e:\n",
    "            print(f\"Error processing tokens: {e}\")\n",
    "            # Add dummy tokens to maintain batch alignment\n",
    "            predictions.append([\"dummy\"])\n",
    "            references.append([[\"dummy\"]])\n",
    "    \n",
    "    return predictions, references\n",
    "\n",
    "# Calculate BLEU score\n",
    "def calculate_bleu(predictions, references):\n",
    "    smoother = SmoothingFunction().method1\n",
    "    bleu_score = corpus_bleu(\n",
    "        references, \n",
    "        predictions,\n",
    "        weights=(0.25, 0.25, 0.25, 0.25),\n",
    "        smoothing_function=smoother\n",
    "    )\n",
    "    return bleu_score\n",
    "\n",
    "# Improved evaluation function\n",
    "def evaluate_model(model, dataloader, max_length, device):\n",
    "    model.eval()\n",
    "    predictions_all = []\n",
    "    references_all = []\n",
    "    \n",
    "    # If dataloader is a list (for interim evaluations), use it directly\n",
    "    if isinstance(dataloader, list):\n",
    "        batches = dataloader\n",
    "    else:\n",
    "        batches = tqdm(dataloader, desc=\"Evaluating\")\n",
    "    \n",
    "    with torch.no_grad():\n",
    "        for batch in batches:\n",
    "            # Get batch\n",
    "            src = batch[\"input_ids\"].to(device)\n",
    "            trg = batch[\"labels\"].to(device)\n",
    "            \n",
    "            # Generate summaries with improved parameters\n",
    "            generated_tokens = model.generate(\n",
    "                src, \n",
    "                max_len=max_length,\n",
    "                sos_idx=BOS_TOKEN_ID,\n",
    "                eos_idx=EOS_TOKEN_ID\n",
    "            )\n",
    "            \n",
    "            # Process predictions with better handling\n",
    "            preds, refs = process_predictions(generated_tokens, trg)\n",
    "            \n",
    "            # Add to lists\n",
    "            predictions_all.extend(preds)\n",
    "            references_all.extend(refs)\n",
    "    \n",
    "    # Only calculate BLEU if we have predictions\n",
    "    if predictions_all:\n",
    "        print(\"we have predictions\")\n",
    "        # Calculate BLEU score with multiple n-gram weights for better sensitivity\n",
    "        bleu_score = calculate_bleu(predictions_all, references_all)\n",
    "        return bleu_score\n",
    "    else:\n",
    "        print(\"no predictions\")\n",
    "        return 0.0"
   ]
  },
  {
   "cell_type": "code",
   "execution_count": 89,
   "metadata": {},
   "outputs": [],
   "source": [
    "# Update optimizer to Adafactor with better learning rate\n",
    "from transformers.optimization import Adafactor\n",
    "\n",
    "# Training loop with better parameters and early stopping\n",
    "def train_model(input_max_length, summary_max_length, embedding_dim, hidden_dim, \n",
    "                n_layers, dropout, num_epochs=3, batch_size=8, initial_tf=0.7, tf_decay=0.1,\n",
    "                patience=2, eval_steps=50, grad_accum_steps=4):\n",
    "    print(f\"Preprocessing data...\")\n",
    "    # Tokenize dataset\n",
    "    tokenized_billsum = billsum.map(\n",
    "        lambda examples: preprocess_function(examples, input_max_length, summary_max_length),\n",
    "        batched=True,\n",
    "        num_proc=4  # Speed up preprocessing with multiple processes\n",
    "    )\n",
    "    \n",
    "    print(f\"Creating data loaders...\")\n",
    "    # Create data loaders\n",
    "    train_dataloader, eval_dataloader = create_data_loaders(tokenized_billsum, batch_size)\n",
    "    \n",
    "    print(f\"Initializing model...\")\n",
    "    # Initialize model\n",
    "    vocab_size = len(tokenizer)\n",
    "    \n",
    "    encoder = Encoder(\n",
    "        vocab_size=vocab_size,\n",
    "        embedding_dim=embedding_dim,\n",
    "        hidden_dim=hidden_dim,\n",
    "        n_layers=n_layers,\n",
    "        dropout=dropout\n",
    "    )\n",
    "    \n",
    "    decoder = Decoder(\n",
    "        vocab_size=vocab_size,\n",
    "        embedding_dim=embedding_dim,\n",
    "        hidden_dim=hidden_dim,\n",
    "        n_layers=n_layers,\n",
    "        dropout=dropout\n",
    "    )\n",
    "    \n",
    "    model = Seq2Seq(encoder, decoder, device).to(device)\n",
    "    \n",
    "    # Switch to Adafactor optimizer with better learning rate\n",
    "    optimizer = Adafactor(\n",
    "        model.parameters(),\n",
    "        lr=2e-5,\n",
    "        scale_parameter=False,\n",
    "        relative_step=False,\n",
    "        warmup_init=False\n",
    "    )\n",
    "    \n",
    "    # Add label smoothing for better generalization\n",
    "    criterion = nn.CrossEntropyLoss(\n",
    "        ignore_index=tokenizer.pad_token_id,\n",
    "        label_smoothing=0.1\n",
    "    )\n",
    "    \n",
    "    print(f\"Training model...\")\n",
    "    best_bleu = 0\n",
    "    best_epoch = 0\n",
    "    no_improvement = 0\n",
    "    \n",
    "    # Track history\n",
    "    history = {\n",
    "        'train_loss': [],\n",
    "        'bleu_scores': [],\n",
    "        'time': []\n",
    "    }\n",
    "    \n",
    "    # Enhanced training loop with gradient accumulation and early stopping\n",
    "    for epoch in range(num_epochs):\n",
    "        start_time = time.time()\n",
    "        \n",
    "        # Calculate teacher forcing ratio\n",
    "        tf_ratio = max(initial_tf - (epoch * tf_decay), 0.1)\n",
    "        \n",
    "        # Train with gradient accumulation\n",
    "        model.train()\n",
    "        total_loss = 0\n",
    "        steps = 0\n",
    "        optimizer.zero_grad()\n",
    "        \n",
    "        # Progress bar\n",
    "        progress_bar = tqdm(enumerate(train_dataloader), total=len(train_dataloader), desc=f\"Training (TF={tf_ratio:.2f})\")\n",
    "        \n",
    "        for i, batch in progress_bar:\n",
    "            # Get batch\n",
    "            src = batch[\"input_ids\"].to(device)\n",
    "            trg = batch[\"labels\"].to(device)\n",
    "            \n",
    "            # Forward pass\n",
    "            output = model(src, trg, tf_ratio)\n",
    "            \n",
    "            # Reshape for loss calculation\n",
    "            output_dim = output.shape[-1]\n",
    "            output = output[:, 1:].reshape(-1, output_dim)\n",
    "            trg = trg[:, 1:].reshape(-1)\n",
    "            \n",
    "            # Calculate loss and normalize by accumulation steps\n",
    "            loss = criterion(output, trg) / grad_accum_steps\n",
    "            \n",
    "            # Backward pass\n",
    "            loss.backward()\n",
    "            \n",
    "            # Update gradients every grad_accum_steps or at the end of the epoch\n",
    "            if (i + 1) % grad_accum_steps == 0 or i == len(train_dataloader) - 1:\n",
    "                # Clip gradients\n",
    "                torch.nn.utils.clip_grad_norm_(model.parameters(), 1.0)\n",
    "                \n",
    "                # Update parameters\n",
    "                optimizer.step()\n",
    "                optimizer.zero_grad()\n",
    "            \n",
    "            # Update total loss (multiply back by grad_accum_steps for proper scaling)\n",
    "            total_loss += loss.item() * grad_accum_steps\n",
    "            steps += 1\n",
    "            \n",
    "            # Update progress bar\n",
    "            progress_bar.set_postfix({\"loss\": loss.item() * grad_accum_steps})\n",
    "            \n",
    "            # Evaluate periodically during training\n",
    "            if (i + 1) % eval_steps == 0:\n",
    "                # Switch to eval mode\n",
    "                model.eval()\n",
    "                \n",
    "                # Evaluate on a small subset for faster feedback\n",
    "                interim_bleu = evaluate_model(model, \n",
    "                                             [next(iter(eval_dataloader)) for _ in range(min(5, len(eval_dataloader)))], \n",
    "                                             summary_max_length, device)\n",
    "                \n",
    "                print(f\"Step {i+1}/{len(train_dataloader)} | Interim BLEU: {interim_bleu:.4f}\")\n",
    "                \n",
    "                # Switch back to train mode\n",
    "                model.train()\n",
    "        \n",
    "        # Calculate average loss\n",
    "        train_loss = total_loss / steps\n",
    "        \n",
    "        # Evaluate\n",
    "        bleu_score = evaluate_model(model, eval_dataloader, summary_max_length, device)\n",
    "        \n",
    "        # Print stats\n",
    "        epoch_time = time.time() - start_time\n",
    "        print(f\"Epoch {epoch+1}/{num_epochs} | Train Loss: {train_loss:.4f} | BLEU: {bleu_score:.4f} | Time: {epoch_time:.2f}s\")\n",
    "        \n",
    "        # Update history\n",
    "        history['train_loss'].append(train_loss)\n",
    "        history['bleu_scores'].append(bleu_score)\n",
    "        history['time'].append(epoch_time)\n",
    "        \n",
    "        # Update best BLEU and check for early stopping\n",
    "        if bleu_score > best_bleu:\n",
    "            best_bleu = bleu_score\n",
    "            best_epoch = epoch\n",
    "            no_improvement = 0\n",
    "        else:\n",
    "            no_improvement += 1\n",
    "            \n",
    "        # Early stopping\n",
    "        if no_improvement >= patience:\n",
    "            print(f\"Early stopping after {epoch+1} epochs without improvement\")\n",
    "            break\n",
    "    \n",
    "    print(f\"Best BLEU: {best_bleu:.4f} at epoch {best_epoch+1}\")\n",
    "    return best_bleu, history"
   ]
  },
  {
   "cell_type": "code",
   "execution_count": 90,
   "metadata": {},
   "outputs": [],
   "source": [
    "# Test different sequence lengths with more focused parameters\n",
    "def test_sequence_lengths():\n",
    "    # Optimized hyperparameters based on your guidance\n",
    "    embedding_dim = 256\n",
    "    hidden_dim = 512\n",
    "    n_layers = 2\n",
    "    dropout = 0.3\n",
    "    batch_size = 8\n",
    "    num_epochs = 3\n",
    "    patience = 2\n",
    "    \n",
    "    results = {}\n",
    "    \n",
    "    # Test different sequence lengths\n",
    "    for input_length in [1024, 2048]:\n",
    "        for summary_length in [128, 256]:\n",
    "            print(f\"\\n{'='*50}\")\n",
    "            print(f\"Testing input_length={input_length}, summary_length={summary_length}\")\n",
    "            \n",
    "            best_bleu, history = train_model(\n",
    "                input_max_length=input_length,\n",
    "                summary_max_length=summary_length,\n",
    "                embedding_dim=embedding_dim,\n",
    "                hidden_dim=hidden_dim,\n",
    "                n_layers=n_layers,\n",
    "                dropout=dropout,\n",
    "                num_epochs=num_epochs,\n",
    "                batch_size=batch_size,\n",
    "                patience=patience\n",
    "            )\n",
    "            \n",
    "            config = f\"Input Length: {input_length}, Summary Length: {summary_length}\"\n",
    "            results[config] = {\n",
    "                'best_bleu': best_bleu,\n",
    "                'history': history\n",
    "            }\n",
    "            \n",
    "            print(f\"Final BLEU Score: {best_bleu:.4f}\")\n",
    "    \n",
    "    print(f\"\\n{'='*50}\")\n",
    "    print(\"Results Summary:\")\n",
    "    for config, result in results.items():\n",
    "        print(f\"{config}: {result['best_bleu']:.4f}\")\n",
    "    \n",
    "    # Find best configuration\n",
    "    best_config = max(results.keys(), key=lambda k: results[k]['best_bleu'])\n",
    "    print(f\"\\nBest Configuration: {best_config}\")\n",
    "    print(f\"Best BLEU Score: {results[best_config]['best_bleu']:.4f}\")\n",
    "    \n",
    "    return results"
   ]
  },
  {
   "cell_type": "markdown",
   "metadata": {},
   "source": [
    "## Part 2. (3) Vary the input seq length by truncating the main text and the summary text.\n",
    "We will determine how these lengths impact the model's performance:\n",
    "- Main Text Lengths: 1024, 2048\n",
    "- Summary Text Lengths: 128, 256"
   ]
  },
  {
   "cell_type": "code",
   "execution_count": null,
   "metadata": {},
   "outputs": [
    {
     "name": "stdout",
     "output_type": "stream",
     "text": [
      "Testing sequence lengths...\n",
      "\n",
      "==================================================\n",
      "Testing input_length=1024, summary_length=128\n",
      "Preprocessing data...\n"
     ]
    },
    {
     "data": {
      "application/vnd.jupyter.widget-view+json": {
       "model_id": "d23acc510f1f4e27986fb8ec918deea7",
       "version_major": 2,
       "version_minor": 0
      },
      "text/plain": [
       "Map (num_proc=4):   0%|          | 0/989 [00:00<?, ? examples/s]"
      ]
     },
     "metadata": {},
     "output_type": "display_data"
    },
    {
     "data": {
      "application/vnd.jupyter.widget-view+json": {
       "model_id": "39de745e865744b298f67adb3fd47c23",
       "version_major": 2,
       "version_minor": 0
      },
      "text/plain": [
       "Map (num_proc=4):   0%|          | 0/248 [00:00<?, ? examples/s]"
      ]
     },
     "metadata": {},
     "output_type": "display_data"
    },
    {
     "name": "stdout",
     "output_type": "stream",
     "text": [
      "Creating data loaders...\n",
      "Initializing model...\n",
      "Training model...\n"
     ]
    },
    {
     "data": {
      "application/vnd.jupyter.widget-view+json": {
       "model_id": "380f3949d3304c6db77cacb51b485104",
       "version_major": 2,
       "version_minor": 0
      },
      "text/plain": [
       "Training (TF=0.70):   0%|          | 0/124 [00:00<?, ?it/s]"
      ]
     },
     "metadata": {},
     "output_type": "display_data"
    },
    {
     "name": "stdout",
     "output_type": "stream",
     "text": [
      "we have predictions\n",
      "Step 50/124 | Interim BLEU: 0.0001\n"
     ]
    }
   ],
   "source": [
    "# Modified and more efficient run\n",
    "def run_experiments():\n",
    "    print(\"Testing sequence lengths...\")\n",
    "    seq_results = test_sequence_lengths()\n",
    "    \n",
    "    # Get best sequence length configuration\n",
    "    best_config = max(seq_results.keys(), key=lambda k: seq_results[k]['best_bleu'])\n",
    "    best_input_length = int(best_config.split(\":\")[0].strip().split(\"=\")[1])\n",
    "    best_summary_length = int(best_config.split(\":\")[1].strip().split(\"=\")[1])\n",
    "    \n",
    "    print(f\"\\nBest sequence length configuration:\")\n",
    "    print(f\"Input Length: {best_input_length}, Summary Length: {best_summary_length}\")\n",
    "    \n",
    "    print(\"\\nTesting hyperparameters...\")\n",
    "    # hp_results = test_hyperparameters(best_input_length, best_summary_length)\n",
    "    hp_results = \"N/A\"\n",
    "    print(\"\\nExperiments completed!\")\n",
    "    return seq_results, hp_results\n",
    "\n",
    "# Run the experiments\n",
    "seq_results, hp_results = run_experiments()\n",
    "print(seq_results)"
   ]
  },
  {
   "cell_type": "markdown",
   "metadata": {},
   "source": [
    "## Part 2. (3) How does the sequence length impact the model’s performance?\n",
    "**Answer:** The largest impact on the BLEU score was due to increasing the summary length from 128 to 256."
   ]
  },
  {
   "cell_type": "code",
   "execution_count": 28,
   "metadata": {},
   "outputs": [],
   "source": [
    "neuron_configurations =[\n",
    "    {\"hidden_size\": 128, \"dropout_rate\": 0.1, \"input_max_length\": 1024, \"output_max_length\": 128},\n",
    "    {\"hidden_size\": 256, \"dropout_rate\": 0.1, \"input_max_length\": 1024, \"output_max_length\": 128},\n",
    "    {\"hidden_size\": 512, \"dropout_rate\": 0.1, \"input_max_length\": 1024, \"output_max_length\": 128},\n",
    "    {\"hidden_size\": 768, \"dropout_rate\": 0.1, \"input_max_length\": 1024, \"output_max_length\": 128},\n",
    "]\n",
    "\n",
    "dropout_configurations = [\n",
    "    {\"hidden_size\": 512, \"dropout_rate\": 0.1, \"input_max_length\": 1024, \"output_max_length\": 128},\n",
    "    {\"hidden_size\": 512, \"dropout_rate\": 0.2, \"input_max_length\": 1024, \"output_max_length\": 128},\n",
    "    {\"hidden_size\": 512, \"dropout_rate\": 0.3, \"input_max_length\": 1024, \"output_max_length\": 128},\n",
    "    {\"hidden_size\": 512, \"dropout_rate\": 0.4, \"input_max_length\": 1024, \"output_max_length\": 128},\n",
    "]"
   ]
  }
 ],
 "metadata": {
  "accelerator": "GPU",
  "colab": {
   "gpuType": "T4",
   "provenance": []
  },
  "kernelspec": {
   "display_name": "Python 3 (ipykernel)",
   "language": "python",
   "name": "python3"
  },
  "language_info": {
   "codemirror_mode": {
    "name": "ipython",
    "version": 3
   },
   "file_extension": ".py",
   "mimetype": "text/x-python",
   "name": "python",
   "nbconvert_exporter": "python",
   "pygments_lexer": "ipython3",
   "version": "3.10.12"
  }
 },
 "nbformat": 4,
 "nbformat_minor": 4
}
