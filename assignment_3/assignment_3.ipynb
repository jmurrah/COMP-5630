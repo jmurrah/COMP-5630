{
 "cells": [
  {
   "cell_type": "markdown",
   "metadata": {
    "id": "lEfEJVmSXS_h"
   },
   "source": [
    "# Assignment-3 COMP-5630 Jacob Murrah\n",
    "## README\n",
    "This notebook implements natural language processing tasks focusing on word embeddings, n-gram classification, and sequence-to-sequence models for text summarization. It explores different embedding techniques, evaluates n-gram features for classification, and implements RNN-based models for summarizing legislative text.\n",
    "\n",
    "## Dependencies\n",
    "- **Python 3.x**\n",
    "- **matplotlib**\n",
    "- **seaborn**\n",
    "- **nltk**\n",
    "- **numpy==1.26.4**\n",
    "- **torch==2.2.2**\n",
    "- **transformers==4.50.3**\n",
    "- **datasets==2.18.0**\n",
    "- **scipy==1.12.0**\n",
    "- **pandas==2.1.4**\n",
    "- **scikit-learn==1.4.0**\n",
    "- **gensim==4.3.2**\n",
    "- **evaluate==0.4.1**\n",
    "\n",
    "## Instructions\n",
    "1) Run the cell with the skip cell magic function defined. Marked with the # SKIP MAGIC FUNCTION comment.\n",
    "2) Run the cell beginning with %%skip and marked with the # DOWNLOAD PACKAGES CELL comment.\n",
    "3) After downloads are complete the runtime will be disconnected and you will see an associated message.\n",
    "4) Reconnect the runtime and click on \\\"Runtime\\\" > \\\"Run all\\\" to execute the entire notebook sequentially.\n",
    "6) The notebook is organized into several sections. Ensure that all cells run without errors."
   ]
  },
  {
   "cell_type": "code",
   "execution_count": null,
   "metadata": {
    "id": "RlReYxVjagE9"
   },
   "outputs": [],
   "source": [
    "SKIP_INSTALL = True"
   ]
  },
  {
   "cell_type": "code",
   "execution_count": null,
   "metadata": {
    "id": "emr_zPDbDzTV"
   },
   "outputs": [],
   "source": [
    "# SKIP MAGIC FUNCTION\n",
    "from IPython.core.magic import register_cell_magic\n",
    "\n",
    "@register_cell_magic\n",
    "def skip(line, cell):\n",
    "  if globals().get('SKIP_INSTALL', False):\n",
    "    print(\"Skipping installation cell.\")\n",
    "  else:\n",
    "    get_ipython().run_cell(cell)"
   ]
  },
  {
   "cell_type": "code",
   "execution_count": null,
   "metadata": {
    "id": "yj6sNu9vcAt6"
   },
   "outputs": [],
   "source": [
    "# SKIP_INSTALL = False"
   ]
  },
  {
   "cell_type": "code",
   "execution_count": null,
   "metadata": {
    "colab": {
     "base_uri": "https://localhost:8080/"
    },
    "id": "b9A3z2JkJ2R7",
    "outputId": "cc518b72-ab12-49a6-f01d-5fc38d632e97"
   },
   "outputs": [],
   "source": [
    "%%skip\n",
    "# DOWNLOAD PACKAGES CELL\n",
    "import contextlib\n",
    "import io\n",
    "import time\n",
    "import sys\n",
    "import subprocess\n",
    "import re\n",
    "import os\n",
    "\n",
    "def capture_output():\n",
    "  return contextlib.redirect_stdout(io.StringIO())\n",
    "\n",
    "print(\"Downloads take ~5 minutes but are required for version compatiability!\")\n",
    "time.sleep(1)\n",
    "\n",
    "with capture_output():\n",
    "  package_versions = {\n",
    "    \"numpy\": \"1.26.4\",\n",
    "    \"torch\": \"2.2.2\",\n",
    "    \"transformers\": \"4.50.3\",\n",
    "    \"datasets\": \"2.18.0\",\n",
    "    \"scipy\": \"1.12.0\",\n",
    "    \"pandas\": \"2.1.4\",\n",
    "    \"scikit-learn\": \"1.4.0\",\n",
    "    \"gensim\": \"4.3.2\",\n",
    "    \"evaluate\": \"0.4.1\"\n",
    "  }\n",
    "\n",
    "  # get cuda version\n",
    "  cuda_version_str = \"N/A\"\n",
    "  cuda_major_minor = None\n",
    "  nvcc_output = subprocess.check_output(['nvcc', '--version']).decode('utf-8')\n",
    "  match_obj = re.search(r'release (\\d+\\.\\d+)', nvcc_output)\n",
    "  if match_obj:\n",
    "    cuda_version_str = match_obj.group(1)\n",
    "    cuda_major_minor = \"\".join(cuda_version_str.split('.'))\n",
    "\n",
    "  # pytorch installation\n",
    "  pytorch_version = package_versions[\"torch\"]\n",
    "  pytorch_cuda_suffix = \"cu118\"\n",
    "  if cuda_major_minor and int(cuda_major_minor) >= 121:\n",
    "    pytorch_cuda_suffix = \"cu121\"\n",
    "\n",
    "  torchvision_version = \"0.17.2\"\n",
    "  torchaudio_version = \"2.2.2\"\n",
    "  pytorch_index_url = f\"https://download.pytorch.org/whl/{pytorch_cuda_suffix}\"\n",
    "\n",
    "  pytorch_install_command = (\n",
    "    f\"pip3 install \"\n",
    "    f\"torch=={pytorch_version}+{pytorch_cuda_suffix} \"\n",
    "    f\"torchvision=={torchvision_version}+{pytorch_cuda_suffix} \"\n",
    "    f\"torchaudio=={torchaudio_version}+{pytorch_cuda_suffix} \"\n",
    "    f\"--index-url {pytorch_index_url} --upgrade --no-cache-dir\"\n",
    "  )\n",
    "  get_ipython().system(pytorch_install_command)\n",
    "\n",
    "  # install specified packages\n",
    "  get_ipython().system('pip3 uninstall transformers -y')\n",
    "  packages_to_install = [\n",
    "    f\"{pkg}=={ver}\" for pkg, ver in package_versions.items() if pkg != \"torch\"\n",
    "  ]\n",
    "  other_packages_install_command = (\n",
    "    \"pip3 install --upgrade --no-cache-dir \" + \" \".join(packages_to_install)\n",
    "  )\n",
    "\n",
    "  get_ipython().system(other_packages_install_command)\n",
    "  get_ipython().system(\n",
    "    'pip install \"huggingface_hub[hf_xet]\" --upgrade --no-cache-dir'\n",
    "  )\n",
    "\n",
    "# restart environment\n",
    "print(\"Package installation completed successfully!\")\n",
    "os._exit(0)"
   ]
  },
  {
   "cell_type": "code",
   "execution_count": null,
   "metadata": {
    "colab": {
     "base_uri": "https://localhost:8080/"
    },
    "id": "crWLttL5M5VI",
    "outputId": "b6bfd768-0998-4de4-e21c-2c9020d68f17"
   },
   "outputs": [],
   "source": [
    "# basic imports\n",
    "import gensim\n",
    "import numpy as np\n",
    "import pandas as pd\n",
    "import sklearn as sk\n",
    "import matplotlib.pyplot as plt\n",
    "import seaborn as sns\n",
    "import re\n",
    "import string\n",
    "\n",
    "import importlib.metadata\n",
    "import sys\n",
    "version = importlib.metadata.version(\"torch\")\n",
    "print(version)"
   ]
  },
  {
   "cell_type": "markdown",
   "metadata": {
    "id": "pE5wn2vIqw0Z"
   },
   "source": [
    "# Part 1. Word Embeddings and N-gram"
   ]
  },
  {
   "cell_type": "code",
   "execution_count": null,
   "metadata": {
    "id": "lr6cxAY9X18x"
   },
   "outputs": [],
   "source": [
    "import nltk\n",
    "from nltk.corpus import twitter_samples, stopwords\n",
    "from nltk.stem import PorterStemmer\n",
    "from nltk.tokenize import TweetTokenizer\n",
    "\n",
    "import gensim.downloader as api\n",
    "from gensim.models import FastText, Word2Vec\n",
    "from gensim.test.utils import datapath\n",
    "\n",
    "from sklearn.metrics.pairwise import cosine_similarity\n",
    "\n",
    "import re\n",
    "import string"
   ]
  },
  {
   "cell_type": "markdown",
   "metadata": {
    "id": "E6EywEfqWt0K"
   },
   "source": [
    "## Part 1. (1a-1b) You will examine two-word embeddings. You are given the following words:\n",
    "\n",
    "Dog, Bark, Tree, Bank, River, Money.\n",
    "\n",
    "Do the following:\n",
    "- Use Glove-twitter-50D word2vec and compute nxn matrices using cosine similarities for the given words.\n",
    "- Use FastText and compute nxn matrices using cosine similarities for the given words."
   ]
  },
  {
   "cell_type": "code",
   "execution_count": null,
   "metadata": {
    "colab": {
     "base_uri": "https://localhost:8080/"
    },
    "id": "VsoKj7EaDwhF",
    "outputId": "2bad18c3-1097-4ab2-87c5-0b57277f8049"
   },
   "outputs": [],
   "source": [
    "# download glove-twitter-50 model\n",
    "nltk.download(\"twitter_samples\")\n",
    "nltk.download('stopwords')\n",
    "if \"glove\" not in globals():\n",
    "  glove = api.load(\"glove-twitter-50\")\n",
    "\n",
    "print(\"downloads completed!\")"
   ]
  },
  {
   "cell_type": "code",
   "execution_count": null,
   "metadata": {
    "colab": {
     "base_uri": "https://localhost:8080/"
    },
    "id": "9i94n6xsc6eW",
    "outputId": "3833a6e1-35bd-47b1-b025-4710a5f1a1ac"
   },
   "outputs": [],
   "source": [
    "# data preprocessing\n",
    "# https://www.kaggle.com/code/piyushagni5/sentiment-analysis-on-twitter-dataset-nlp\n",
    "def process_tweet(tweet):\n",
    "  stemmer = PorterStemmer()\n",
    "  stopwords_english = stopwords.words('english')\n",
    "\n",
    "  tweet = re.sub(r'\\$\\w*', '', tweet)\n",
    "  tweet = re.sub(r'^RT[\\s]+', '', tweet)\n",
    "  tweet = re.sub(r'https?:\\/\\/.*[\\r\\n]*', '', tweet)\n",
    "  tweet = re.sub(r'#', '', tweet)\n",
    "\n",
    "  tokenizer = TweetTokenizer(\n",
    "    preserve_case=False, strip_handles=True, reduce_len=True\n",
    "  )\n",
    "  tweet_tokens = tokenizer.tokenize(tweet)\n",
    "\n",
    "  tweets_clean = []\n",
    "  for word in tweet_tokens:\n",
    "    if (word not in stopwords_english and word not in string.punctuation):\n",
    "      stem_word = stemmer.stem(word)\n",
    "      tweets_clean.append(stem_word)\n",
    "\n",
    "  return tweets_clean\n",
    "\n",
    "negative_tweets = twitter_samples.strings(\"negative_tweets.json\")\n",
    "positive_tweets = twitter_samples.strings(\"positive_tweets.json\")\n",
    "common_texts = [\n",
    "  process_tweet(tweet)\n",
    "  for tweet_list in [negative_tweets, positive_tweets]\n",
    "  for tweet in tweet_list\n",
    "]\n",
    "print(f\"Number of tweets: {len(common_texts)}\")"
   ]
  },
  {
   "cell_type": "code",
   "execution_count": null,
   "metadata": {
    "colab": {
     "base_uri": "https://localhost:8080/"
    },
    "id": "3xrAbDUoNRKI",
    "outputId": "c66fe334-af6e-4876-da53-f51b4cd8ce5f"
   },
   "outputs": [],
   "source": [
    "# train the Word2Vec and FastText models\n",
    "# NOTE: our GloVe w2v model is already loaded\n",
    "if \"w2v\" not in globals():\n",
    "  w2v = Word2Vec(sentences=common_texts, vector_size=50, window=5, min_count=1)\n",
    "if \"ft\" not in globals():\n",
    "  ft = FastText(\n",
    "    vector_size=50, window=5, min_count=1, sentences=common_texts, epochs=10\n",
    "  )\n",
    "print(\"done training models!\")"
   ]
  },
  {
   "cell_type": "code",
   "execution_count": null,
   "metadata": {
    "id": "O07OA-G4ZNh5"
   },
   "outputs": [],
   "source": [
    "# create similarity matrices of the words for each model\n",
    "def create_similarity_matrix(model, words, glove_model=False):\n",
    "  if glove_model:\n",
    "    common_text_words = set([word for text in common_texts for word in text])\n",
    "    glove_words = [\n",
    "      word.lower() for word in glove.key_to_index\n",
    "      if word.lower() in common_text_words\n",
    "    ]\n",
    "    words_in_model = [w for w in words if w in glove_words]\n",
    "  else:\n",
    "    words_in_model = [w for w in words if w in model.wv]\n",
    "\n",
    "  word_vectors = np.array(\n",
    "    [\n",
    "      model.get_vector(word) if glove_model else model.wv[word]\n",
    "      for word in words_in_model\n",
    "    ]\n",
    "  )\n",
    "  similarity_matrix = cosine_similarity(word_vectors)\n",
    "  return similarity_matrix, words_in_model\n",
    "\n",
    "words = [\"dog\", \"bark\", \"tree\", \"bank\", \"river\", \"money\"]\n",
    "glove_matrix, words_in_glove = create_similarity_matrix(\n",
    "  glove, words, glove_model=True\n",
    ")\n",
    "w2v_matrix, words_in_w2v = create_similarity_matrix(w2v, words)\n",
    "ft_matrix, words_in_ft = create_similarity_matrix(ft, words)"
   ]
  },
  {
   "cell_type": "code",
   "execution_count": null,
   "metadata": {
    "colab": {
     "base_uri": "https://localhost:8080/",
     "height": 241
    },
    "id": "VCiS0O2fAB6i",
    "outputId": "4809b4f4-5af3-4659-a745-171c04c42ae0"
   },
   "outputs": [],
   "source": [
    "# plot the similarity matrices for each model\n",
    "def plot_similarity_matrices(matrices, words_lists, titles):\n",
    "  n = len(matrices)\n",
    "  fig, axes = plt.subplots(1, n, figsize=(n * 6, 5))\n",
    "  for i in range(n):\n",
    "    sns.heatmap(\n",
    "      matrices[i],\n",
    "      annot=True,\n",
    "      fmt=\".2f\",\n",
    "      cmap=\"YlGnBu\",\n",
    "      xticklabels=words_lists[i],\n",
    "      yticklabels=words_lists[i],\n",
    "      ax=axes[i]\n",
    "    )\n",
    "    axes[i].set_title(titles[i], fontsize=14)\n",
    "\n",
    "  plt.tight_layout()\n",
    "  plt.show()\n",
    "\n",
    "matrices = [glove_matrix, w2v_matrix, ft_matrix]\n",
    "words_lists = [words_in_glove, words_in_w2v, words_in_ft]\n",
    "titles = [\"GloVe Similarity\", \"Word2Vec Similarity\", \"FastText Similarity\"]\n",
    "plot_similarity_matrices(matrices, words_lists, titles)"
   ]
  },
  {
   "cell_type": "markdown",
   "metadata": {
    "id": "x8JCOqOqBtMx"
   },
   "source": [
    "## Part 1. (1c) Which embedding captures better semantics? Justify your answer.<br>\n",
    "**Answer:** Based on the similarity scores between the 6 words, the GloVe model is better at capturing the semantics, i.e the meaning, of the words. The FastText model is a close second. Since there is not a universal standard similarity score for these specific word pairs I am using my own understanding of the english language to evaluate.\n",
    "\n",
    "Words with multiple meanings:\n",
    "- Bark: Dog barking or tree bark\n",
    "- Bank: River bank or a bank that manages money\n",
    "\n",
    "Related pairs:\n",
    "- Dog-Bark\n",
    "- Tree-Bark\n",
    "- Money-Bank\n",
    "- River-Bank\n",
    "\n",
    "Model Evaluation:\n",
    "- **GloVe:** The similarity matrix shows clear differentiation between semantically distinct words. For example, the similarity between “bark” and “bank” is extremely low and the similarity between \"money\" and \"bank\" is relatively high.\n",
    "- **Word2Vec:** Shows high similarity scores across most of the pairs and does not differentiate unrelated words. For example, the words \"dog\" and \"tree\" are unrelated but have an extremely high similarity score.\n",
    "- **FastText:** Is able to capture semantic of words but at a more moderate extent than GloVe. This moderate scoring does not differentiate as clearly between related and unrelated pairs as GloVe does.\n",
    "\n",
    "Based only on their 6-word similarity matrices, the GloVe model provides more realistic similarity scores and thus captures the semantic similarities between words better than the other models."
   ]
  },
  {
   "cell_type": "code",
   "execution_count": null,
   "metadata": {
    "colab": {
     "base_uri": "https://localhost:8080/"
    },
    "id": "iSAX_NSMEwsJ",
    "outputId": "a89f337d-15c6-4313-cfa0-7f0c998c99aa"
   },
   "outputs": [],
   "source": [
    "benchmark = \"simlex999.txt\"\n",
    "result_glove = glove.evaluate_word_pairs(datapath(benchmark))\n",
    "result_w2v = w2v.wv.evaluate_word_pairs(datapath(benchmark))\n",
    "result_ft = ft.wv.evaluate_word_pairs(datapath(benchmark))\n",
    "\n",
    "print(f\"GloVe Spearman Measurements:\")\n",
    "print(f\" - Coefficient: {result_glove[1][0]:.4f}\")\n",
    "print(f\" - P-Value: {result_glove[1][1]:.4f}\")\n",
    "\n",
    "print(f\"Word2Vec Spearman Measurements:\")\n",
    "print(f\" - Coefficient: {result_w2v[1][0]:.4f}\")\n",
    "print(f\" - P-Value: {result_w2v[1][1]:.4f}\")\n",
    "\n",
    "print(f\"FastText Spearman Measurements:\")\n",
    "print(f\" - Coefficient: {result_ft[1][0]:.4f}\")\n",
    "print(f\" - P-Value: {result_ft[1][1]:.4f}\")"
   ]
  },
  {
   "cell_type": "markdown",
   "metadata": {
    "id": "HcIbTVPtT7YI"
   },
   "source": [
    "## Part 1. (1c) Continued analysis...<br>\n",
    "**Answer:** I wanted to see which model performed better on a larger set of words so I measured the Spearman Coefficients of each model on the 'simlex999' dataset. In our context, the Spearman Coefficient judges how well our model's predictions match a human's analysis of word pairs. A higher coefficient shows a better match. On the 'simlex999' dataset, the GloVe model achieves the highest Spearman coefficient and is the only model with a statistically significant p-value, indicating that it does the best at capturing overall semantic relationships across a broader range of word pairs."
   ]
  },
  {
   "cell_type": "markdown",
   "metadata": {
    "id": "vBEXJI1jYdWZ"
   },
   "source": [
    "## Part 1. (2a-2c) N-grams and Classification\n",
    "\n",
    "Do the following:\n",
    "- Split the data 70% training and 30% testing.\n",
    "- Extract n-grams for n in [1, 4]. unigram, bigram, trigram, 4-grams.\n",
    "- Build a logistic regression model using n-gram features."
   ]
  },
  {
   "cell_type": "code",
   "execution_count": null,
   "metadata": {
    "id": "xECkSwbOaNnm"
   },
   "outputs": [],
   "source": [
    "import random\n",
    "from collections import defaultdict\n",
    "from sklearn.model_selection import train_test_split\n",
    "from sklearn.linear_model import LogisticRegression\n",
    "from sklearn.metrics import accuracy_score, classification_report\n",
    "from sklearn.feature_extraction.text import CountVectorizer\n",
    "from nltk.util import ngrams"
   ]
  },
  {
   "cell_type": "code",
   "execution_count": null,
   "metadata": {
    "id": "UjHz3_gEZ8_E"
   },
   "outputs": [],
   "source": [
    "# split the data into 70% training and 30% testing\n",
    "seed = 2025\n",
    "random.seed(seed)\n",
    "labels = np.array([0] * len(negative_tweets) + [1] * len(positive_tweets))\n",
    "train_texts, test_texts, train_labels, test_labels = train_test_split(\n",
    "  common_texts, labels, test_size=0.3, random_state=seed\n",
    ")"
   ]
  },
  {
   "cell_type": "code",
   "execution_count": null,
   "metadata": {
    "id": "eBHZT0Rra0hM"
   },
   "outputs": [],
   "source": [
    "# extract n-grams for n in [1, 4]. unigram, bigram, trigram, 4grams.\n",
    "def get_text_ngrams(text, n_range):\n",
    "  text_ngrams = []\n",
    "  for i in n_range:\n",
    "    text_string = [\"_\".join(gram) for gram in list(ngrams(text, i))]\n",
    "    text_ngrams.extend(text_string)\n",
    "\n",
    "  return \" \".join(text_ngrams)\n",
    "\n",
    "train_features = [get_text_ngrams(text, range(1, 5)) for text in train_texts]\n",
    "test_features = [get_text_ngrams(text, range(1, 5)) for text in test_texts]"
   ]
  },
  {
   "cell_type": "code",
   "execution_count": null,
   "metadata": {
    "colab": {
     "base_uri": "https://localhost:8080/"
    },
    "id": "OeUFzjSSx6cG",
    "outputId": "10c040ab-5448-49ad-a48c-dfe151d9783a"
   },
   "outputs": [],
   "source": [
    "# logistic regression model\n",
    "def train_and_predict_model(\n",
    "  train_features, test_features, train_labels, test_labels\n",
    "):\n",
    "  vectorizer = CountVectorizer()\n",
    "  X_train = vectorizer.fit_transform(train_features)\n",
    "  X_test = vectorizer.transform(test_features)\n",
    "\n",
    "  model = LogisticRegression(max_iter=1000)\n",
    "  model.fit(X_train, train_labels)\n",
    "\n",
    "  y_pred = model.predict(X_test)\n",
    "  accuracy = accuracy_score(test_labels, y_pred)\n",
    "  report = classification_report(test_labels, y_pred)\n",
    "\n",
    "  return accuracy, report\n",
    "\n",
    "accuracy, report = train_and_predict_model(\n",
    "  train_features, test_features, train_labels, test_labels\n",
    ")\n",
    "print(f'Accuracy: {accuracy:.4f}')\n",
    "print(report)"
   ]
  },
  {
   "cell_type": "markdown",
   "metadata": {
    "id": "cn9JEMK_Y6-x"
   },
   "source": [
    "## Part 1. (2c) Evaluate your logistic regression model's performance.<br>\n",
    "**Answer:** My logistic regression model has an accuracy of ~73.5% with similar performance for predicting positive and negative sentiment in tweets. My model has better precision (fewer false positives) for positive sentiment tweets and better recall (fewer false negatives) for negative sentiment tweets. These results show that even a simple logistic regression model can predict sentiment in tweets with decent accuracy when trained with n-grams."
   ]
  },
  {
   "cell_type": "markdown",
   "metadata": {
    "id": "5toPn0azZEZI"
   },
   "source": [
    "## Part 1. (2d) Plotting model accuracy vs n"
   ]
  },
  {
   "cell_type": "code",
   "execution_count": null,
   "metadata": {
    "colab": {
     "base_uri": "https://localhost:8080/"
    },
    "id": "LWncpeWF-EwH",
    "outputId": "177f843b-2b92-44e8-b393-5072fab57e0f"
   },
   "outputs": [],
   "source": [
    "# compare cumulative vs stand alone ngram accuracies\n",
    "def get_accuracy_scores(train_texts, test_tests, n_range, cumulative):\n",
    "  accuracy_scores = []\n",
    "  for i in n_range:\n",
    "    r = range(i+1) if cumulative else range(i, i+1)\n",
    "    train_features = [get_text_ngrams(text, r) for text in train_texts]\n",
    "    test_features = [get_text_ngrams(text, r) for text in test_texts]\n",
    "\n",
    "    accuracy, report = train_and_predict_model(\n",
    "      train_features, test_features, train_labels, test_labels\n",
    "    )\n",
    "    print(\n",
    "      f\"{'CUMULATIVE' if cumulative else 'SINGLE'}, n={i}, acc={accuracy:.4f}\"\n",
    "    )\n",
    "    accuracy_scores.append(accuracy)\n",
    "\n",
    "  return accuracy_scores\n",
    "\n",
    "n_range = range(1, 10)\n",
    "cumulative_accs = get_accuracy_scores(train_texts, test_texts, n_range, True)\n",
    "single_accs = get_accuracy_scores(train_texts, test_texts, n_range, False)"
   ]
  },
  {
   "cell_type": "code",
   "execution_count": null,
   "metadata": {
    "colab": {
     "base_uri": "https://localhost:8080/",
     "height": 303
    },
    "id": "bH-SpCjG-IDH",
    "outputId": "d4684e60-d525-4e95-c58b-89fb919f5b7c"
   },
   "outputs": [],
   "source": [
    "# plot the results\n",
    "def create_accuracy_plot(ax, n_range, accuracies, title, cumulative=False):\n",
    "  marker = 's' if cumulative else 'o'\n",
    "  color = '#ff7f0e' if cumulative else '#1f77b4'\n",
    "  ax.plot(\n",
    "    n_range,\n",
    "    accuracies,\n",
    "    marker=marker,\n",
    "    linestyle='-',\n",
    "    color=color,\n",
    "    linewidth=2,\n",
    "    markersize=8\n",
    "  )\n",
    "  ax.set_xlabel('Max N-gram Size (n)' if cumulative else 'N-gram Size (n)')\n",
    "  ax.set_ylabel('Accuracy')\n",
    "  ax.set_title(title, fontsize=14)\n",
    "  ax.grid(True, linestyle='--', alpha=0.7)\n",
    "  ax.set_xticks(n_range)\n",
    "\n",
    "  for i, acc in enumerate(accuracies):\n",
    "    ax.text(n_range[i], acc + 0.001, f'{acc:.4f}', ha='center', fontsize=9)\n",
    "\n",
    "def plot_ngram_comparison(n_range, single_accs, cumulative_accs):\n",
    "  fig, (ax1, ax2) = plt.subplots(1, 2, figsize=(14, 5))\n",
    "  create_accuracy_plot(\n",
    "    ax1, n_range, single_accs, 'Individual N-gram Size'\n",
    "  )\n",
    "  create_accuracy_plot(\n",
    "    ax2, n_range, cumulative_accs, 'Cumulative N-gram Size', True\n",
    "  )\n",
    "\n",
    "  plt.tight_layout()\n",
    "  plt.show()\n",
    "\n",
    "plot_ngram_comparison(n_range, single_accs, cumulative_accs)"
   ]
  },
  {
   "cell_type": "markdown",
   "metadata": {
    "id": "mtbEqQbkKG2K"
   },
   "source": [
    "## Part 1. (2d) How does the value of n in n-gram affect the model's performance?\n",
    "Explain your answer. You can draw a plot with n-gram and the model's performance.<br>\n",
    "**Answer:** The size of n and wether or not the n-grams are cumulative both have an impact on the model's accuracy.\n",
    "\n",
    "In terms of individual contributions to the model's accuracy, the unigrams have the most impact and provide the highest accuracy. This makes sense because individual words provide the majority of the sentiment in sentences. For cumulative n-grams, a maximum size of 3 provides the highest accuracy. After this point increasing the size of n leads to decreasing accuracy. Including up to trigrams provide the best accuracy because sentiment is often conveyed in 1-3 words in the english language. For example, two words are a requirement to convey the sentiment when saying something is 'not good'.\n",
    "\n",
    "Overall unigrams, bigrams, and trigrams make up most of the contributions to the model's accuracy. Any additional increases to n lead to diminishing accuracy because a majority of the sentiment is captured in just 1-3 word n-grams."
   ]
  },
  {
   "cell_type": "markdown",
   "metadata": {
    "id": "w7eEbiFGbty_"
   },
   "source": [
    "# Part 2. RNN and Machine Translation\n",
    "You will be training a Seq2seq model using RNN. Your input will be a text and the output will be a summary of the text."
   ]
  },
  {
   "cell_type": "code",
   "execution_count": null,
   "metadata": {
    "colab": {
     "base_uri": "https://localhost:8080/"
    },
    "id": "ikKj3_nMeLWy",
    "outputId": "748e8263-1fd2-450f-a2fd-659db2080f3f"
   },
   "outputs": [],
   "source": [
    "# Imports for RNN\n",
    "import torch\n",
    "import torch.nn as nn\n",
    "import torch.optim as optim\n",
    "from torch.utils.data import Dataset, DataLoader\n",
    "from torch.nn.utils.rnn import pad_sequence\n",
    "import nltk\n",
    "from nltk.translate.bleu_score import corpus_bleu, sentence_bleu, SmoothingFunction\n",
    "from transformers import AutoTokenizer\n",
    "from transformers.optimization import Adafactor\n",
    "from datasets import load_dataset\n",
    "import random\n",
    "import time\n",
    "import numpy as np\n",
    "from tqdm.auto import tqdm\n",
    "\n",
    "# Set seeds for reproducibility\n",
    "seed = 2025\n",
    "random.seed(seed)\n",
    "np.random.seed(seed)\n",
    "torch.manual_seed(seed)\n",
    "if torch.cuda.is_available():\n",
    "    torch.cuda.manual_seed(seed)\n",
    "\n",
    "# Set device\n",
    "device = torch.device('cuda' if torch.cuda.is_available() else 'cpu')\n",
    "print(f\"Using device: {device}\")"
   ]
  },
  {
   "cell_type": "markdown",
   "metadata": {
    "id": "9A4GbQYfb5mU"
   },
   "source": [
    "## Part 2. (1) Load the California State bill subset of the BillSum dataset from HuggingFace.\n",
    "Do the following:\n",
    "- Load the test split as your entire dataset for this task.\n",
    "- Split the dataset into a train and test set with the train test split method."
   ]
  },
  {
   "cell_type": "code",
   "execution_count": null,
   "metadata": {
    "colab": {
     "base_uri": "https://localhost:8080/"
    },
    "id": "y_TcwVhwWka0",
    "outputId": "a5fa4244-d1ce-4884-f6bf-079e721276af"
   },
   "outputs": [],
   "source": [
    "# download and load the data\n",
    "# https://huggingface.co/docs/transformers/main/en/tasks/summarization\n",
    "nltk.download('punkt')\n",
    "nltk.download('punkt_tab')\n",
    "billsum = load_dataset(\"billsum\", split=\"ca_test\").train_test_split(\n",
    "  test_size=0.2, seed=seed\n",
    ")\n",
    "billsum_train, billsum_test = billsum[\"train\"], billsum[\"test\"]"
   ]
  },
  {
   "cell_type": "markdown",
   "metadata": {
    "id": "8hFnAwP3KFj0"
   },
   "source": [
    "## Part 2. (2) Use the number of neurons, dropout, and your selection of RNN architecture.\n",
    "NOTE: Report BLEU as the model’s performance."
   ]
  },
  {
   "cell_type": "code",
   "execution_count": null,
   "metadata": {
    "id": "Imce836yOulb"
   },
   "outputs": [],
   "source": [
    "import torch\n",
    "from torch.utils.data import Dataset\n",
    "\n",
    "# Minimal custom dataset for seq2seq tasks\n",
    "class Seq2SeqDataset(Dataset):\n",
    "    def __init__(self, data, combination):\n",
    "        data = data.map(self.preprocess, combination)\n",
    "        self.input_ids = data[\"input_ids\"]\n",
    "        self.labels = data[\"labels\"]\n",
    "\n",
    "    def __len__(self):\n",
    "        return len(self.input_ids)\n",
    "\n",
    "    def __getitem__(self, idx):\n",
    "        return {\n",
    "            \"input_ids\": torch.tensor(self.input_ids[idx], dtype=torch.long),\n",
    "            \"labels\": torch.tensor(self.labels[idx], dtype=torch.long)\n",
    "        }\n",
    "\n",
    "    def preprocess(\n",
    "        self, example, input_max_length=1024, summary_max_length=128\n",
    "    ):\n",
    "      input_text = \"summarize the legal document: \" + example[\"text\"]\n",
    "      tokenized_input = tokenizer.encode_plus(\n",
    "          input_text,\n",
    "          max_length=input_max_length,\n",
    "          truncation=True,\n",
    "          padding=\"max_length\"\n",
    "      )\n",
    "      tokenized_summary = tokenizer.encode_plus(\n",
    "          example[\"summary\"],\n",
    "          max_length=summary_max_length,\n",
    "          truncation=True,\n",
    "          padding=\"max_length\"\n",
    "      )\n",
    "      return {\n",
    "          \"input_ids\": tokenized_input[\"input_ids\"],\n",
    "          \"labels\": tokenized_summary[\"input_ids\"]\n",
    "      }"
   ]
  },
  {
   "cell_type": "code",
   "execution_count": null,
   "metadata": {
    "id": "-TqXDTwjOzV6"
   },
   "outputs": [],
   "source": [
    "import torch.nn as nn\n",
    "\n",
    "# Minimal seq2seq model using LSTM for both encoder and decoder.\n",
    "class Seq2SeqModel(nn.Module):\n",
    "    def __init__(self, vocab_size, embed_size, hidden_size, dropout=0.1):\n",
    "        super(Seq2SeqModel, self).__init__()\n",
    "        self.embedding = nn.Embedding(vocab_size, embed_size)\n",
    "        self.encoder = nn.LSTM(embed_size, hidden_size, batch_first=True)\n",
    "        self.decoder = nn.LSTM(embed_size, hidden_size, batch_first=True)\n",
    "        self.output_layer = nn.Linear(hidden_size, vocab_size)\n",
    "        self.dropout = nn.Dropout(dropout)\n",
    "\n",
    "    def forward(self, src, tgt):\n",
    "        # Encode source sequence\n",
    "        src_emb = self.dropout(self.embedding(src))\n",
    "        _, (h, c) = self.encoder(src_emb)\n",
    "\n",
    "        # Decode target sequence\n",
    "        tgt_emb = self.dropout(self.embedding(tgt))\n",
    "        dec_out, _ = self.decoder(tgt_emb, (h, c))\n",
    "        logits = self.output_layer(dec_out)\n",
    "        return logits\n"
   ]
  },
  {
   "cell_type": "markdown",
   "metadata": {
    "id": "Rge95IdvKFj3"
   },
   "source": [
    "## Part 2. (3) Vary the input seq length by truncating the main text and the summary text.\n",
    "We will determine how these lengths impact the model's performance:\n",
    "- Main Text Lengths: 1024, 2048\n",
    "- Summary Text Lengths: 128, 256"
   ]
  },
  {
   "cell_type": "code",
   "execution_count": null,
   "metadata": {
    "id": "adB7yjyWO-AY"
   },
   "outputs": [],
   "source": [
    "def train_model(model, train_loader, optimizer, criterion, device, epochs=3):\n",
    "    model.train()\n",
    "    for epoch in range(epochs):\n",
    "        epoch_loss = 0.0\n",
    "        for batch in train_loader:\n",
    "            # Move batch data to device\n",
    "            src = batch[\"input_ids\"].to(device)\n",
    "            labels = batch[\"labels\"].to(device)\n",
    "\n",
    "            # Prepare decoder input (all tokens except the last)\n",
    "            # and target (all tokens except the first)\n",
    "            dec_in = labels[:, :-1]\n",
    "            dec_target = labels[:, 1:]\n",
    "\n",
    "            optimizer.zero_grad()\n",
    "            # Forward pass\n",
    "            logits = model(src, dec_in)\n",
    "            # Flatten outputs and targets for loss computation\n",
    "            logits = logits.reshape(-1, logits.size(-1))\n",
    "            dec_target = dec_target.reshape(-1)\n",
    "\n",
    "            loss = criterion(logits, dec_target)\n",
    "            loss.backward()\n",
    "            optimizer.step()\n",
    "            epoch_loss += loss.item()\n",
    "\n",
    "        print(f\"Epoch {epoch+1}/{epochs} - Loss: {epoch_loss / len(train_loader):.4f}\")\n"
   ]
  },
  {
   "cell_type": "code",
   "execution_count": null,
   "metadata": {
    "id": "I43Fn3DiPAgy"
   },
   "outputs": [],
   "source": [
    "import nltk\n",
    "from nltk.translate.bleu_score import corpus_bleu, SmoothingFunction\n",
    "\n",
    "def evaluate_bleu(model, test_loader, tokenizer, device):\n",
    "    model.eval()\n",
    "    predictions = []\n",
    "    references = []\n",
    "\n",
    "    smoothing = SmoothingFunction().method1\n",
    "\n",
    "    with torch.no_grad():\n",
    "        for batch in test_loader:\n",
    "            # Move batch data to device.\n",
    "            src = batch[\"input_ids\"].to(device)\n",
    "            labels = batch[\"labels\"].to(device)\n",
    "\n",
    "            # Prepare decoder input by taking labels excluding the last token.\n",
    "            decoder_input = labels[:, :-1]\n",
    "\n",
    "            # Forward pass through the model.\n",
    "            outputs = model(src, decoder_input)\n",
    "            # Get predicted token IDs by taking argmax over the vocabulary dimension.\n",
    "            pred_ids = torch.argmax(outputs, dim=-1)\n",
    "\n",
    "            # Decode predictions and references.\n",
    "            decoded_preds = tokenizer.batch_decode(pred_ids, skip_special_tokens=True)\n",
    "            decoded_refs = tokenizer.batch_decode(labels, skip_special_tokens=True)\n",
    "\n",
    "            predictions.extend(decoded_preds)\n",
    "            # For corpus_bleu, each reference must be a list of reference strings (even if only one reference per prediction)\n",
    "            references.extend([[ref] for ref in decoded_refs])\n",
    "\n",
    "    # Compute corpus-level BLEU score using equal weights for 1-gram to 4-gram.\n",
    "    bleu_score = corpus_bleu(references, predictions, weights=(0.25, 0.25, 0.25, 0.25), smoothing_function=smoothing)\n",
    "    print(f\"NLTK BLEU Score: {bleu_score:.4f}\")\n",
    "    return bleu_score"
   ]
  },
  {
   "cell_type": "code",
   "execution_count": null,
   "metadata": {
    "id": "HLEcFHztVUiB"
   },
   "outputs": [],
   "source": [
    "from torch.nn.utils.rnn import pad_sequence\n",
    "\n",
    "def dynamic_collate_fn(batch):\n",
    "    input_ids_list = []\n",
    "    labels_list = []\n",
    "    for item in batch:\n",
    "        # If already a tensor, simply use .clone().detach() to avoid the warning;\n",
    "        # otherwise, convert the list to tensor.\n",
    "        if isinstance(item[\"input_ids\"], torch.Tensor):\n",
    "            input_ids_list.append(item[\"input_ids\"].clone().detach())\n",
    "        else:\n",
    "            input_ids_list.append(torch.tensor(item[\"input_ids\"], dtype=torch.long))\n",
    "\n",
    "        if isinstance(item[\"labels\"], torch.Tensor):\n",
    "            labels_list.append(item[\"labels\"].clone().detach())\n",
    "        else:\n",
    "            labels_list.append(torch.tensor(item[\"labels\"], dtype=torch.long))\n",
    "\n",
    "    padded_input_ids = pad_sequence(input_ids_list, batch_first=True, padding_value=tokenizer.pad_token_id)\n",
    "    padded_labels = pad_sequence(labels_list, batch_first=True, padding_value=tokenizer.pad_token_id)\n",
    "\n",
    "    return {\"input_ids\": padded_input_ids, \"labels\": padded_labels}\n"
   ]
  },
  {
   "cell_type": "code",
   "execution_count": null,
   "metadata": {
    "colab": {
     "base_uri": "https://localhost:8080/",
     "height": 503,
     "referenced_widgets": [
      "ddc6be9cb84a4c01bdd2fa87e508e3fd",
      "fcad9f7a7f4f4d39b6035785a3bf5177",
      "ea793f960e10452c94b7bce844f2a705",
      "b7dbb10061634c7ebc734e9fa3f8fa66",
      "08429b709b9d4c1ca214fd34c1292712",
      "90c8e3afe023472e87bb799afd50c51e",
      "513ae2feb67f45378765fb6fcdefdd9f",
      "5b939b69eb224402a7ef190292b96dca",
      "38f12d5ee6964a828d2d001bce5477fe",
      "5845084339e444f787ec5d115465e134",
      "5e3892f5ac644ce5b39954cfe95f1c60",
      "7c6d83325c9a4710933f3a49822bd8f7",
      "4d45d0eef0844cd7bed260436eb97ed9",
      "5456124a5f114c00a79e9647f61586a4",
      "3d32b4f2f8f1454cb591a41a3d7a66fb",
      "8fd2ac4387d34116b8f9daf1e5436f23",
      "9c047623ea3e46a0b68cc19e41506504",
      "d82e17fbc6e044d1ada619819a6adec9",
      "531ba977e1fe4d1b83738c0b2f99cd27",
      "ea016fd4238e41588b7e88c16c37ff16",
      "f850ae7072ca4f61ae52744b8e8e9e61",
      "fd925f952d784c6098754f81d10d16b2",
      "0c8abcdc82b945808abe0721fa836a27",
      "afc224d28d90423dba880db8d1321685",
      "3bcfd74f96f1463fb86c7d2242be4a82",
      "99e3f09b6ae447498004460589ffdd77",
      "c063ab7bf84145efbd5159f68f89f6b0",
      "a6797626e331418eb0bcde3c62af293d",
      "1dfcfab468d940199d57aa968dea7ba3",
      "4924cb84a6354f6886e584632a4a5ba7",
      "63f7a66b25fd49718fd6546c0125c46a",
      "d427bd1df255478eb914cad77bb6225d",
      "65b72014893742bdb85b020f61f7531c",
      "56fe82c663254076a4beab06a07d3b52",
      "8b8d80d57ddb469da146b568ab9e7df3",
      "2a08096525d04ebb8ff343b662e49412",
      "00232a513cf543f9aed1d673ed81b7d6",
      "929c4b3a7cd944c48e3051b42a7c707b",
      "d9bbe4994249477ab2f37c3432ae4572",
      "6352d15ccb9642b996a3b614fdb6eb31",
      "5707e74e1afd46bbac98cbd7eb1b3b29",
      "0765426baae64537958289b7041b21e0",
      "1096b329a0d54116bee55a14a2d777f1",
      "60266544f67b488a8cc6db4c8cbdffdc",
      "891100f4939b46e1ad6f0066d12ff86d",
      "2fb3d857dce94dd1a0872991c3870e85",
      "3ad7a44356fe4a5d9a5fa7227e37d147",
      "1bcdc2d90a42457fbd49b3849f9267c2",
      "86a428842eb74d3cbd3c7fc1b1824849",
      "48f459156b5e485998190717c7d6c4ca",
      "df15841a62214508aa90851991917637",
      "986bf52e73564b1099b57c71974292c9",
      "9bb0af75ac5a41b3816ea020f6a97b5c",
      "d0f4cf168791448ea574e9acf63f7f00",
      "6793761cec3b420ea7982ea3dda5b78d",
      "4c6aeea065d24aacb1fdc742c0481f24",
      "6c84d63dce2d405794284e2198d46c61",
      "839997e288534d1aab428c3da292d62d",
      "30801bef32e042dea82a507e113128a7",
      "18617822cffe474383b0e3ab1ec2f99e",
      "58a6cf2e84e8454e8103018c7588ea18",
      "d73770f9f2d04956b83e12d1b1dc5977",
      "7972ad7df8ec4f198bb3d9545be17cce",
      "5c02ca0911034064bf3cbfbcbba562c7",
      "0a52cd83c35644f89c1f26f64b307acc",
      "e0a48b4828f74eac83f31b02ef1acde9"
     ]
    },
    "id": "eReY7-HpPDE7",
    "outputId": "3ea0d5e3-d7f4-44b8-b0ac-fe76c8a9bd2a"
   },
   "outputs": [],
   "source": [
    "from torch.utils.data import DataLoader\n",
    "\n",
    "\n",
    "checkpoint = \"google-t5/t5-small\"\n",
    "tokenizer = AutoTokenizer.from_pretrained(checkpoint)\n",
    "\n",
    "seq_length_combinations = [\n",
    "    {'input_max_length': 1024, 'summary_max_length': 128},\n",
    "    {'input_max_length': 1024, 'summary_max_length': 256},\n",
    "    {'input_max_length': 2048, 'summary_max_length': 128},\n",
    "    {'input_max_length': 2048, 'summary_max_length': 256},\n",
    "]\n",
    "\n",
    "for seq_length_combination in seq_length_combinations:\n",
    "  train_dataset = Seq2SeqDataset(billsum_train, seq_length_combination)\n",
    "  test_dataset = Seq2SeqDataset(billsum_test, seq_length_combination)\n",
    "  train_loader = DataLoader(train_dataset, batch_size=8, shuffle=True, collate_fn=dynamic_collate_fn)\n",
    "  test_loader  = DataLoader(test_dataset, batch_size=8, shuffle=False, collate_fn=dynamic_collate_fn)\n",
    "\n",
    "\n",
    "  device = torch.device(\"cuda\")\n",
    "  vocab_size = tokenizer.vocab_size\n",
    "  embed_size = 256\n",
    "  hidden_size = 512\n",
    "\n",
    "  model = Seq2SeqModel(\n",
    "      vocab_size, embed_size, hidden_size, dropout=0.1\n",
    "  ).to(device)\n",
    "  optimizer = torch.optim.Adam(model.parameters(), lr=0.001)\n",
    "  criterion = nn.CrossEntropyLoss(ignore_index=tokenizer.pad_token_id)\n",
    "\n",
    "  train_model(model, train_loader, optimizer, criterion, device, epochs=3)\n",
    "  _ = evaluate_bleu(model, test_loader, tokenizer, device)\n"
   ]
  },
  {
   "cell_type": "markdown",
   "metadata": {
    "id": "3GVX0noXKFj3"
   },
   "source": [
    "## Part 2. (3) How does the sequence length impact the model’s performance?\n",
    "**Answer:** The largest impact on the BLEU score was due to increasing the summary length from 128 to 256."
   ]
  }
 ],
 "metadata": {
  "accelerator": "GPU",
  "colab": {
   "gpuType": "T4",
   "provenance": []
  },
  "kernelspec": {
   "display_name": "Python 3 (ipykernel)",
   "language": "python",
   "name": "python3"
  },
  "language_info": {
   "codemirror_mode": {
    "name": "ipython",
    "version": 3
   },
   "file_extension": ".py",
   "mimetype": "text/x-python",
   "name": "python",
   "nbconvert_exporter": "python",
   "pygments_lexer": "ipython3",
   "version": "3.10.12"
  }
 },
 "nbformat": 4,
 "nbformat_minor": 0
}
