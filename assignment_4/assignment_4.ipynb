{
  "nbformat": 4,
  "nbformat_minor": 0,
  "metadata": {
    "colab": {
      "provenance": []
    },
    "kernelspec": {
      "name": "python3",
      "display_name": "Python 3"
    },
    "language_info": {
      "name": "python"
    }
  },
  "cells": [
    {
      "cell_type": "markdown",
      "source": [
        "# Assignment-4 COMP-5630 Jacob Murrah\n",
        "## README\n",
        "This notebook implements...\n",
        "\n",
        "## Dependencies\n",
        "- **Python 3.x**\n",
        "- **pandas**\n",
        "- **numpy**\n",
        "- **matplotlib**\n",
        "- **sklearn**\n",
        "\n",
        "*Note: If you are running this notebook in Google Colab, all the required packages are pre-installed.*\n",
        "\n",
        "## Instructions\n",
        "1. **Run All Cells:** Please click on \\\"Runtime\\\" > \\\"Run all\\\" to execute the entire notebook sequentially.\n",
        "2. **Review the Outputs:** The notebook is organized into several sections. Ensure that all cells run without errors.\n"
      ],
      "metadata": {
        "id": "vGkFVFRwpy6N"
      }
    },
    {
      "cell_type": "code",
      "source": [
        "import matplotlib.pyplot as plt\n",
        "import numpy as np\n",
        "import pandas as pd"
      ],
      "metadata": {
        "id": "QdvYKw33qaro"
      },
      "execution_count": 3,
      "outputs": []
    },
    {
      "cell_type": "markdown",
      "source": [
        "# Part 1. Naive Bayes\n",
        "See the attached housing data (Asssignment4_Data.xlsx). Each tab in the Excel file contains training and test splits. Your goal is to construct a Naïve Bayes classifier for this data."
      ],
      "metadata": {
        "id": "an9gWcrYrCKM"
      }
    },
    {
      "cell_type": "code",
      "execution_count": 4,
      "metadata": {
        "id": "ydK-9skwpQQI"
      },
      "outputs": [],
      "source": [
        "train_data = pd.read_excel(\"Asssignment4_Data.xlsx\", sheet_name=\"Train\")\n",
        "test_data = pd.read_excel(\"Asssignment4_Data.xlsx\", sheet_name=\"Test\")"
      ]
    },
    {
      "cell_type": "markdown",
      "source": [
        "## Part 1. (1) Compute and show the conditional probability distribution for each feature.<br>\n",
        "Note: You are expected to do this part of the question by hand.<br>\n",
        "**Answer:**<br>\n",
        "Using Naive Bayes we will predict the price of a house given it's other features. The first step to creating a conditional probability is seperating the housing prices into groups. Since housing prices are continuous I will need to use thresholds to split the housing prices into groups. I choose to split the data into two equal groups (Low and High) with the seperator being the median.<br><br>\n",
        "Median House Price = (5.6039 + 5.8282) / 2 = **5.7161**<br>\n",
        "Low Price House Ids: 1, 2, 3, 4, 5, 6, 8, 12, 15, 16<br>\n",
        "High Price House Ids: 7, 9, 10, 11, 13, 14, 17, 18, 19, 20<br>\n",
        "\n",
        "| Price Category | Prior Probability |\n",
        "| -------------- | ----------------- |\n",
        "| Low Price      | 10/20 = 0.5       |\n",
        "| High Price     | 10/20 = 0.5       |\n",
        "\n",
        "Now I will calculate the conditional probabilities for each feature. For discrete features I will use tables and for continuous features I will use assume normality and calculate the mean and variance. Note that I will be using Add-One Smoothing for ALL of my calculations.\n",
        "$$P(x_i | y) = \\frac{count(x_i, y) + 1}{count(y) + |V|}$$\n",
        "$$\\bar{x} = \\frac{1}{n} \\sum_{i=1}^{n} x_i$$\n",
        "$$s^2 = \\frac{1}{n - 1} \\sum_{i=1}^{n} \\bigl(x_i - \\bar{x}\\bigr)^2$$\n",
        "\n",
        "**Bathrooms Feature (Discrete)**:\n",
        "\n",
        "| # Bathrooms (LOW PRICE) | Count | P(# Bath = X \\| LOW)  |\n",
        "|-------------------------|-------|-----------------------|\n",
        "| 1                       | 10    | (10+1)/(10+3) ≈ 0.846 |\n",
        "| 1.5                     | 0     | (0+1)/(10+3) ≈ 0.077  |\n",
        "| 2.5                     | 0     | (0+1)/(10+3) ≈ 0.077  |\n",
        "\n",
        "| # Bathrooms (HIGH PRICE) | Count | P(# Bath = X \\| HIGH) |\n",
        "|--------------------------|-------|-----------------------|\n",
        "| 1                        | 5     | (5+1)/(10+3) ≈ 0.462  |\n",
        "| 1.5                      | 3     | (3+1)/(10+3) ≈ 0.308  |\n",
        "| 2.5                      | 2     | (2+1)/(10+3) ≈ 0.231  |\n",
        "\n",
        "<br>**Garages Feature (Discrete)**:\n",
        "\n",
        "| # Garages (LOW PRICE) | Count | P(# Garages = X \\| LOW) |\n",
        "|-----------------------|-------|-------------------------|\n",
        "| 0                     | 3     | (3+1)/(10+4) ≈ 0.286    |\n",
        "| 1                     | 6     | (6+1)/(10+4) ≈ 0.500    |\n",
        "| 1.5                   | 0     | (0+1)/(10+4) ≈ 0.071    |\n",
        "| 2                     | 1     | (1+1)/(10+4) ≈ 0.143    |\n",
        "\n",
        "| # Garages (HIGH PRICE) | Count | P(# Garages = X \\| HIGH) |\n",
        "|------------------------|-------|--------------------------|\n",
        "| 0                      | 0     | (0+1)/(10+4) ≈ 0.071     |\n",
        "| 1                      | 3     | (3+1)/(10+4) ≈ 0.286     |\n",
        "| 1.5                    | 2     | (2+1)/(10+4) ≈ 0.214     |\n",
        "| 2                      | 5     | (5+1)/(10+4) ≈ 0.429     |\n",
        "\n",
        "<br>**Rooms Feature (Discrete)**:\n",
        "\n",
        "| # Rooms (LOW PRICE)     | Count | P(# Rooms = X \\| LOW)  |\n",
        "|-------------------------|-------|------------------------|\n",
        "| 5                       | 1     | (1+1)/(10+6) ≈ 0.125   |\n",
        "| 6                       | 7     | (7+1)/(10+6) ≈ 0.500   |\n",
        "| 7                       | 2     | (2+1)/(10+6) ≈ 0.1875  |\n",
        "| 8                       | 0     | (0+1)/(10+6) ≈ 0.0625  |\n",
        "| 9                       | 0     | (0+1)/(10+6) ≈ 0.0625  |\n",
        "| 10                      | 0     | (0+1)/(10+6) ≈ 0.0625  |\n",
        "\n",
        "| # Rooms (HIGH PRICE)    | Count | P(# Rooms = X \\| HIGH) |\n",
        "|-------------------------|-------|------------------------|\n",
        "| 5                       | 1     | (1+1)/(10+6) ≈ 0.125   |\n",
        "| 6                       | 3     | (3+1)/(10+6) ≈ 0.250   |\n",
        "| 7                       | 3     | (3+1)/(10+6) ≈ 0.250   |\n",
        "| 8                       | 1     | (1+1)/(10+6) ≈ 0.125   |\n",
        "| 9                       | 1     | (1+1)/(10+6) ≈ 0.125   |\n",
        "| 10                      | 1     | (1+1)/(10+6) ≈ 0.125   |\n",
        "\n",
        "<br>**Bedrooms Feature (Discrete)**:\n",
        "\n",
        "| # Bedrooms (LOW PRICE)  | Count | P(# Bedrooms = X \\| LOW) |\n",
        "|-------------------------|-------|--------------------------|\n",
        "| 2                       | 1     | (1+1)/(10+4) ≈ 0.143     |\n",
        "| 3                       | 7     | (7+1)/(10+4) ≈ 0.571     |\n",
        "| 4                       | 2     | (2+1)/(10+4) ≈ 0.214     |\n",
        "| 5                       | 0     | (0+1)/(10+4) ≈ 0.0714    |\n",
        "\n",
        "| # Bedrooms (HIGH PRICE) | Count | P(# Bedrooms = X \\| HIGH) |\n",
        "|-------------------------|-------|---------------------------|\n",
        "| 2                       | 1     | (1+1)/(10+4) ≈ 0.143      |\n",
        "| 3                       | 6     | (6+1)/(10+4) ≈ 0.500      |\n",
        "| 4                       | 1     | (1+1)/(10+4) ≈ 0.143      |\n",
        "| 5                       | 2     | (2+1)/(10+4) ≈ 0.214      |\n",
        "\n",
        "<br>**Construction Type Feature (Discrete)**:\n",
        "\n",
        "| Construction Type (LOW PRICE) | Count | P(Construction Type = X \\| LOW)  |\n",
        "|-------------------------|-------|-----------------------------|\n",
        "| Apartment               | 4     | (4+1)/(10+3) ≈ 0.385        |\n",
        "| Condo                   | 2     | (2+1)/(10+3) ≈ 0.231        |\n",
        "| House                   | 4     | (4+1)/(10+3) ≈ 0.385        |\n",
        "\n",
        "| Construction Type (HIGH PRICE) | Count | P(Construction Type = X \\| HIGH)  |\n",
        "|-------------------------|-------|-----------------------------|\n",
        "| Apartment               | 3     | (3+1)/(10+3) ≈ 0.308 |\n",
        "| Condo                   | 4     | (4+1)/(10+3) ≈ 0.385 |\n",
        "| House                   | 3     | (3+1)/(10+3) ≈ 0.308 |\n",
        "\n",
        "<br>**Land Area Feature (Continuous)**:\n",
        "\n",
        "| Price Type | Sample Mean ($\\bar{x}$)  | Sample Variance ($s^2$)   |\n",
        "|------------|-------|-----------------------|\n",
        "| Low Price  | $\\frac{51.2663}{10}\\approx 5.1267$ | $\\frac{60.1283}{10}\\approx 6.0128$ |\n",
        "| High Price | $\\frac{74.025}{10}\\approx 7.4025$  | $\\frac{53.2068}{10}\\approx 5.3207$ |\n",
        "\n",
        "<br>**Living Area Feature (Continuous)**:\n",
        "\n",
        "| Price Type | Sample Mean ($\\bar{x}$)  | Sample Variance ($s^2$)   |\n",
        "|------------|-------|-----------------------|\n",
        "| Low Price  | $\\frac{12.588}{10}\\approx 1.2588$ | $\\frac{0.5406}{10}\\approx 0.0541$ |\n",
        "| High Price | $\\frac{17.009}{10}\\approx 1.7009$  | $\\frac{6.8197}{10}\\approx 0.682$ |\n",
        "\n",
        "<br>**Age of Home Feature (Continuous)**:\n",
        "\n",
        "| Price Type | Sample Mean ($\\bar{x}$)  | Sample Variance ($s^2$)   |\n",
        "|------------|-------|-----------------------|\n",
        "| Low Price  | $\\frac{436}{10}\\approx 43.6$ | $\\frac{1198.2222}{10}\\approx 119.8222$ |\n",
        "| High Price | $\\frac{313}{10}\\approx 31.3$  | $\\frac{1682.3333}{10}\\approx 168.2333$ |"
      ],
      "metadata": {
        "id": "t_yp_5iprz9M"
      }
    }
  ]
}